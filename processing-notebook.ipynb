{
 "cells": [
  {
   "cell_type": "markdown",
   "id": "f223471a",
   "metadata": {},
   "source": [
    "# Setup\n",
    "Utilizaremos a biblioteca `boto3` para nos comunicarmos com a AWS.\n",
    "\n",
    "Utilizaremos as bibliotecas `pandas` e `pyspark` para lidarmos com nossos dados.\n",
    "\n",
    "Utilizaremos as bibliotecas `matplotlib` e `seaborn` para a análise final."
   ]
  },
  {
   "cell_type": "code",
   "execution_count": 110,
   "id": "f2683da6",
   "metadata": {},
   "outputs": [],
   "source": [
    "import pandas as pd\n",
    "import boto3\n",
    "\n",
    "import matplotlib.pyplot as plt\n",
    "import seaborn as sns\n",
    "\n",
    "import findspark\n",
    "from pyspark.sql import SparkSession\n",
    "import pyspark.sql.functions as F\n",
    "\n",
    "from pyspark import SparkContext"
   ]
  },
  {
   "cell_type": "code",
   "execution_count": 111,
   "id": "6e106465",
   "metadata": {},
   "outputs": [],
   "source": [
    "BUCKET = '896309849144'\n",
    "LAYERS_PREFIX = f'layers'# f's3://{BUCKET}/layers'\n",
    "GOLD = f'{LAYERS_PREFIX}/gold'\n",
    "SILVER = f'{LAYERS_PREFIX}/silver'\n",
    "BRONZE = f'{LAYERS_PREFIX}/bronze'\n",
    "\n",
    "LOCAL_BRONZE = './local/bronze'\n",
    "LOCAL_SILVER = './local/silver'\n",
    "\n",
    "files = [\n",
    "    f'{LOCAL_BRONZE}/PNAD_COVID_092020.csv',\n",
    "    f'{LOCAL_BRONZE}/PNAD_COVID_102020.csv',\n",
    "    f'{LOCAL_BRONZE}/PNAD_COVID_112020.csv']\n"
   ]
  },
  {
   "cell_type": "code",
   "execution_count": 112,
   "id": "922c8c04",
   "metadata": {},
   "outputs": [],
   "source": [
    "s3_client = boto3.client('s3')\n",
    "\n",
    "def upload_to_s3(\n",
    "        file_path : str,\n",
    "        bucket : str,\n",
    "        bucket_path : str):\n",
    "    '''\n",
    "    Uploads file_path to the given bucket, as bucket_path (include the name of the file in bucket_path)\n",
    "    \n",
    "    Parameters\n",
    "    -\n",
    "    file_path : str\n",
    "    bucket : str\n",
    "    bucket_path : str\n",
    "    '''\n",
    "    s3_client.upload_file(file_path, bucket, bucket_path)"
   ]
  },
  {
   "cell_type": "markdown",
   "id": "e4cec076",
   "metadata": {},
   "source": [
    "# 0. Ingestion\n",
    "Faremos o upload dos dados brutos extraídos manualmente do IBGE, a um bucket AWS S3 via a biblioteca `boto3`.\n",
    "\n",
    "Conforme o pedido, utilizaremos os últimos 3 meses disponíveis."
   ]
  },
  {
   "cell_type": "code",
   "execution_count": null,
   "id": "d1f84aac",
   "metadata": {},
   "outputs": [],
   "source": [
    "for file in files:\n",
    "    print(file.split('/')[-1])"
   ]
  },
  {
   "cell_type": "markdown",
   "id": "6cc197a3",
   "metadata": {},
   "source": [
    "# 1. Bronze\n",
    "Subindo nossos dados para a AWS"
   ]
  },
  {
   "cell_type": "code",
   "execution_count": null,
   "id": "e7afc1cb",
   "metadata": {},
   "outputs": [],
   "source": [
    "for file in files:\n",
    "    upload_to_s3(\n",
    "        file,\n",
    "        BUCKET,\n",
    "        f'{BRONZE}/{file.split(\"/\")[-1]}')"
   ]
  },
  {
   "cell_type": "markdown",
   "id": "96c60d31",
   "metadata": {},
   "source": [
    "O processo de re-estruturamento dos dados é feito na AWS via `AWS Glue`."
   ]
  },
  {
   "cell_type": "markdown",
   "id": "db59f5fc",
   "metadata": {},
   "source": [
    "# 2. Silver\n",
    "Pegaremos esses dados re-estruturados *silver* e faremos nossas queries via `PySpark`.\n",
    "\n",
    "## Puxando nossos dados do S3"
   ]
  },
  {
   "cell_type": "code",
   "execution_count": null,
   "id": "761da2af",
   "metadata": {},
   "outputs": [],
   "source": [
    "to_download = s3_client.list_objects_v2(\n",
    "    Bucket = BUCKET,\n",
    "    Prefix = SILVER\n",
    ")['Contents'][1:]\n",
    "\n",
    "count = 1\n",
    "\n",
    "for file in to_download:\n",
    "    s3_client.download_file(BUCKET, file['Key'], f'{LOCAL_SILVER}/silver_{count}.parquet')\n",
    "    count+=1"
   ]
  },
  {
   "cell_type": "markdown",
   "id": "929d93b1",
   "metadata": {},
   "source": [
    "## Checando integridade dos dados"
   ]
  },
  {
   "cell_type": "markdown",
   "id": "b78f8149",
   "metadata": {},
   "source": [
    "Comparemos o tamanho da camade bronze original com a camada silver atual para nos certificarmos que o processo de merge ocorreu corretamente"
   ]
  },
  {
   "cell_type": "code",
   "execution_count": 5,
   "id": "84233948",
   "metadata": {},
   "outputs": [
    {
     "data": {
      "text/plain": [
       "1149197"
      ]
     },
     "execution_count": 5,
     "metadata": {},
     "output_type": "execute_result"
    }
   ],
   "source": [
    "df_silver = pd.read_parquet(f'{LOCAL_SILVER}')\n",
    "df_silver.shape[0]"
   ]
  },
  {
   "cell_type": "code",
   "execution_count": 6,
   "id": "0cda0491",
   "metadata": {},
   "outputs": [
    {
     "name": "stdout",
     "output_type": "stream",
     "text": [
      "387298\n",
      "380461\n",
      "381438\n",
      "TOTAL = 1149197\n"
     ]
    }
   ],
   "source": [
    "row_count = 0\n",
    "for f in files[:]:\n",
    "    _ = pd.read_csv(f)\n",
    "    row_count += _.shape[0]\n",
    "\n",
    "    print(_.shape[0])\n",
    "print(f'TOTAL = {row_count}')"
   ]
  },
  {
   "cell_type": "markdown",
   "id": "e4ba14a3",
   "metadata": {},
   "source": [
    "## Carregando nosso Spark DataFrame"
   ]
  },
  {
   "cell_type": "code",
   "execution_count": 290,
   "id": "29fd7deb",
   "metadata": {},
   "outputs": [],
   "source": [
    "findspark.init()\n",
    "\n",
    "sc = SparkContext.getOrCreate()\n",
    "spark = SparkSession.builder.appName('PySpark Dataframe').getOrCreate()"
   ]
  },
  {
   "cell_type": "code",
   "execution_count": 291,
   "id": "2f4bdd35",
   "metadata": {},
   "outputs": [],
   "source": [
    "# import os\n",
    "# print(os.environ['HADOOP_HOME']) \n",
    "# print(os.environ['JAVA_HOME']) "
   ]
  },
  {
   "cell_type": "code",
   "execution_count": 292,
   "id": "e14e11ee",
   "metadata": {},
   "outputs": [],
   "source": [
    "df_silver = spark.read.parquet(LOCAL_SILVER)"
   ]
  },
  {
   "cell_type": "code",
   "execution_count": 293,
   "id": "375bcebb",
   "metadata": {},
   "outputs": [
    {
     "name": "stdout",
     "output_type": "stream",
     "text": [
      "+----+---+-------+-------+-----+-----+-----+-----+-------+---------+-----+-----+------+-----+-----+------+----+-----+------+------+------+----+----+----+----+----+----+----+----+-----+-----+-----+-----+-----+-----+-----+-----+-----+------+------+------+------+----+-----+-----+-----+-----+-----+-----+-----+-----+-----+-----+-----+-----+-----+----+----+----+----+-----+-----+-----+-----+-----+-----+-----+-----+-----+-----+-----+-----+----+----+----+----+----+----+-----+-----+-----+----+----+-----+-----+-----+-----+-----+------+------+-----+----+----+-----+----+-----+------+------+-----+------+------+-----+-----+-----+------+-------+-------+------+-------+-------+----+----+----+----+----+-----+-----+-----+-----+-----+-----+-----+-----+------+-----+------+-----+-----+-----+-----+----+-----+-----+-----+-----+----+-----+-----+------+------+------+------+------+-----+----+---+\n",
      "| ano| uf|capital|rm_ride|v1008|v1012|v1013|v1016|estrato|      upa|v1022|v1023| v1030|v1031|v1032|posest|a001|a001a|a001b1|a001b2|a001b3|a002|a003|a004|a005|a006|a007|a008|a009|b0011|b0012|b0013|b0014|b0015|b0016|b0017|b0018|b0019|b00110|b00111|b00112|b00113|b002|b0031|b0032|b0033|b0034|b0035|b0036|b0037|b0041|b0042|b0043|b0044|b0045|b0046|b005|b006|b007|b008|b009a|b009b|b009c|b009d|b009e|b009f|b0101|b0102|b0103|b0104|b0105|b0106|b011|c001|c002|c003|c004|c005|c0051|c0052|c0053|c006|c007|c007a|c007b|c007c|c007d|c007e|c007e1|c007e2|c007f|c008|c009|c009a|c010|c0101|c01011|c01012|c0102|c01021|c01022|c0103|c0104|c011a|c011a1|c011a11|c011a12|c011a2|c011a21|c011a22|c012|c013|c014|c015|c016|c017a|d0011|d0013|d0021|d0023|d0031|d0033|d0041| d0043|d0051| d0053|d0061|d0063|d0071|d0073|e001|e0021|e0022|e0023|e0024|f001|f0021|f0022|f002a1|f002a2|f002a3|f002a4|f002a5|f0061|f006|mes|\n",
      "+----+---+-------+-------+-----+-----+-----+-----+-------+---------+-----+-----+------+-----+-----+------+----+-----+------+------+------+----+----+----+----+----+----+----+----+-----+-----+-----+-----+-----+-----+-----+-----+-----+------+------+------+------+----+-----+-----+-----+-----+-----+-----+-----+-----+-----+-----+-----+-----+-----+----+----+----+----+-----+-----+-----+-----+-----+-----+-----+-----+-----+-----+-----+-----+----+----+----+----+----+----+-----+-----+-----+----+----+-----+-----+-----+-----+-----+------+------+-----+----+----+-----+----+-----+------+------+-----+------+------+-----+-----+-----+------+-------+-------+------+-------+-------+----+----+----+----+----+-----+-----+-----+-----+-----+-----+-----+-----+------+-----+------+-----+-----+-----+-----+----+-----+-----+-----+-----+----+-----+-----+------+------+------+------+------+-----+----+---+\n",
      "|2020| 11|     11|   NULL|    1|    4|   10|    6|1110011|110015970|    1|    1|152790| NULL| NULL|  1114|   1|    1|     5|     8|  1984|  36|   1|   4|   5|NULL|NULL|NULL|NULL|    2|    2|    2|    2|    2|    2|    2|    2|    2|     2|     2|     2|     2|NULL| NULL| NULL| NULL| NULL| NULL| NULL| NULL| NULL| NULL| NULL| NULL| NULL| NULL|NULL|NULL|   1|   2| NULL| NULL| NULL| NULL| NULL| NULL|    2|    2|    2|    2|    2|    2|   2|   1|NULL|NULL|NULL|NULL| NULL| NULL| NULL|   2|   4| NULL|    1|   35|    6| NULL|  NULL|  NULL| NULL|  48|  48| NULL|   1|    1|     4|  1045| NULL|  NULL|  NULL| NULL| NULL|    1|     1|      4|   1045|  NULL|   NULL|   NULL|   1|NULL|NULL|NULL|NULL| NULL|  2.0| NULL|  2.0| NULL|  2.0| NULL|  2.0|  NULL|  1.0|1200.0|  2.0| NULL|  2.0| NULL|   3| NULL| NULL| NULL| NULL|   1| NULL| NULL|   1.0|     1|     1|     2|     1|    1|   1| 10|\n",
      "|2020| 11|     11|   NULL|    1|    4|   10|    6|1110011|110015970|    1|    1|150739| NULL| NULL|  1124|   2|    2|    18|     8|  1990|  30|   2|   4|   7|NULL|NULL|NULL|NULL|    2|    2|    2|    2|    2|    2|    2|    2|    2|     2|     2|     2|     2|NULL| NULL| NULL| NULL| NULL| NULL| NULL| NULL| NULL| NULL| NULL| NULL| NULL| NULL|NULL|NULL|   2|   2| NULL| NULL| NULL| NULL| NULL| NULL|    2|    2|    2|    2|    2|    2|   2|   1|NULL|NULL|NULL|NULL| NULL| NULL| NULL|   2|   7| NULL| NULL|   27|   20| NULL|  NULL|  NULL| NULL|  36|  36|    2|   1|    1|     4|  1045| NULL|  NULL|  NULL| NULL| NULL|    1|     1|      4|   1045|  NULL|   NULL|   NULL|   1|NULL|   2|NULL|NULL| NULL|  2.0| NULL|  2.0| NULL|  2.0| NULL|  2.0|  NULL|  1.0|1200.0|  2.0| NULL|  2.0| NULL|   3| NULL| NULL| NULL| NULL|   1| NULL| NULL|   1.0|     1|     1|     2|     1|    1|   1| 10|\n",
      "|2020| 11|     11|   NULL|    1|    4|   10|    6|1110011|110015970|    1|    1|144993| NULL| NULL|  1112|   3|    4|    25|    12|  2006|  13|   1|   4|   2|   1|   1|   5|   3|    2|    2|    2|    2|    2|    2|    2|    2|    2|     2|     2|     2|     2|NULL| NULL| NULL| NULL| NULL| NULL| NULL| NULL| NULL| NULL| NULL| NULL| NULL| NULL|NULL|NULL|   1|   2| NULL| NULL| NULL| NULL| NULL| NULL|    2|    2|    2|    2|    2|    2|   4|NULL|NULL|NULL|NULL|NULL| NULL| NULL| NULL|NULL|NULL| NULL| NULL| NULL| NULL| NULL|  NULL|  NULL| NULL|NULL|NULL| NULL|NULL| NULL|  NULL|  NULL| NULL|  NULL|  NULL| NULL| NULL| NULL|  NULL|   NULL|   NULL|  NULL|   NULL|   NULL|NULL|NULL|NULL|NULL|NULL| NULL|  2.0| NULL|  2.0| NULL|  2.0| NULL|  2.0|  NULL|  1.0|1200.0|  2.0| NULL|  2.0| NULL|   3| NULL| NULL| NULL| NULL|   1| NULL| NULL|   1.0|     1|     1|     2|     1|    1|   1| 10|\n",
      "|2020| 11|     11|   NULL|    1|    4|   10|    6|1110011|110015970|    1|    1|144993| NULL| NULL|  1112|   4|    4|    24|     8|  2009|  11|   1|   4|   2|   1|   1|   5|   3|    2|    2|    2|    2|    2|    2|    2|    2|    2|     2|     2|     2|     2|NULL| NULL| NULL| NULL| NULL| NULL| NULL| NULL| NULL| NULL| NULL| NULL| NULL| NULL|NULL|NULL|   1|   2| NULL| NULL| NULL| NULL| NULL| NULL|    2|    2|    2|    2|    2|    2|   4|NULL|NULL|NULL|NULL|NULL| NULL| NULL| NULL|NULL|NULL| NULL| NULL| NULL| NULL| NULL|  NULL|  NULL| NULL|NULL|NULL| NULL|NULL| NULL|  NULL|  NULL| NULL|  NULL|  NULL| NULL| NULL| NULL|  NULL|   NULL|   NULL|  NULL|   NULL|   NULL|NULL|NULL|NULL|NULL|NULL| NULL|  2.0| NULL|  2.0| NULL|  2.0| NULL|  2.0|  NULL|  1.0|1200.0|  2.0| NULL|  2.0| NULL|   3| NULL| NULL| NULL| NULL|   1| NULL| NULL|   1.0|     1|     1|     2|     1|    1|   1| 10|\n",
      "|2020| 11|     11|   NULL|    2|    1|   10|    6|1110011|110015970|    1|    1| 92130| NULL| NULL|  1126|   1|    1|    18|     5|  1963|  57|   2|   1|   2|NULL|NULL|NULL|NULL|    2|    2|    2|    2|    2|    2|    2|    2|    2|     2|     2|     2|     2|NULL| NULL| NULL| NULL| NULL| NULL| NULL| NULL| NULL| NULL| NULL| NULL| NULL| NULL|NULL|NULL|   2|   2| NULL| NULL| NULL| NULL| NULL| NULL|    2|    2|    2|    2|    2|    2|   3|   2|   2|NULL|NULL|NULL| NULL| NULL| NULL|NULL|NULL| NULL| NULL| NULL| NULL| NULL|  NULL|  NULL| NULL|NULL|NULL| NULL|NULL| NULL|  NULL|  NULL| NULL|  NULL|  NULL| NULL| NULL| NULL|  NULL|   NULL|   NULL|  NULL|   NULL|   NULL|NULL|NULL|   2|   2|   1|    1|  2.0| NULL|  2.0| NULL|  2.0| NULL|  1.0|1045.0|  2.0|  NULL|  2.0| NULL|  2.0| NULL|   3| NULL| NULL| NULL| NULL|   1| NULL| NULL|   1.0|     1|     1|     2|     1|    1|   1| 10|\n",
      "+----+---+-------+-------+-----+-----+-----+-----+-------+---------+-----+-----+------+-----+-----+------+----+-----+------+------+------+----+----+----+----+----+----+----+----+-----+-----+-----+-----+-----+-----+-----+-----+-----+------+------+------+------+----+-----+-----+-----+-----+-----+-----+-----+-----+-----+-----+-----+-----+-----+----+----+----+----+-----+-----+-----+-----+-----+-----+-----+-----+-----+-----+-----+-----+----+----+----+----+----+----+-----+-----+-----+----+----+-----+-----+-----+-----+-----+------+------+-----+----+----+-----+----+-----+------+------+-----+------+------+-----+-----+-----+------+-------+-------+------+-------+-------+----+----+----+----+----+-----+-----+-----+-----+-----+-----+-----+-----+------+-----+------+-----+-----+-----+-----+----+-----+-----+-----+-----+----+-----+-----+------+------+------+------+------+-----+----+---+\n",
      "only showing top 5 rows\n",
      "\n"
     ]
    }
   ],
   "source": [
    "df_silver.show(5)"
   ]
  },
  {
   "cell_type": "markdown",
   "id": "7d9b57c3",
   "metadata": {},
   "source": [
    "## Manipulação"
   ]
  },
  {
   "cell_type": "markdown",
   "id": "29169435",
   "metadata": {},
   "source": [
    "### Selecionamento das perguntas\n",
    "Foi requesitado a utilização de no máximo 20 perguntas da pesquisa. Seguem as selecionadas abaixo.\n",
    "- `UF` Unidade da Federação\n",
    " - `V1022` Situação de Domicílio\n",
    " - `V1030` Projeção da população \n",
    " - `A002` Qual sua idade?\n",
    " - `A004` Cor ou raça:\n",
    " - `A007` Na semana passada, foram disponibilizadas teve atividades escolares para realizar em casa (aulas online, deveres, estudo dirigido etc.)? \n",
    " - `A005` Qual sua escolaridade?\n",
    " - `B002` Por causa (de sintomas), foi a algum estabelecimento de saúde?\n",
    " - `B007` O(A) Sr(a) tem algum plano de saúde médico, seja particular, de empresa ou de órgão público?\n",
    " - `B009B` (SWAB) Qual o resultado?\n",
    " - `B009D` (Furo no dedo) Qual o resultado?\n",
    " - `B009F` (Veia no braço) Qual o resultado?\n",
    " - `B010` Algum médico já lhe deu o diagnóstico de alguma dessas doenças?\n",
    " - `B011` Na semana passada, devido à pandemia do Coronavírus, em que medida o(a) Sr(a) restringiu o contato com as pessoas?\n",
    " - `C001` Na semana passada, por pelo menos uma hora, o(a) Sr(a) trabalhou ou fez algum bico?\n",
    " - `C003` Qual o principal motivo deste afastamento temporário?\n",
    " - `C007` No trabalho (único ou principal) que tinha nessa semana, o(a) Sr(a) era:\n",
    " - `C010` Número de faixa do rendimento / retirada em dinheiro (NORMALMENTE)\n",
    " - `C011` Número de faixa do rendimento / retirada em dinheiro (NO MES ATUAL)\n",
    " - `C013` Na semana passada, o(a) Sr(a) estava em trabalho remoto (home office ou teletrabalho)? (C013)"
   ]
  },
  {
   "cell_type": "code",
   "execution_count": 294,
   "id": "20e3493d",
   "metadata": {},
   "outputs": [],
   "source": [
    "selected_cols = {\n",
    "    'mes':'mes',\n",
    "    'uf':'uf',\n",
    "    'v1022':'situacao_domicilio',\n",
    "    'v1030':'proj_populacao',\n",
    "    'a002':'idade',\n",
    "    'a004':'cor',\n",
    "    'a007':'aulas_online',\n",
    "    'a005':'escolaridade',\n",
    "    'b002':'foi_a_estabelecimento_saude',\n",
    "    'b007':'plano_saude',\n",
    "    'b009b':'teste_resultado_swab',\n",
    "    'b009d':'teste_resultado_furo',\n",
    "    'b009f':'teste_resultado_braco',\n",
    "    'b0101':'diagnostico_diabetes',\n",
    "    'b0102':'diagnostico_hipertensao',\n",
    "    'b0103':'diagnostico_respiratorias',\n",
    "    'b0104':'diagnostico_cardiacas',\n",
    "    'b0105':'diagnostico_depressao',\n",
    "    'b0106':'diagnostico_cancer',\n",
    "    'b011':'contato_reduzido',\n",
    "    'c001':'trabalhou',\n",
    "    'c003':'afastamento_motivo',\n",
    "    'c007':'trabalho_funcao',\n",
    "    'c01011':'rendimento_regular',\n",
    "    'c011a11':'rendimento_real',\n",
    "    'c013':'home_office'\n",
    "}"
   ]
  },
  {
   "cell_type": "code",
   "execution_count": 295,
   "id": "5a2c5117",
   "metadata": {},
   "outputs": [
    {
     "name": "stdout",
     "output_type": "stream",
     "text": [
      "+---+---+-----+------+----+----+----+----+----+----+-----+-----+-----+-----+-----+-----+-----+-----+-----+----+----+----+----+------+-------+----+\n",
      "|mes| uf|v1022| v1030|a002|a004|a007|a005|b002|b007|b009b|b009d|b009f|b0101|b0102|b0103|b0104|b0105|b0106|b011|c001|c003|c007|c01011|c011a11|c013|\n",
      "+---+---+-----+------+----+----+----+----+----+----+-----+-----+-----+-----+-----+-----+-----+-----+-----+----+----+----+----+------+-------+----+\n",
      "| 10| 11|    1|152790|  36|   4|NULL|   5|NULL|   1| NULL| NULL| NULL|    2|    2|    2|    2|    2|    2|   2|   1|NULL|   4|     4|      4|NULL|\n",
      "| 10| 11|    1|150739|  30|   4|NULL|   7|NULL|   2| NULL| NULL| NULL|    2|    2|    2|    2|    2|    2|   2|   1|NULL|   7|     4|      4|NULL|\n",
      "| 10| 11|    1|144993|  13|   4|   1|   2|NULL|   1| NULL| NULL| NULL|    2|    2|    2|    2|    2|    2|   4|NULL|NULL|NULL|  NULL|   NULL|NULL|\n",
      "| 10| 11|    1|144993|  11|   4|   1|   2|NULL|   1| NULL| NULL| NULL|    2|    2|    2|    2|    2|    2|   4|NULL|NULL|NULL|  NULL|   NULL|NULL|\n",
      "| 10| 11|    1| 92130|  57|   1|NULL|   2|NULL|   2| NULL| NULL| NULL|    2|    2|    2|    2|    2|    2|   3|   2|NULL|NULL|  NULL|   NULL|NULL|\n",
      "+---+---+-----+------+----+----+----+----+----+----+-----+-----+-----+-----+-----+-----+-----+-----+-----+----+----+----+----+------+-------+----+\n",
      "only showing top 5 rows\n",
      "\n"
     ]
    }
   ],
   "source": [
    "df_gold = df_silver.select([c for c in selected_cols.keys()])\n",
    "df_gold.show(5)"
   ]
  },
  {
   "cell_type": "markdown",
   "id": "55aa3897",
   "metadata": {},
   "source": [
    "#### Aplicando dicionários a colunas existentes"
   ]
  },
  {
   "cell_type": "code",
   "execution_count": 296,
   "id": "c8af3898",
   "metadata": {},
   "outputs": [
    {
     "name": "stdout",
     "output_type": "stream",
     "text": [
      "+---+---+------------------+--------------+-----+---+------------+------------+---------------------------+-----------+--------------------+--------------------+---------------------+--------------------+-----------------------+-------------------------+---------------------+---------------------+------------------+----------------+---------+------------------+---------------+------------------+---------------+-----------+\n",
      "|mes| uf|situacao_domicilio|proj_populacao|idade|cor|aulas_online|escolaridade|foi_a_estabelecimento_saude|plano_saude|teste_resultado_swab|teste_resultado_furo|teste_resultado_braco|diagnostico_diabetes|diagnostico_hipertensao|diagnostico_respiratorias|diagnostico_cardiacas|diagnostico_depressao|diagnostico_cancer|contato_reduzido|trabalhou|afastamento_motivo|trabalho_funcao|rendimento_regular|rendimento_real|home_office|\n",
      "+---+---+------------------+--------------+-----+---+------------+------------+---------------------------+-----------+--------------------+--------------------+---------------------+--------------------+-----------------------+-------------------------+---------------------+---------------------+------------------+----------------+---------+------------------+---------------+------------------+---------------+-----------+\n",
      "| 10| 11|                 1|        152790|   36|  4|        NULL|           5|                       NULL|          1|                NULL|                NULL|                 NULL|                   2|                      2|                        2|                    2|                    2|                 2|               2|        1|              NULL|              4|                 4|              4|       NULL|\n",
      "| 10| 11|                 1|        150739|   30|  4|        NULL|           7|                       NULL|          2|                NULL|                NULL|                 NULL|                   2|                      2|                        2|                    2|                    2|                 2|               2|        1|              NULL|              7|                 4|              4|       NULL|\n",
      "| 10| 11|                 1|        144993|   13|  4|           1|           2|                       NULL|          1|                NULL|                NULL|                 NULL|                   2|                      2|                        2|                    2|                    2|                 2|               4|     NULL|              NULL|           NULL|              NULL|           NULL|       NULL|\n",
      "| 10| 11|                 1|        144993|   11|  4|           1|           2|                       NULL|          1|                NULL|                NULL|                 NULL|                   2|                      2|                        2|                    2|                    2|                 2|               4|     NULL|              NULL|           NULL|              NULL|           NULL|       NULL|\n",
      "| 10| 11|                 1|         92130|   57|  1|        NULL|           2|                       NULL|          2|                NULL|                NULL|                 NULL|                   2|                      2|                        2|                    2|                    2|                 2|               3|        2|              NULL|           NULL|              NULL|           NULL|       NULL|\n",
      "+---+---+------------------+--------------+-----+---+------------+------------+---------------------------+-----------+--------------------+--------------------+---------------------+--------------------+-----------------------+-------------------------+---------------------+---------------------+------------------+----------------+---------+------------------+---------------+------------------+---------------+-----------+\n",
      "only showing top 5 rows\n",
      "\n"
     ]
    }
   ],
   "source": [
    "for col in selected_cols.keys():\n",
    "    df_gold = df_gold.withColumnRenamed(col, selected_cols[col])\n",
    "df_gold.show(5)"
   ]
  },
  {
   "cell_type": "code",
   "execution_count": 297,
   "id": "d1d383b5",
   "metadata": {},
   "outputs": [],
   "source": [
    "def convert_columns(\n",
    "        df,\n",
    "        column_to_convert : str,\n",
    "        dict_of_conversion : dict,\n",
    "):\n",
    "    map_col = F.create_map(\n",
    "        [F.lit(x) for i in dict_of_conversion.items() for x in i]\n",
    "    )\n",
    "\n",
    "    df_new = df.withColumn(\n",
    "        column_to_convert,\n",
    "        map_col[F.col(column_to_convert)]\n",
    "    )\n",
    "\n",
    "    return df_new"
   ]
  },
  {
   "cell_type": "code",
   "execution_count": 298,
   "id": "ffddb5ac",
   "metadata": {},
   "outputs": [],
   "source": [
    "#uf\n",
    "current_col = 'uf'\n",
    "current_dict = dict_uf = {\n",
    "    11:'Rondônia',\n",
    "    12:'Acre',\n",
    "    13:'Amazonas',\n",
    "    14:'Roraima',\n",
    "    15:'Pará',\n",
    "    16:'Amapá',\n",
    "    17:'Tocantins',\n",
    "    21:'Maranhão',\n",
    "    22:'Piauí',\n",
    "    23:'Ceará',\n",
    "    24:'Rio Grande do Norte',\n",
    "    25:'Paraíba',\n",
    "    26:'Pernambuco',\n",
    "    27:'Alagoas',\n",
    "    28:'Sergipe',\n",
    "    29:'Bahia',\n",
    "    31:'Minas Gerais',\n",
    "    32:'Espírito Santo',\n",
    "    33:'Rio de Janeiro',\n",
    "    35:'São Paulo',\n",
    "    41:'Paraná',\n",
    "    42:'Santa Catarina',\n",
    "    43:'Rio Grande do Sul',\n",
    "    50:'Mato Grosso do Sul',\n",
    "    51:'Mato Grosso',\n",
    "    52:'Goiás',\n",
    "    53:'Distrito Federal'\n",
    "}\n",
    "df_gold = convert_columns(df_gold, current_col, current_dict)\n",
    "\n",
    "#v1022\n",
    "current_col = 'situacao_domicilio'\n",
    "current_dict = {\n",
    "    1: 'Urbana', 2: 'Rural'\n",
    "}\n",
    "df_gold = convert_columns(df_gold, current_col, current_dict)\n",
    "\n",
    "#a004\n",
    "current_col = 'cor'\n",
    "current_dict = {\n",
    "    1: 'Branca', 2: 'Preta', 3: 'Amarela', 4: 'Parda', 5: 'Indígena', 9: None\n",
    "}\n",
    "df_gold = convert_columns(df_gold, current_col, current_dict)\n",
    "\n",
    "#a005\n",
    "current_col = 'escolaridade'\n",
    "current_dict = {\n",
    "    1: 'Sem instrução', 2: 'Fundamental incompleto', 3: 'Fundamental completo', 4: 'Médio incompleto', 5: 'Médio completo', 6: 'Superior incompleto', 7: 'Superior completo', 8: 'Pós-graduação, mestrado ou doutorado'\n",
    "}\n",
    "df_gold = convert_columns(df_gold, current_col, current_dict)\n",
    "\n",
    "#a007\n",
    "current_col = 'aulas_online'\n",
    "current_dict = {\n",
    "    1: 'Sim, e realizou pelo menos parte', 2: 'Sim, mas não realizou', 3: 'Não', 4: 'Não (férias)'\n",
    "    }\n",
    "df_gold = convert_columns(df_gold, current_col, current_dict)\n",
    "\n",
    "# b002\n",
    "current_col = 'foi_a_estabelecimento_saude'\n",
    "current_dict = {\n",
    "    1: True, 2: False\n",
    "    }\n",
    "df_gold = convert_columns(df_gold, current_col, current_dict)\n",
    "\n",
    "# b007\n",
    "current_col = 'plano_saude'\n",
    "current_dict = {\n",
    "    1: True, 2: False, 9: None\n",
    "    }\n",
    "df_gold = convert_columns(df_gold, current_col, current_dict)\n",
    "\n",
    "# b009b\n",
    "current_col = 'teste_resultado_swab'\n",
    "current_dict = {\n",
    "    1: 'Positivo', 2: 'Negativo', 3: 'Inconclusivo', 4: 'Não recebeu', 9: None\n",
    "    }\n",
    "df_gold = convert_columns(df_gold, current_col, current_dict)\n",
    "\n",
    "# b009d\n",
    "current_col = 'teste_resultado_furo'\n",
    "current_dict = {\n",
    "    1: 'Positivo', 2: 'Negativo', 3: 'Inconclusivo', 4: 'Não recebeu', 9: None\n",
    "    }\n",
    "df_gold = convert_columns(df_gold, current_col, current_dict)\n",
    "\n",
    "# b009d\n",
    "current_col = 'teste_resultado_braco'\n",
    "current_dict = {\n",
    "    1: 'Positivo', 2: 'Negativo', 3: 'Inconclusivo', 4: 'Não recebeu', 9: None\n",
    "    }\n",
    "df_gold = convert_columns(df_gold, current_col, current_dict)\n",
    "\n",
    "# b0101\n",
    "current_col = 'diagnostico_diabetes'\n",
    "current_dict = {\n",
    "    1: True, 2: False, 9: None\n",
    "    }\n",
    "df_gold = convert_columns(df_gold, current_col, current_dict)\n",
    "\n",
    "# b0102\n",
    "current_col = 'diagnostico_hipertensao'\n",
    "current_dict = {\n",
    "    1: True, 2: False, 9: None\n",
    "    }\n",
    "df_gold = convert_columns(df_gold, current_col, current_dict)\n",
    "\n",
    "# b0103\n",
    "current_col = 'diagnostico_respiratorias'\n",
    "current_dict = {\n",
    "    1: True, 2: False, 9: None\n",
    "    }\n",
    "df_gold = convert_columns(df_gold, current_col, current_dict)\n",
    "\n",
    "# b0104\n",
    "current_col = 'diagnostico_cardiacas'\n",
    "current_dict = {\n",
    "    1: True, 2: False, 9: None\n",
    "    }\n",
    "df_gold = convert_columns(df_gold, current_col, current_dict)\n",
    "\n",
    "# b0105\n",
    "current_col = 'diagnostico_depressao'\n",
    "current_dict = {\n",
    "    1: True, 2: False, 9: None\n",
    "    }\n",
    "df_gold = convert_columns(df_gold, current_col, current_dict)\n",
    "\n",
    "# b0106\n",
    "current_col = 'diagnostico_cancer'\n",
    "current_dict = {\n",
    "    1: True, 2: False, 9: None\n",
    "    }\n",
    "df_gold = convert_columns(df_gold, current_col, current_dict)\n",
    "\n",
    "# b011\n",
    "current_col = 'contato_reduzido'\n",
    "current_dict = {\n",
    "    1: 'Sem restrição', 2: 'Reduziu mas continuou saindo', 3: 'Só saiu em caso de necessidade', 4: 'Ficou rigorosamente em casa'\n",
    "    }\n",
    "df_gold = convert_columns(df_gold, current_col, current_dict)\n",
    "\n",
    "# c001\n",
    "current_col = 'trabalhou'\n",
    "current_dict = {\n",
    "    1: True, 2: False\n",
    "    }\n",
    "df_gold = convert_columns(df_gold, current_col, current_dict)\n",
    "\n",
    "# c003\n",
    "current_col = 'afastamento_motivo'\n",
    "current_dict = {\n",
    "    1: 'Quarentena, isolamente ou férias coletivas', 2: 'Férias, folga ou jornada variável', 3: 'Licença maternidade ou paternidade',\n",
    "    4:'Licença remunerada por motivo de saúde ou acidente', 5: 'Outro tipo de licença remunerada',\n",
    "    6: 'Afastamento pela empresa por motivo de gestação, saúde, etc, sem remuneração por instituto de previdência', 7: 'Fatores ocasionais',\n",
    "    }\n",
    "df_gold = convert_columns(df_gold, current_col, current_dict)\n",
    "\n",
    "# c007c\n",
    "current_col = 'trabalho_funcao'\n",
    "current_dict = {\n",
    "    1:'Empregado doméstico, diarista, cozinheiro (em domicílios particulares), ',\n",
    "    2:'Faxineiro, auxiliar de limpeza etc. (em empresa pública ou privada), ',\n",
    "    3:'Auxiliar de escritório, escriturário',\n",
    "    4:'Secretária, recepcionista',\n",
    "    5:'Operador de Telemarketing',\n",
    "    6:'Comerciante (dono do bar, da loja etc.) ',\n",
    "    7:'Balconista, vendedor de loja',\n",
    "    8:'Vendedor a domicílio, representante de vendas, vendedor de catálogo (Avon, Natura etc.)  ',\n",
    "    9:'Vendedor ambulante (feirante, camelô, comerciante de rua, quiosque)',\n",
    "    10:'Cozinheiro e garçom (de restaurantes, empresas)',\n",
    "    11:'Padeiro, açougueiro e doceiro ',\n",
    "    12:'Agricultor, criador de animais, pescador, silvicultor e jardineiro',\n",
    "    13:'Auxiliar da agropecuária (colhedor de frutas, boia fria, etc.)',\n",
    "    14:'Motorista (de aplicativo, de taxi, de van, de mototáxi, de ônibus)',\n",
    "    15:'Motorista de caminhão (caminhoneiro), ',\n",
    "    16:'Motoboy, ',\n",
    "    17:'Entregador de mercadorias (de restaurante, de farmácia, de loja, Uber Eats, IFood, Rappy etc.) ',\n",
    "    18:'Pedreiro, servente de pedreiro, pintor, eletricista, marceneiro',\n",
    "    19:'Mecânico de veículos, máquinas industriais etc.',\n",
    "    20:'Artesão, costureiro e sapateiro',\n",
    "    21:'Cabeleireiro, manicure e afins',\n",
    "    22:'Operador de máquinas, montador na indústria; ',\n",
    "    23:'Auxiliar de produção, de carga e descarga;',\n",
    "    24:'Professor da educação infantil, de ensino fundamental, médio ou superior,',\n",
    "    25:'Pedagogo, professor de idiomas, música, arte e reforço escolar',\n",
    "    26:'Médico, enfermeiro, profissionais de saúde de nível superior',\n",
    "    27:'Técnico, profissional da saúde de nível médio ',\n",
    "    28:'Cuidador de crianças, doentes ou idosos',\n",
    "    29:'Segurança, vigilante, outro trabalhador dos serviços de proteção',\n",
    "    30:'Policial civil',\n",
    "    31:'Porteiro, zelador',\n",
    "    32:'Artista, religioso (padre, pastor etc.)',\n",
    "    33:'Diretor, gerente, cargo político ou comissionado',\n",
    "    34:'Outra profissão de nível superior (advogado, engenheiro, contador, jornalista etc.)',\n",
    "    35:'Outro técnico ou profissional de nível médio',\n",
    "    36:'Outros'\n",
    "    }\n",
    "df_gold = convert_columns(df_gold, current_col, current_dict)\n",
    "\n",
    "# c01011\n",
    "current_col = 'rendimento_regular'\n",
    "current_dict = {\n",
    "    0 : '0 - 100',\n",
    "    1 : '101 - 300',\n",
    "    2 : '301 - 600',\n",
    "    3 : '601 - 800',\n",
    "    4 : '801 - 1.600',\n",
    "    5 : '1.601 - 3.000',\n",
    "    6 : '3.001 - 10.000',\n",
    "    7 : '10.001 - 50.000',\n",
    "    8 : '50.001 - 100.000',\n",
    "    9 : 'Mais de 100.000'\n",
    "    }\n",
    "df_gold = convert_columns(df_gold, current_col, current_dict)\n",
    "\n",
    "# c011a11\n",
    "current_col = 'rendimento_real'\n",
    "current_dict = {\n",
    "    0 : '0 - 100',\n",
    "    1 : '101 - 300',\n",
    "    2 : '301 - 600',\n",
    "    3 : '601 - 800',\n",
    "    4 : '801 - 1.600',\n",
    "    5 : '1.601 - 3.000',\n",
    "    6 : '3.001 - 10.000',\n",
    "    7 : '10.001 - 50.000',\n",
    "    8 : '50.001 - 100.000',\n",
    "    9 : 'Mais de 100.000'\n",
    "    }\n",
    "df_gold = convert_columns(df_gold, current_col, current_dict)\n",
    "\n",
    "# c0013\n",
    "current_col = 'home_office'\n",
    "df_gold.na.fill({current_col : False})\n",
    "current_dict = {\n",
    "    1: True, 2: False, 'NULL': False\n",
    "    }\n",
    "\n",
    "df_gold = convert_columns(df_gold, current_col, current_dict)\n"
   ]
  },
  {
   "cell_type": "code",
   "execution_count": 299,
   "id": "f450b896",
   "metadata": {},
   "outputs": [
    {
     "name": "stdout",
     "output_type": "stream",
     "text": [
      "+---+--------+------------------+--------------+-----+------+--------------------+--------------------+---------------------------+-----------+--------------------+--------------------+---------------------+--------------------+-----------------------+-------------------------+---------------------+---------------------+------------------+--------------------+---------+------------------+--------------------+------------------+---------------+-----------+\n",
      "|mes|      uf|situacao_domicilio|proj_populacao|idade|   cor|        aulas_online|        escolaridade|foi_a_estabelecimento_saude|plano_saude|teste_resultado_swab|teste_resultado_furo|teste_resultado_braco|diagnostico_diabetes|diagnostico_hipertensao|diagnostico_respiratorias|diagnostico_cardiacas|diagnostico_depressao|diagnostico_cancer|    contato_reduzido|trabalhou|afastamento_motivo|     trabalho_funcao|rendimento_regular|rendimento_real|home_office|\n",
      "+---+--------+------------------+--------------+-----+------+--------------------+--------------------+---------------------------+-----------+--------------------+--------------------+---------------------+--------------------+-----------------------+-------------------------+---------------------+---------------------+------------------+--------------------+---------+------------------+--------------------+------------------+---------------+-----------+\n",
      "| 10|Rondônia|            Urbana|        152790|   36| Parda|                NULL|      Médio completo|                       NULL|       true|                NULL|                NULL|                 NULL|               false|                  false|                    false|                false|                false|             false|Reduziu mas conti...|     true|              NULL|Secretária, recep...|       801 - 1.600|    801 - 1.600|       NULL|\n",
      "| 10|Rondônia|            Urbana|        150739|   30| Parda|                NULL|   Superior completo|                       NULL|      false|                NULL|                NULL|                 NULL|               false|                  false|                    false|                false|                false|             false|Reduziu mas conti...|     true|              NULL|Balconista, vende...|       801 - 1.600|    801 - 1.600|       NULL|\n",
      "| 10|Rondônia|            Urbana|        144993|   13| Parda|Sim, e realizou p...|Fundamental incom...|                       NULL|       true|                NULL|                NULL|                 NULL|               false|                  false|                    false|                false|                false|             false|Ficou rigorosamen...|     NULL|              NULL|                NULL|              NULL|           NULL|       NULL|\n",
      "| 10|Rondônia|            Urbana|        144993|   11| Parda|Sim, e realizou p...|Fundamental incom...|                       NULL|       true|                NULL|                NULL|                 NULL|               false|                  false|                    false|                false|                false|             false|Ficou rigorosamen...|     NULL|              NULL|                NULL|              NULL|           NULL|       NULL|\n",
      "| 10|Rondônia|            Urbana|         92130|   57|Branca|                NULL|Fundamental incom...|                       NULL|      false|                NULL|                NULL|                 NULL|               false|                  false|                    false|                false|                false|             false|Só saiu em caso d...|    false|              NULL|                NULL|              NULL|           NULL|       NULL|\n",
      "+---+--------+------------------+--------------+-----+------+--------------------+--------------------+---------------------------+-----------+--------------------+--------------------+---------------------+--------------------+-----------------------+-------------------------+---------------------+---------------------+------------------+--------------------+---------+------------------+--------------------+------------------+---------------+-----------+\n",
      "only showing top 5 rows\n",
      "\n"
     ]
    }
   ],
   "source": [
    "df_gold.show(5)"
   ]
  },
  {
   "cell_type": "markdown",
   "id": "eea96968",
   "metadata": {},
   "source": [
    "### Criando colunas novas"
   ]
  },
  {
   "cell_type": "code",
   "execution_count": 300,
   "id": "9724e9e0",
   "metadata": {},
   "outputs": [],
   "source": [
    "# Dicionários que serão utilizados para NOVAS COLUNAS\n",
    "\n",
    "dict_regiao = {\n",
    "    1: 'Norte',\n",
    "    2: 'Nordeste',\n",
    "    3: 'Sudeste',\n",
    "    4: 'Sul',\n",
    "    5: 'Centro-Oeste'\n",
    "}\n",
    "\n",
    "dict_faixa_populacional = {\n",
    "    1: '5000 ou menos',\n",
    "    2: '5000 - 10000',\n",
    "    3: '10000 - 20000',\n",
    "    4: '20000 - 50000',\n",
    "    5: '50000 - 100000',\n",
    "    6: '100000 - 500000'\n",
    "}"
   ]
  },
  {
   "cell_type": "code",
   "execution_count": 301,
   "id": "5591473d",
   "metadata": {},
   "outputs": [],
   "source": [
    "df_gold = df_gold.withColumn(\n",
    "    'regiao',\n",
    "    F.when(F.col('uf') < 21, dict_regiao[1])\\\n",
    "    .when(F.col('uf') < 31, dict_regiao[2])\\\n",
    "    .when(F.col('uf') < 41, dict_regiao[3])\\\n",
    "    .when(F.col('uf') < 50, dict_regiao[4])\\\n",
    "    .otherwise(dict_regiao[5])\n",
    "    )"
   ]
  },
  {
   "cell_type": "code",
   "execution_count": 302,
   "id": "7b7b1c22",
   "metadata": {},
   "outputs": [
    {
     "name": "stdout",
     "output_type": "stream",
     "text": [
      "+---+--------+------------------+--------------+-----+-----+--------------------+--------------------+---------------------------+-----------+--------------------+--------------------+---------------------+--------------------+-----------------------+-------------------------+---------------------+---------------------+------------------+--------------------+---------+------------------+--------------------+------------------+---------------+-----------+------------+------------------+\n",
      "|mes|      uf|situacao_domicilio|proj_populacao|idade|  cor|        aulas_online|        escolaridade|foi_a_estabelecimento_saude|plano_saude|teste_resultado_swab|teste_resultado_furo|teste_resultado_braco|diagnostico_diabetes|diagnostico_hipertensao|diagnostico_respiratorias|diagnostico_cardiacas|diagnostico_depressao|diagnostico_cancer|    contato_reduzido|trabalhou|afastamento_motivo|     trabalho_funcao|rendimento_regular|rendimento_real|home_office|      regiao|faixa_populacional|\n",
      "+---+--------+------------------+--------------+-----+-----+--------------------+--------------------+---------------------------+-----------+--------------------+--------------------+---------------------+--------------------+-----------------------+-------------------------+---------------------+---------------------+------------------+--------------------+---------+------------------+--------------------+------------------+---------------+-----------+------------+------------------+\n",
      "| 10|Rondônia|            Urbana|        152790|   36|Parda|                NULL|      Médio completo|                       NULL|       true|                NULL|                NULL|                 NULL|               false|                  false|                    false|                false|                false|             false|Reduziu mas conti...|     true|              NULL|Secretária, recep...|       801 - 1.600|    801 - 1.600|       NULL|Centro-Oeste|   100000 - 500000|\n",
      "| 10|Rondônia|            Urbana|        150739|   30|Parda|                NULL|   Superior completo|                       NULL|      false|                NULL|                NULL|                 NULL|               false|                  false|                    false|                false|                false|             false|Reduziu mas conti...|     true|              NULL|Balconista, vende...|       801 - 1.600|    801 - 1.600|       NULL|Centro-Oeste|   100000 - 500000|\n",
      "| 10|Rondônia|            Urbana|        144993|   13|Parda|Sim, e realizou p...|Fundamental incom...|                       NULL|       true|                NULL|                NULL|                 NULL|               false|                  false|                    false|                false|                false|             false|Ficou rigorosamen...|     NULL|              NULL|                NULL|              NULL|           NULL|       NULL|Centro-Oeste|   100000 - 500000|\n",
      "+---+--------+------------------+--------------+-----+-----+--------------------+--------------------+---------------------------+-----------+--------------------+--------------------+---------------------+--------------------+-----------------------+-------------------------+---------------------+---------------------+------------------+--------------------+---------+------------------+--------------------+------------------+---------------+-----------+------------+------------------+\n",
      "only showing top 3 rows\n",
      "\n"
     ]
    }
   ],
   "source": [
    "df_gold = df_gold.withColumn(\n",
    "    'faixa_populacional',\n",
    "    F.when(F.col('proj_populacao') < 5_000, dict_faixa_populacional[1])\\\n",
    "    .when(F.col('proj_populacao') < 10_000, dict_faixa_populacional[2])\\\n",
    "    .when(F.col('proj_populacao') < 20_000, dict_faixa_populacional[3])\\\n",
    "    .when(F.col('proj_populacao') < 50_000, dict_faixa_populacional[4])\\\n",
    "    .when(F.col('proj_populacao') < 100_000, dict_faixa_populacional[5])\\\n",
    "    .when(F.col('proj_populacao') < 500_000, dict_faixa_populacional[6])\\\n",
    "    .otherwise('mais de 500000')\n",
    "    )\n",
    "\n",
    "df_gold.show(3)"
   ]
  },
  {
   "cell_type": "code",
   "execution_count": 303,
   "id": "caa66dcd",
   "metadata": {},
   "outputs": [
    {
     "name": "stdout",
     "output_type": "stream",
     "text": [
      "+---+--------+------------------+--------------+-----+-----+--------------------+--------------------+---------------------------+-----------+--------------------+--------------------+---------------------+--------------------+-----------------------+-------------------------+---------------------+---------------------+------------------+--------------------+---------+------------------+--------------------+------------------+---------------+-----------+------------+------------------+-------------+\n",
      "|mes|      uf|situacao_domicilio|proj_populacao|idade|  cor|        aulas_online|        escolaridade|foi_a_estabelecimento_saude|plano_saude|teste_resultado_swab|teste_resultado_furo|teste_resultado_braco|diagnostico_diabetes|diagnostico_hipertensao|diagnostico_respiratorias|diagnostico_cardiacas|diagnostico_depressao|diagnostico_cancer|    contato_reduzido|trabalhou|afastamento_motivo|     trabalho_funcao|rendimento_regular|rendimento_real|home_office|      regiao|faixa_populacional|teve_sintomas|\n",
      "+---+--------+------------------+--------------+-----+-----+--------------------+--------------------+---------------------------+-----------+--------------------+--------------------+---------------------+--------------------+-----------------------+-------------------------+---------------------+---------------------+------------------+--------------------+---------+------------------+--------------------+------------------+---------------+-----------+------------+------------------+-------------+\n",
      "| 10|Rondônia|            Urbana|        152790|   36|Parda|                NULL|      Médio completo|                       NULL|       true|                NULL|                NULL|                 NULL|               false|                  false|                    false|                false|                false|             false|Reduziu mas conti...|     true|              NULL|Secretária, recep...|       801 - 1.600|    801 - 1.600|       NULL|Centro-Oeste|   100000 - 500000|        false|\n",
      "| 10|Rondônia|            Urbana|        150739|   30|Parda|                NULL|   Superior completo|                       NULL|      false|                NULL|                NULL|                 NULL|               false|                  false|                    false|                false|                false|             false|Reduziu mas conti...|     true|              NULL|Balconista, vende...|       801 - 1.600|    801 - 1.600|       NULL|Centro-Oeste|   100000 - 500000|        false|\n",
      "| 10|Rondônia|            Urbana|        144993|   13|Parda|Sim, e realizou p...|Fundamental incom...|                       NULL|       true|                NULL|                NULL|                 NULL|               false|                  false|                    false|                false|                false|             false|Ficou rigorosamen...|     NULL|              NULL|                NULL|              NULL|           NULL|       NULL|Centro-Oeste|   100000 - 500000|        false|\n",
      "+---+--------+------------------+--------------+-----+-----+--------------------+--------------------+---------------------------+-----------+--------------------+--------------------+---------------------+--------------------+-----------------------+-------------------------+---------------------+---------------------+------------------+--------------------+---------+------------------+--------------------+------------------+---------------+-----------+------------+------------------+-------------+\n",
      "only showing top 3 rows\n",
      "\n"
     ]
    }
   ],
   "source": [
    "df_gold = df_gold.withColumn(\n",
    "    'teve_sintomas',\n",
    "    F.when(F.col('foi_a_estabelecimento_saude') == True, True)\\\n",
    "    .when(F.col('foi_a_estabelecimento_saude') == False, True)\\\n",
    "    .otherwise(False)\n",
    ")\n",
    "\n",
    "df_gold.show(3)"
   ]
  },
  {
   "cell_type": "code",
   "execution_count": 304,
   "id": "94701fb6",
   "metadata": {},
   "outputs": [
    {
     "name": "stdout",
     "output_type": "stream",
     "text": [
      "+---------------------------+-------------+\n",
      "|foi_a_estabelecimento_saude|teve_sintomas|\n",
      "+---------------------------+-------------+\n",
      "|                       true|         true|\n",
      "|                       true|         true|\n",
      "|                       true|         true|\n",
      "|                      false|         true|\n",
      "|                      false|         true|\n",
      "+---------------------------+-------------+\n",
      "\n"
     ]
    }
   ],
   "source": [
    "df_gold.createOrReplaceTempView('gold')\n",
    "\n",
    "spark.sql('''\n",
    "          SELECT foi_a_estabelecimento_saude, teve_sintomas from gold\n",
    "          WHERE foi_a_estabelecimento_saude IS true OR foi_a_estabelecimento_saude IS false\n",
    "          LIMIT 5\n",
    "          ''').show()"
   ]
  },
  {
   "cell_type": "code",
   "execution_count": 305,
   "id": "6a928e9f",
   "metadata": {},
   "outputs": [
    {
     "name": "stdout",
     "output_type": "stream",
     "text": [
      "+---+--------+------------------+--------------+-----+-----+--------------------+--------------------+---------------------------+-----------+--------------------+--------------------+---------------------+--------------------+-----------------------+-------------------------+---------------------+---------------------+------------------+--------------------+---------+------------------+--------------------+------------------+---------------+-----------+------------+------------------+-------------+-----------+\n",
      "|mes|      uf|situacao_domicilio|proj_populacao|idade|  cor|        aulas_online|        escolaridade|foi_a_estabelecimento_saude|plano_saude|teste_resultado_swab|teste_resultado_furo|teste_resultado_braco|diagnostico_diabetes|diagnostico_hipertensao|diagnostico_respiratorias|diagnostico_cardiacas|diagnostico_depressao|diagnostico_cancer|    contato_reduzido|trabalhou|afastamento_motivo|     trabalho_funcao|rendimento_regular|rendimento_real|home_office|      regiao|faixa_populacional|teve_sintomas|teste_feito|\n",
      "+---+--------+------------------+--------------+-----+-----+--------------------+--------------------+---------------------------+-----------+--------------------+--------------------+---------------------+--------------------+-----------------------+-------------------------+---------------------+---------------------+------------------+--------------------+---------+------------------+--------------------+------------------+---------------+-----------+------------+------------------+-------------+-----------+\n",
      "| 10|Rondônia|            Urbana|        152790|   36|Parda|                NULL|      Médio completo|                       NULL|       true|                NULL|                NULL|                 NULL|               false|                  false|                    false|                false|                false|             false|Reduziu mas conti...|     true|              NULL|Secretária, recep...|       801 - 1.600|    801 - 1.600|       NULL|Centro-Oeste|   100000 - 500000|        false|      false|\n",
      "| 10|Rondônia|            Urbana|        150739|   30|Parda|                NULL|   Superior completo|                       NULL|      false|                NULL|                NULL|                 NULL|               false|                  false|                    false|                false|                false|             false|Reduziu mas conti...|     true|              NULL|Balconista, vende...|       801 - 1.600|    801 - 1.600|       NULL|Centro-Oeste|   100000 - 500000|        false|      false|\n",
      "| 10|Rondônia|            Urbana|        144993|   13|Parda|Sim, e realizou p...|Fundamental incom...|                       NULL|       true|                NULL|                NULL|                 NULL|               false|                  false|                    false|                false|                false|             false|Ficou rigorosamen...|     NULL|              NULL|                NULL|              NULL|           NULL|       NULL|Centro-Oeste|   100000 - 500000|        false|      false|\n",
      "+---+--------+------------------+--------------+-----+-----+--------------------+--------------------+---------------------------+-----------+--------------------+--------------------+---------------------+--------------------+-----------------------+-------------------------+---------------------+---------------------+------------------+--------------------+---------+------------------+--------------------+------------------+---------------+-----------+------------+------------------+-------------+-----------+\n",
      "only showing top 3 rows\n",
      "\n"
     ]
    }
   ],
   "source": [
    "df_gold = df_gold.withColumn(\n",
    "    'teste_feito',\n",
    "    F.when(F.col('teste_resultado_swab').isNull(), False)\\\n",
    "    .when(F.col('teste_resultado_furo').isNull(), False)\\\n",
    "    .when(F.col('teste_resultado_braco').isNull(), False)\\\n",
    "    .otherwise(True)\n",
    ")\n",
    "\n",
    "df_gold.show(3)"
   ]
  },
  {
   "cell_type": "code",
   "execution_count": 306,
   "id": "abf305dc",
   "metadata": {},
   "outputs": [
    {
     "name": "stdout",
     "output_type": "stream",
     "text": [
      "+--------------------+--------------------+---------------------+-----------+\n",
      "|teste_resultado_swab|teste_resultado_furo|teste_resultado_braco|teste_feito|\n",
      "+--------------------+--------------------+---------------------+-----------+\n",
      "|            Positivo|            Negativo|             Positivo|       true|\n",
      "|            Positivo|            Positivo|             Positivo|       true|\n",
      "|            Negativo|            Negativo|             Negativo|       true|\n",
      "+--------------------+--------------------+---------------------+-----------+\n",
      "only showing top 3 rows\n",
      "\n"
     ]
    }
   ],
   "source": [
    "df_gold.createOrReplaceTempView('gold')\n",
    "\n",
    "spark.sql('''\n",
    "          SELECT teste_resultado_swab, teste_resultado_furo, teste_resultado_braco, teste_feito FROM gold\n",
    "          WHERE teste_feito = True\n",
    "          LIMIT 10\n",
    "          ''').show(3)"
   ]
  },
  {
   "cell_type": "code",
   "execution_count": 307,
   "id": "3720b38d",
   "metadata": {},
   "outputs": [
    {
     "name": "stdout",
     "output_type": "stream",
     "text": [
      "+---+--------+------------------+--------------+-----+-----+--------------------+--------------------+---------------------------+-----------+--------------------+--------------------+---------------------+--------------------+-----------------------+-------------------------+---------------------+---------------------+------------------+--------------------+---------+------------------+--------------------+------------------+---------------+-----------+------------+------------------+-------------+-----------+--------------+\n",
      "|mes|      uf|situacao_domicilio|proj_populacao|idade|  cor|        aulas_online|        escolaridade|foi_a_estabelecimento_saude|plano_saude|teste_resultado_swab|teste_resultado_furo|teste_resultado_braco|diagnostico_diabetes|diagnostico_hipertensao|diagnostico_respiratorias|diagnostico_cardiacas|diagnostico_depressao|diagnostico_cancer|    contato_reduzido|trabalhou|afastamento_motivo|     trabalho_funcao|rendimento_regular|rendimento_real|home_office|      regiao|faixa_populacional|teve_sintomas|teste_feito|teste_positivo|\n",
      "+---+--------+------------------+--------------+-----+-----+--------------------+--------------------+---------------------------+-----------+--------------------+--------------------+---------------------+--------------------+-----------------------+-------------------------+---------------------+---------------------+------------------+--------------------+---------+------------------+--------------------+------------------+---------------+-----------+------------+------------------+-------------+-----------+--------------+\n",
      "| 10|Rondônia|            Urbana|        152790|   36|Parda|                NULL|      Médio completo|                       NULL|       true|                NULL|                NULL|                 NULL|               false|                  false|                    false|                false|                false|             false|Reduziu mas conti...|     true|              NULL|Secretária, recep...|       801 - 1.600|    801 - 1.600|       NULL|Centro-Oeste|   100000 - 500000|        false|      false|         false|\n",
      "| 10|Rondônia|            Urbana|        150739|   30|Parda|                NULL|   Superior completo|                       NULL|      false|                NULL|                NULL|                 NULL|               false|                  false|                    false|                false|                false|             false|Reduziu mas conti...|     true|              NULL|Balconista, vende...|       801 - 1.600|    801 - 1.600|       NULL|Centro-Oeste|   100000 - 500000|        false|      false|         false|\n",
      "| 10|Rondônia|            Urbana|        144993|   13|Parda|Sim, e realizou p...|Fundamental incom...|                       NULL|       true|                NULL|                NULL|                 NULL|               false|                  false|                    false|                false|                false|             false|Ficou rigorosamen...|     NULL|              NULL|                NULL|              NULL|           NULL|       NULL|Centro-Oeste|   100000 - 500000|        false|      false|         false|\n",
      "+---+--------+------------------+--------------+-----+-----+--------------------+--------------------+---------------------------+-----------+--------------------+--------------------+---------------------+--------------------+-----------------------+-------------------------+---------------------+---------------------+------------------+--------------------+---------+------------------+--------------------+------------------+---------------+-----------+------------+------------------+-------------+-----------+--------------+\n",
      "only showing top 3 rows\n",
      "\n"
     ]
    }
   ],
   "source": [
    "df_gold = df_gold.withColumn(\n",
    "    'teste_positivo',\n",
    "    F.when(F.col('teste_resultado_swab') == 'Positivo', True)\\\n",
    "    .when(F.col('teste_resultado_furo') == 'Positivo', True)\\\n",
    "    .when(F.col('teste_resultado_braco') == 'Positivo',True)\\\n",
    "    .otherwise(False)\n",
    "    )\n",
    "\n",
    "df_gold.show(3)"
   ]
  },
  {
   "cell_type": "code",
   "execution_count": 308,
   "id": "909678a5",
   "metadata": {},
   "outputs": [
    {
     "name": "stdout",
     "output_type": "stream",
     "text": [
      "+--------------+-----------+\n",
      "|teste_positivo|teste_feito|\n",
      "+--------------+-----------+\n",
      "|          true|       true|\n",
      "|          true|      false|\n",
      "|          true|      false|\n",
      "|          true|      false|\n",
      "|          true|      false|\n",
      "|          true|      false|\n",
      "|          true|       true|\n",
      "|          true|      false|\n",
      "|          true|      false|\n",
      "|          true|      false|\n",
      "+--------------+-----------+\n",
      "\n"
     ]
    }
   ],
   "source": [
    "df_gold.createOrReplaceTempView('gold')\n",
    "\n",
    "spark.sql('''\n",
    "          SELECT teste_positivo, teste_feito FROM gold\n",
    "          WHERE teste_resultado_swab = 'Positivo' OR teste_resultado_furo = 'Positivo' OR teste_resultado_braco = 'Positivo'\n",
    "          LIMIT 10\n",
    "          ''').show()"
   ]
  },
  {
   "cell_type": "code",
   "execution_count": 309,
   "id": "416a041a",
   "metadata": {},
   "outputs": [
    {
     "name": "stdout",
     "output_type": "stream",
     "text": [
      "+---+--------+------------------+--------------+-----+-----+--------------------+--------------------+---------------------------+-----------+--------------------+-----------------------+-------------------------+---------------------+---------------------+------------------+--------------------+---------+------------------+--------------------+------------------+---------------+-----------+------------+------------------+-------------+-----------+--------------+\n",
      "|mes|      uf|situacao_domicilio|proj_populacao|idade|  cor|        aulas_online|        escolaridade|foi_a_estabelecimento_saude|plano_saude|diagnostico_diabetes|diagnostico_hipertensao|diagnostico_respiratorias|diagnostico_cardiacas|diagnostico_depressao|diagnostico_cancer|    contato_reduzido|trabalhou|afastamento_motivo|     trabalho_funcao|rendimento_regular|rendimento_real|home_office|      regiao|faixa_populacional|teve_sintomas|teste_feito|teste_positivo|\n",
      "+---+--------+------------------+--------------+-----+-----+--------------------+--------------------+---------------------------+-----------+--------------------+-----------------------+-------------------------+---------------------+---------------------+------------------+--------------------+---------+------------------+--------------------+------------------+---------------+-----------+------------+------------------+-------------+-----------+--------------+\n",
      "| 10|Rondônia|            Urbana|        152790|   36|Parda|                NULL|      Médio completo|                       NULL|       true|               false|                  false|                    false|                false|                false|             false|Reduziu mas conti...|     true|              NULL|Secretária, recep...|       801 - 1.600|    801 - 1.600|       NULL|Centro-Oeste|   100000 - 500000|        false|      false|         false|\n",
      "| 10|Rondônia|            Urbana|        150739|   30|Parda|                NULL|   Superior completo|                       NULL|      false|               false|                  false|                    false|                false|                false|             false|Reduziu mas conti...|     true|              NULL|Balconista, vende...|       801 - 1.600|    801 - 1.600|       NULL|Centro-Oeste|   100000 - 500000|        false|      false|         false|\n",
      "| 10|Rondônia|            Urbana|        144993|   13|Parda|Sim, e realizou p...|Fundamental incom...|                       NULL|       true|               false|                  false|                    false|                false|                false|             false|Ficou rigorosamen...|     NULL|              NULL|                NULL|              NULL|           NULL|       NULL|Centro-Oeste|   100000 - 500000|        false|      false|         false|\n",
      "+---+--------+------------------+--------------+-----+-----+--------------------+--------------------+---------------------------+-----------+--------------------+-----------------------+-------------------------+---------------------+---------------------+------------------+--------------------+---------+------------------+--------------------+------------------+---------------+-----------+------------+------------------+-------------+-----------+--------------+\n",
      "only showing top 3 rows\n",
      "\n"
     ]
    }
   ],
   "source": [
    "df_gold = df_gold.drop(\n",
    "    *['teste_resultado_swab', 'teste_resultado_furo', 'teste_resultado_braco']\n",
    ")\n",
    "\n",
    "df_gold.show(3)"
   ]
  },
  {
   "cell_type": "code",
   "execution_count": 311,
   "id": "80e74cb7",
   "metadata": {},
   "outputs": [
    {
     "name": "stdout",
     "output_type": "stream",
     "text": [
      "+---+--------+------------------+--------------+-----+-----+--------------------+--------------------+---------------------------+-----------+--------------------+-----------------------+-------------------------+---------------------+---------------------+------------------+--------------------+---------+------------------+--------------------+------------------+---------------+-----------+------------+------------------+-------------+-----------+--------------+--------------------+\n",
      "|mes|      uf|situacao_domicilio|proj_populacao|idade|  cor|        aulas_online|        escolaridade|foi_a_estabelecimento_saude|plano_saude|diagnostico_diabetes|diagnostico_hipertensao|diagnostico_respiratorias|diagnostico_cardiacas|diagnostico_depressao|diagnostico_cancer|    contato_reduzido|trabalhou|afastamento_motivo|     trabalho_funcao|rendimento_regular|rendimento_real|home_office|      regiao|faixa_populacional|teve_sintomas|teste_feito|teste_positivo|afastamento_trabalho|\n",
      "+---+--------+------------------+--------------+-----+-----+--------------------+--------------------+---------------------------+-----------+--------------------+-----------------------+-------------------------+---------------------+---------------------+------------------+--------------------+---------+------------------+--------------------+------------------+---------------+-----------+------------+------------------+-------------+-----------+--------------+--------------------+\n",
      "| 10|Rondônia|            Urbana|        152790|   36|Parda|                NULL|      Médio completo|                       NULL|       true|               false|                  false|                    false|                false|                false|             false|Reduziu mas conti...|     true|              NULL|Secretária, recep...|       801 - 1.600|    801 - 1.600|       NULL|Centro-Oeste|   100000 - 500000|        false|      false|         false|               false|\n",
      "| 10|Rondônia|            Urbana|        150739|   30|Parda|                NULL|   Superior completo|                       NULL|      false|               false|                  false|                    false|                false|                false|             false|Reduziu mas conti...|     true|              NULL|Balconista, vende...|       801 - 1.600|    801 - 1.600|       NULL|Centro-Oeste|   100000 - 500000|        false|      false|         false|               false|\n",
      "| 10|Rondônia|            Urbana|        144993|   13|Parda|Sim, e realizou p...|Fundamental incom...|                       NULL|       true|               false|                  false|                    false|                false|                false|             false|Ficou rigorosamen...|     NULL|              NULL|                NULL|              NULL|           NULL|       NULL|Centro-Oeste|   100000 - 500000|        false|      false|         false|               false|\n",
      "+---+--------+------------------+--------------+-----+-----+--------------------+--------------------+---------------------------+-----------+--------------------+-----------------------+-------------------------+---------------------+---------------------+------------------+--------------------+---------+------------------+--------------------+------------------+---------------+-----------+------------+------------------+-------------+-----------+--------------+--------------------+\n",
      "only showing top 3 rows\n",
      "\n"
     ]
    }
   ],
   "source": [
    "df_gold = df_gold.withColumn(\n",
    "    'afastamento_trabalho',\n",
    "    F.when(F.col('afastamento_motivo').isNull(), False).otherwise(True)\n",
    ")\n",
    "\n",
    "df_gold.show(3)"
   ]
  },
  {
   "cell_type": "code",
   "execution_count": 313,
   "id": "5c2f0896",
   "metadata": {},
   "outputs": [
    {
     "name": "stdout",
     "output_type": "stream",
     "text": [
      "+---+--------+------------------+--------------+-----+------+--------------------+--------------------+---------------------------+-----------+--------------------+-----------------------+-------------------------+---------------------+---------------------+------------------+--------------------+---------+------------------+--------------------+------------------+---------------+-----------+------------+------------------+-------------+-----------+--------------+--------------------+--------+\n",
      "|mes|      uf|situacao_domicilio|proj_populacao|idade|   cor|        aulas_online|        escolaridade|foi_a_estabelecimento_saude|plano_saude|diagnostico_diabetes|diagnostico_hipertensao|diagnostico_respiratorias|diagnostico_cardiacas|diagnostico_depressao|diagnostico_cancer|    contato_reduzido|trabalhou|afastamento_motivo|     trabalho_funcao|rendimento_regular|rendimento_real|home_office|      regiao|faixa_populacional|teve_sintomas|teste_feito|teste_positivo|afastamento_trabalho|acima_14|\n",
      "+---+--------+------------------+--------------+-----+------+--------------------+--------------------+---------------------------+-----------+--------------------+-----------------------+-------------------------+---------------------+---------------------+------------------+--------------------+---------+------------------+--------------------+------------------+---------------+-----------+------------+------------------+-------------+-----------+--------------+--------------------+--------+\n",
      "| 10|Rondônia|            Urbana|        152790|   36| Parda|                NULL|      Médio completo|                       NULL|       true|               false|                  false|                    false|                false|                false|             false|Reduziu mas conti...|     true|              NULL|Secretária, recep...|       801 - 1.600|    801 - 1.600|       NULL|Centro-Oeste|   100000 - 500000|        false|      false|         false|               false|    true|\n",
      "| 10|Rondônia|            Urbana|        150739|   30| Parda|                NULL|   Superior completo|                       NULL|      false|               false|                  false|                    false|                false|                false|             false|Reduziu mas conti...|     true|              NULL|Balconista, vende...|       801 - 1.600|    801 - 1.600|       NULL|Centro-Oeste|   100000 - 500000|        false|      false|         false|               false|    true|\n",
      "| 10|Rondônia|            Urbana|        144993|   13| Parda|Sim, e realizou p...|Fundamental incom...|                       NULL|       true|               false|                  false|                    false|                false|                false|             false|Ficou rigorosamen...|     NULL|              NULL|                NULL|              NULL|           NULL|       NULL|Centro-Oeste|   100000 - 500000|        false|      false|         false|               false|   false|\n",
      "| 10|Rondônia|            Urbana|        144993|   11| Parda|Sim, e realizou p...|Fundamental incom...|                       NULL|       true|               false|                  false|                    false|                false|                false|             false|Ficou rigorosamen...|     NULL|              NULL|                NULL|              NULL|           NULL|       NULL|Centro-Oeste|   100000 - 500000|        false|      false|         false|               false|   false|\n",
      "| 10|Rondônia|            Urbana|         92130|   57|Branca|                NULL|Fundamental incom...|                       NULL|      false|               false|                  false|                    false|                false|                false|             false|Só saiu em caso d...|    false|              NULL|                NULL|              NULL|           NULL|       NULL|Centro-Oeste|    50000 - 100000|        false|      false|         false|               false|    true|\n",
      "+---+--------+------------------+--------------+-----+------+--------------------+--------------------+---------------------------+-----------+--------------------+-----------------------+-------------------------+---------------------+---------------------+------------------+--------------------+---------+------------------+--------------------+------------------+---------------+-----------+------------+------------------+-------------+-----------+--------------+--------------------+--------+\n",
      "only showing top 5 rows\n",
      "\n"
     ]
    }
   ],
   "source": [
    "df_gold = df_gold.withColumn(\n",
    "    'acima_14',\n",
    "    F.when(F.col('idade') >= 14, True).otherwise(False)\n",
    ")\n",
    "\n",
    "df_gold.show(5)"
   ]
  },
  {
   "cell_type": "code",
   "execution_count": 316,
   "id": "5cb22855",
   "metadata": {},
   "outputs": [
    {
     "name": "stdout",
     "output_type": "stream",
     "text": [
      "+---+--------+------------------+--------------+-----+-------+--------------------+--------------------+---------------------------+-----------+--------------------+-----------------------+-------------------------+---------------------+---------------------+------------------+--------------------+---------+------------------+--------------------+------------------+---------------+-----------+------------+------------------+-------------+-----------+--------------+--------------------+--------+----------------+\n",
      "|mes|      uf|situacao_domicilio|proj_populacao|idade|    cor|        aulas_online|        escolaridade|foi_a_estabelecimento_saude|plano_saude|diagnostico_diabetes|diagnostico_hipertensao|diagnostico_respiratorias|diagnostico_cardiacas|diagnostico_depressao|diagnostico_cancer|    contato_reduzido|trabalhou|afastamento_motivo|     trabalho_funcao|rendimento_regular|rendimento_real|home_office|      regiao|faixa_populacional|teve_sintomas|teste_feito|teste_positivo|afastamento_trabalho|acima_14|rendimento_mudou|\n",
      "+---+--------+------------------+--------------+-----+-------+--------------------+--------------------+---------------------------+-----------+--------------------+-----------------------+-------------------------+---------------------+---------------------+------------------+--------------------+---------+------------------+--------------------+------------------+---------------+-----------+------------+------------------+-------------+-----------+--------------+--------------------+--------+----------------+\n",
      "| 10|Rondônia|            Urbana|        152790|   36|  Parda|                NULL|      Médio completo|                       NULL|       true|               false|                  false|                    false|                false|                false|             false|Reduziu mas conti...|     true|              NULL|Secretária, recep...|       801 - 1.600|    801 - 1.600|       NULL|Centro-Oeste|   100000 - 500000|        false|      false|         false|               false|    true|           false|\n",
      "| 10|Rondônia|            Urbana|        150739|   30|  Parda|                NULL|   Superior completo|                       NULL|      false|               false|                  false|                    false|                false|                false|             false|Reduziu mas conti...|     true|              NULL|Balconista, vende...|       801 - 1.600|    801 - 1.600|       NULL|Centro-Oeste|   100000 - 500000|        false|      false|         false|               false|    true|           false|\n",
      "| 10|Rondônia|            Urbana|        144993|   13|  Parda|Sim, e realizou p...|Fundamental incom...|                       NULL|       true|               false|                  false|                    false|                false|                false|             false|Ficou rigorosamen...|     NULL|              NULL|                NULL|              NULL|           NULL|       NULL|Centro-Oeste|   100000 - 500000|        false|      false|         false|               false|   false|           false|\n",
      "| 10|Rondônia|            Urbana|        144993|   11|  Parda|Sim, e realizou p...|Fundamental incom...|                       NULL|       true|               false|                  false|                    false|                false|                false|             false|Ficou rigorosamen...|     NULL|              NULL|                NULL|              NULL|           NULL|       NULL|Centro-Oeste|   100000 - 500000|        false|      false|         false|               false|   false|           false|\n",
      "| 10|Rondônia|            Urbana|         92130|   57| Branca|                NULL|Fundamental incom...|                       NULL|      false|               false|                  false|                    false|                false|                false|             false|Só saiu em caso d...|    false|              NULL|                NULL|              NULL|           NULL|       NULL|Centro-Oeste|    50000 - 100000|        false|      false|         false|               false|    true|           false|\n",
      "| 10|Rondônia|            Urbana|         92130|   58|  Preta|                NULL|       Sem instrução|                       NULL|      false|                true|                   true|                    false|                false|                false|             false|Só saiu em caso d...|     true|              NULL|Balconista, vende...|         101 - 300|        0 - 100|       NULL|Centro-Oeste|    50000 - 100000|        false|      false|         false|               false|    true|            true|\n",
      "| 10|Rondônia|            Urbana|        123486|   47|  Parda|                NULL|Fundamental incom...|                       NULL|      false|               false|                  false|                    false|                false|                false|             false|Reduziu mas conti...|     true|              NULL|Balconista, vende...|       801 - 1.600|      301 - 600|       NULL|Centro-Oeste|   100000 - 500000|        false|      false|         false|               false|    true|            true|\n",
      "| 10|Rondônia|            Urbana|        138815|   18|  Parda|                NULL|Fundamental incom...|                       NULL|      false|               false|                  false|                    false|                false|                false|             false|Só saiu em caso d...|    false|              NULL|                NULL|              NULL|           NULL|       NULL|Centro-Oeste|   100000 - 500000|        false|      false|         false|               false|    true|           false|\n",
      "| 10|Rondônia|            Urbana|        144993|   11|  Parda|        Não (férias)|Fundamental incom...|                       NULL|      false|               false|                  false|                    false|                false|                false|             false|Ficou rigorosamen...|     NULL|              NULL|                NULL|              NULL|           NULL|       NULL|Centro-Oeste|   100000 - 500000|        false|      false|         false|               false|   false|           false|\n",
      "| 10|Rondônia|            Urbana|        134141|    9|  Parda|        Não (férias)|Fundamental incom...|                       NULL|      false|               false|                  false|                    false|                false|                false|             false|Ficou rigorosamen...|     NULL|              NULL|                NULL|              NULL|           NULL|       NULL|Centro-Oeste|   100000 - 500000|        false|      false|         false|               false|   false|           false|\n",
      "| 10|Rondônia|            Urbana|        144993|   10|  Parda|        Não (férias)|Fundamental incom...|                       NULL|      false|               false|                  false|                    false|                false|                false|             false|Ficou rigorosamen...|     NULL|              NULL|                NULL|              NULL|           NULL|       NULL|Centro-Oeste|   100000 - 500000|        false|      false|         false|               false|   false|           false|\n",
      "| 10|Rondônia|            Urbana|        157583|   26|  Parda|                NULL|      Médio completo|                       NULL|      false|               false|                  false|                    false|                false|                false|             false|Reduziu mas conti...|     true|              NULL|Balconista, vende...|       801 - 1.600|      301 - 600|       NULL|Centro-Oeste|   100000 - 500000|        false|      false|         false|               false|    true|            true|\n",
      "| 10|Rondônia|            Urbana|        144993|   14|Amarela|        Não (férias)|Fundamental incom...|                       NULL|      false|               false|                  false|                    false|                false|                false|             false|Ficou rigorosamen...|    false|              NULL|                NULL|              NULL|           NULL|       NULL|Centro-Oeste|   100000 - 500000|        false|      false|         false|               false|    true|           false|\n",
      "| 10|Rondônia|            Urbana|        138815|   15|  Parda|        Não (férias)|Fundamental incom...|                       NULL|      false|               false|                  false|                    false|                false|                false|             false|Ficou rigorosamen...|    false|              NULL|                NULL|              NULL|           NULL|       NULL|Centro-Oeste|   100000 - 500000|        false|      false|         false|               false|    true|           false|\n",
      "| 10|Rondônia|            Urbana|        150739|   33|  Parda|                NULL|Fundamental incom...|                       NULL|      false|               false|                  false|                    false|                false|                false|             false|Só saiu em caso d...|    false|              NULL|                NULL|              NULL|           NULL|       NULL|Centro-Oeste|   100000 - 500000|        false|      false|         false|               false|    true|           false|\n",
      "| 10|Rondônia|            Urbana|         56746|   62|  Parda|                NULL|       Sem instrução|                       NULL|      false|               false|                  false|                    false|                false|                false|             false|Reduziu mas conti...|     true|              NULL|Balconista, vende...|       801 - 1.600|    801 - 1.600|       NULL|Centro-Oeste|    50000 - 100000|        false|      false|         false|               false|    true|           false|\n",
      "| 10|Rondônia|            Urbana|         55581|   62|  Parda|                NULL|Fundamental incom...|                       NULL|      false|               false|                  false|                    false|                false|                false|             false|Reduziu mas conti...|    false|              NULL|                NULL|              NULL|           NULL|       NULL|Centro-Oeste|    50000 - 100000|        false|      false|         false|               false|    true|           false|\n",
      "| 10|Rondônia|            Urbana|        152790|   34|  Parda|                NULL|      Médio completo|                       NULL|      false|               false|                  false|                    false|                false|                false|             false|Reduziu mas conti...|     true|              NULL|Secretária, recep...|       801 - 1.600|    801 - 1.600|       NULL|Centro-Oeste|   100000 - 500000|        false|      false|         false|               false|    true|           false|\n",
      "| 10|Rondônia|            Urbana|        154378|   26|  Parda|                NULL| Superior incompleto|                       NULL|      false|               false|                  false|                    false|                false|                false|             false|Reduziu mas conti...|     true|              NULL|Secretária, recep...|       801 - 1.600|    801 - 1.600|       NULL|Centro-Oeste|   100000 - 500000|        false|      false|         false|               false|    true|           false|\n",
      "| 10|Rondônia|            Urbana|        123486|   44|  Parda|                NULL|   Superior completo|                       NULL|      false|               false|                  false|                    false|                false|                false|             false|Reduziu mas conti...|     true|              NULL|Operador de Telem...|    3.001 - 10.000| 3.001 - 10.000|       NULL|Centro-Oeste|   100000 - 500000|        false|      false|         false|               false|    true|           false|\n",
      "+---+--------+------------------+--------------+-----+-------+--------------------+--------------------+---------------------------+-----------+--------------------+-----------------------+-------------------------+---------------------+---------------------+------------------+--------------------+---------+------------------+--------------------+------------------+---------------+-----------+------------+------------------+-------------+-----------+--------------+--------------------+--------+----------------+\n",
      "only showing top 20 rows\n",
      "\n"
     ]
    }
   ],
   "source": [
    "df_gold = df_gold.withColumn(\n",
    "    'rendimento_mudou',\n",
    "    F.when(F.col('rendimento_regular') == F.col('rendimento_real'), False)\\\n",
    "    .when(F.col('rendimento_regular').isNull(), False)\\\n",
    "    .when(F.col('rendimento_real').isNull(), False).otherwise(True)\n",
    ")\n",
    "\n",
    "df_gold.show()"
   ]
  },
  {
   "cell_type": "code",
   "execution_count": 323,
   "id": "50eea684",
   "metadata": {},
   "outputs": [
    {
     "name": "stdout",
     "output_type": "stream",
     "text": [
      "+-----+--------------+------------------+\n",
      "|   uf|proj_populacao|faixa_populacional|\n",
      "+-----+--------------+------------------+\n",
      "|Goiás|        587542|    mais de 500000|\n",
      "|Goiás|        599475|    mais de 500000|\n",
      "|Goiás|        239508|   100000 - 500000|\n",
      "|Goiás|        528915|    mais de 500000|\n",
      "|Goiás|        517112|    mais de 500000|\n",
      "|Goiás|        507076|    mais de 500000|\n",
      "|Goiás|        528915|    mais de 500000|\n",
      "|Goiás|        202436|   100000 - 500000|\n",
      "|Goiás|        202436|   100000 - 500000|\n",
      "|Goiás|        384624|   100000 - 500000|\n",
      "|Goiás|        579484|    mais de 500000|\n",
      "|Goiás|        587542|    mais de 500000|\n",
      "|Goiás|        411955|   100000 - 500000|\n",
      "|Goiás|        587542|    mais de 500000|\n",
      "|Goiás|        528915|    mais de 500000|\n",
      "|Goiás|        579484|    mais de 500000|\n",
      "|Goiás|        587542|    mais de 500000|\n",
      "|Goiás|        517112|    mais de 500000|\n",
      "|Goiás|        528898|    mais de 500000|\n",
      "|Goiás|        602264|    mais de 500000|\n",
      "+-----+--------------+------------------+\n",
      "only showing top 20 rows\n",
      "\n"
     ]
    }
   ],
   "source": [
    "spark.sql('''\n",
    "    SELECT uf, proj_populacao, faixa_populacional FROM gold\n",
    "    WHERE uf = 'Goiás'\n",
    "''').show()"
   ]
  }
 ],
 "metadata": {
  "kernelspec": {
   "display_name": "venv",
   "language": "python",
   "name": "python3"
  },
  "language_info": {
   "codemirror_mode": {
    "name": "ipython",
    "version": 3
   },
   "file_extension": ".py",
   "mimetype": "text/x-python",
   "name": "python",
   "nbconvert_exporter": "python",
   "pygments_lexer": "ipython3",
   "version": "3.11.13"
  }
 },
 "nbformat": 4,
 "nbformat_minor": 5
}
