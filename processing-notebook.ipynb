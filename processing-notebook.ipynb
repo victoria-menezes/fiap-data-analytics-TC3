{
 "cells": [
  {
   "cell_type": "markdown",
   "id": "f223471a",
   "metadata": {},
   "source": [
    "# Setup\n",
    "Utilizaremos a biblioteca `boto3` para nos comunicarmos com a AWS.\n",
    "\n",
    "Utilizaremos as bibliotecas `pandas` e `pyspark` para lidarmos com nossos dados.\n",
    "\n",
    "Utilizaremos as bibliotecas `matplotlib` e `seaborn` para a análise final."
   ]
  },
  {
   "cell_type": "code",
   "execution_count": 1,
   "id": "f2683da6",
   "metadata": {},
   "outputs": [],
   "source": [
    "import pandas as pd\n",
    "import boto3\n",
    "import os\n",
    "\n",
    "import matplotlib.pyplot as plt\n",
    "import seaborn as sns\n",
    "\n",
    "import findspark\n",
    "from pyspark.sql import SparkSession\n",
    "import pyspark.sql.functions as F\n",
    "\n",
    "from pyspark import SparkContext\n",
    "\n",
    "from sqlalchemy import create_engine, text\n",
    "import pyarrow.parquet"
   ]
  },
  {
   "cell_type": "code",
   "execution_count": 2,
   "id": "6e106465",
   "metadata": {},
   "outputs": [],
   "source": [
    "BUCKET = '896309849144'\n",
    "LAYERS_PREFIX = f'layers'# f's3://{BUCKET}/layers'\n",
    "GOLD = f'{LAYERS_PREFIX}/gold'\n",
    "SILVER = f'{LAYERS_PREFIX}/silver'\n",
    "BRONZE = f'{LAYERS_PREFIX}/bronze'\n",
    "\n",
    "LOCAL_BRONZE = './local/bronze'\n",
    "LOCAL_SILVER = './local/silver'\n",
    "LOCAL_GOLD = './local/gold'\n",
    "\n",
    "files = [\n",
    "    f'{LOCAL_BRONZE}/PNAD_COVID_092020.csv',\n",
    "    f'{LOCAL_BRONZE}/PNAD_COVID_102020.csv',\n",
    "    f'{LOCAL_BRONZE}/PNAD_COVID_112020.csv']\n"
   ]
  },
  {
   "cell_type": "code",
   "execution_count": 3,
   "id": "922c8c04",
   "metadata": {},
   "outputs": [],
   "source": [
    "s3_client = boto3.client('s3')\n",
    "\n",
    "def upload_to_s3(\n",
    "        file_path : str,\n",
    "        bucket : str,\n",
    "        bucket_path : str):\n",
    "    '''\n",
    "    Uploads file_path to the given bucket, as bucket_path (include the name of the file in bucket_path)\n",
    "    \n",
    "    Parameters\n",
    "    -\n",
    "    file_path : str\n",
    "    bucket : str\n",
    "    bucket_path : str\n",
    "    '''\n",
    "    s3_client.upload_file(file_path, bucket, bucket_path)"
   ]
  },
  {
   "cell_type": "markdown",
   "id": "e4cec076",
   "metadata": {},
   "source": [
    "# 0. Ingestion\n",
    "Faremos o upload dos dados brutos extraídos manualmente do IBGE, a um bucket AWS S3 via a biblioteca `boto3`.\n",
    "\n",
    "Conforme o pedido, utilizaremos os últimos 3 meses disponíveis."
   ]
  },
  {
   "cell_type": "code",
   "execution_count": 26,
   "id": "d1f84aac",
   "metadata": {},
   "outputs": [
    {
     "name": "stdout",
     "output_type": "stream",
     "text": [
      "PNAD_COVID_092020.csv\n",
      "PNAD_COVID_102020.csv\n",
      "PNAD_COVID_112020.csv\n"
     ]
    }
   ],
   "source": [
    "for file in files:\n",
    "    print(file.split('/')[-1])"
   ]
  },
  {
   "cell_type": "markdown",
   "id": "6cc197a3",
   "metadata": {},
   "source": [
    "# 1. Bronze\n",
    "Subindo nossos dados para a AWS"
   ]
  },
  {
   "cell_type": "code",
   "execution_count": null,
   "id": "e7afc1cb",
   "metadata": {},
   "outputs": [],
   "source": [
    "for file in files:\n",
    "    upload_to_s3(\n",
    "        file,\n",
    "        BUCKET,\n",
    "        f'{BRONZE}/{file.split(\"/\")[-1]}')"
   ]
  },
  {
   "cell_type": "markdown",
   "id": "96c60d31",
   "metadata": {},
   "source": [
    "O processo de re-estruturamento dos dados é feito na AWS via `AWS Glue`."
   ]
  },
  {
   "cell_type": "markdown",
   "id": "db59f5fc",
   "metadata": {},
   "source": [
    "# 2. Silver\n",
    "Pegaremos esses dados re-estruturados *silver* e faremos nossas queries via `PySpark`.\n",
    "\n",
    "## Puxando nossos dados do S3"
   ]
  },
  {
   "cell_type": "code",
   "execution_count": 4,
   "id": "761da2af",
   "metadata": {},
   "outputs": [],
   "source": [
    "to_download = s3_client.list_objects_v2(\n",
    "    Bucket = BUCKET,\n",
    "    Prefix = SILVER\n",
    ")['Contents'][1:]\n",
    "\n",
    "count = 1\n",
    "\n",
    "for file in to_download:\n",
    "    s3_client.download_file(BUCKET, file['Key'], f'{LOCAL_SILVER}/silver_{count}.parquet')\n",
    "    count+=1"
   ]
  },
  {
   "cell_type": "markdown",
   "id": "929d93b1",
   "metadata": {},
   "source": [
    "## Checando integridade dos dados"
   ]
  },
  {
   "cell_type": "markdown",
   "id": "b78f8149",
   "metadata": {},
   "source": [
    "Comparemos o tamanho da camade bronze original com a camada silver atual para nos certificarmos que o processo de merge ocorreu corretamente"
   ]
  },
  {
   "cell_type": "code",
   "execution_count": 5,
   "id": "84233948",
   "metadata": {},
   "outputs": [
    {
     "data": {
      "text/plain": [
       "1149197"
      ]
     },
     "execution_count": 5,
     "metadata": {},
     "output_type": "execute_result"
    }
   ],
   "source": [
    "df_silver = pd.read_parquet(f'{LOCAL_SILVER}')\n",
    "df_silver.shape[0]"
   ]
  },
  {
   "cell_type": "code",
   "execution_count": 6,
   "id": "0cda0491",
   "metadata": {},
   "outputs": [
    {
     "name": "stdout",
     "output_type": "stream",
     "text": [
      "387298\n",
      "380461\n",
      "381438\n",
      "TOTAL = 1149197\n"
     ]
    }
   ],
   "source": [
    "row_count = 0\n",
    "for f in files[:]:\n",
    "    _ = pd.read_csv(f)\n",
    "    row_count += _.shape[0]\n",
    "\n",
    "    print(_.shape[0])\n",
    "print(f'TOTAL = {row_count}')"
   ]
  },
  {
   "cell_type": "markdown",
   "id": "e4ba14a3",
   "metadata": {},
   "source": [
    "## Carregando nosso Spark DataFrame"
   ]
  },
  {
   "cell_type": "code",
   "execution_count": 627,
   "id": "29fd7deb",
   "metadata": {},
   "outputs": [],
   "source": [
    "findspark.init()\n",
    "\n",
    "sc = SparkContext.getOrCreate()\n",
    "spark = SparkSession.builder.appName('PySpark Dataframe').getOrCreate()"
   ]
  },
  {
   "cell_type": "code",
   "execution_count": 628,
   "id": "2f4bdd35",
   "metadata": {},
   "outputs": [],
   "source": [
    "# import os\n",
    "# print(os.environ['HADOOP_HOME']) \n",
    "# print(os.environ['JAVA_HOME']) "
   ]
  },
  {
   "cell_type": "code",
   "execution_count": 629,
   "id": "e14e11ee",
   "metadata": {},
   "outputs": [],
   "source": [
    "df_silver = spark.read.parquet(LOCAL_SILVER)"
   ]
  },
  {
   "cell_type": "code",
   "execution_count": 630,
   "id": "375bcebb",
   "metadata": {},
   "outputs": [
    {
     "name": "stdout",
     "output_type": "stream",
     "text": [
      "+----+---+-------+-------+-----+-----+-----+-----+-------+---------+-----+-----+------+-----+-----+------+----+-----+------+------+------+----+----+----+----+----+----+----+----+-----+-----+-----+-----+-----+-----+-----+-----+-----+------+------+------+------+----+-----+-----+-----+-----+-----+-----+-----+-----+-----+-----+-----+-----+-----+----+----+----+----+-----+-----+-----+-----+-----+-----+-----+-----+-----+-----+-----+-----+----+----+----+----+----+----+-----+-----+-----+----+----+-----+-----+-----+-----+-----+------+------+-----+----+----+-----+----+-----+------+------+-----+------+------+-----+-----+-----+------+-------+-------+------+-------+-------+----+----+----+----+----+-----+-----+-----+-----+-----+-----+-----+-----+------+-----+------+-----+-----+-----+-----+----+-----+-----+-----+-----+----+-----+-----+------+------+------+------+------+-----+----+---+\n",
      "| ano| uf|capital|rm_ride|v1008|v1012|v1013|v1016|estrato|      upa|v1022|v1023| v1030|v1031|v1032|posest|a001|a001a|a001b1|a001b2|a001b3|a002|a003|a004|a005|a006|a007|a008|a009|b0011|b0012|b0013|b0014|b0015|b0016|b0017|b0018|b0019|b00110|b00111|b00112|b00113|b002|b0031|b0032|b0033|b0034|b0035|b0036|b0037|b0041|b0042|b0043|b0044|b0045|b0046|b005|b006|b007|b008|b009a|b009b|b009c|b009d|b009e|b009f|b0101|b0102|b0103|b0104|b0105|b0106|b011|c001|c002|c003|c004|c005|c0051|c0052|c0053|c006|c007|c007a|c007b|c007c|c007d|c007e|c007e1|c007e2|c007f|c008|c009|c009a|c010|c0101|c01011|c01012|c0102|c01021|c01022|c0103|c0104|c011a|c011a1|c011a11|c011a12|c011a2|c011a21|c011a22|c012|c013|c014|c015|c016|c017a|d0011|d0013|d0021|d0023|d0031|d0033|d0041| d0043|d0051| d0053|d0061|d0063|d0071|d0073|e001|e0021|e0022|e0023|e0024|f001|f0021|f0022|f002a1|f002a2|f002a3|f002a4|f002a5|f0061|f006|mes|\n",
      "+----+---+-------+-------+-----+-----+-----+-----+-------+---------+-----+-----+------+-----+-----+------+----+-----+------+------+------+----+----+----+----+----+----+----+----+-----+-----+-----+-----+-----+-----+-----+-----+-----+------+------+------+------+----+-----+-----+-----+-----+-----+-----+-----+-----+-----+-----+-----+-----+-----+----+----+----+----+-----+-----+-----+-----+-----+-----+-----+-----+-----+-----+-----+-----+----+----+----+----+----+----+-----+-----+-----+----+----+-----+-----+-----+-----+-----+------+------+-----+----+----+-----+----+-----+------+------+-----+------+------+-----+-----+-----+------+-------+-------+------+-------+-------+----+----+----+----+----+-----+-----+-----+-----+-----+-----+-----+-----+------+-----+------+-----+-----+-----+-----+----+-----+-----+-----+-----+----+-----+-----+------+------+------+------+------+-----+----+---+\n",
      "|2020| 11|     11|   NULL|    1|    4|   10|    6|1110011|110015970|    1|    1|152790| NULL| NULL|  1114|   1|    1|     5|     8|  1984|  36|   1|   4|   5|NULL|NULL|NULL|NULL|    2|    2|    2|    2|    2|    2|    2|    2|    2|     2|     2|     2|     2|NULL| NULL| NULL| NULL| NULL| NULL| NULL| NULL| NULL| NULL| NULL| NULL| NULL| NULL|NULL|NULL|   1|   2| NULL| NULL| NULL| NULL| NULL| NULL|    2|    2|    2|    2|    2|    2|   2|   1|NULL|NULL|NULL|NULL| NULL| NULL| NULL|   2|   4| NULL|    1|   35|    6| NULL|  NULL|  NULL| NULL|  48|  48| NULL|   1|    1|     4|  1045| NULL|  NULL|  NULL| NULL| NULL|    1|     1|      4|   1045|  NULL|   NULL|   NULL|   1|NULL|NULL|NULL|NULL| NULL|  2.0| NULL|  2.0| NULL|  2.0| NULL|  2.0|  NULL|  1.0|1200.0|  2.0| NULL|  2.0| NULL|   3| NULL| NULL| NULL| NULL|   1| NULL| NULL|   1.0|     1|     1|     2|     1|    1|   1| 10|\n",
      "|2020| 11|     11|   NULL|    1|    4|   10|    6|1110011|110015970|    1|    1|150739| NULL| NULL|  1124|   2|    2|    18|     8|  1990|  30|   2|   4|   7|NULL|NULL|NULL|NULL|    2|    2|    2|    2|    2|    2|    2|    2|    2|     2|     2|     2|     2|NULL| NULL| NULL| NULL| NULL| NULL| NULL| NULL| NULL| NULL| NULL| NULL| NULL| NULL|NULL|NULL|   2|   2| NULL| NULL| NULL| NULL| NULL| NULL|    2|    2|    2|    2|    2|    2|   2|   1|NULL|NULL|NULL|NULL| NULL| NULL| NULL|   2|   7| NULL| NULL|   27|   20| NULL|  NULL|  NULL| NULL|  36|  36|    2|   1|    1|     4|  1045| NULL|  NULL|  NULL| NULL| NULL|    1|     1|      4|   1045|  NULL|   NULL|   NULL|   1|NULL|   2|NULL|NULL| NULL|  2.0| NULL|  2.0| NULL|  2.0| NULL|  2.0|  NULL|  1.0|1200.0|  2.0| NULL|  2.0| NULL|   3| NULL| NULL| NULL| NULL|   1| NULL| NULL|   1.0|     1|     1|     2|     1|    1|   1| 10|\n",
      "|2020| 11|     11|   NULL|    1|    4|   10|    6|1110011|110015970|    1|    1|144993| NULL| NULL|  1112|   3|    4|    25|    12|  2006|  13|   1|   4|   2|   1|   1|   5|   3|    2|    2|    2|    2|    2|    2|    2|    2|    2|     2|     2|     2|     2|NULL| NULL| NULL| NULL| NULL| NULL| NULL| NULL| NULL| NULL| NULL| NULL| NULL| NULL|NULL|NULL|   1|   2| NULL| NULL| NULL| NULL| NULL| NULL|    2|    2|    2|    2|    2|    2|   4|NULL|NULL|NULL|NULL|NULL| NULL| NULL| NULL|NULL|NULL| NULL| NULL| NULL| NULL| NULL|  NULL|  NULL| NULL|NULL|NULL| NULL|NULL| NULL|  NULL|  NULL| NULL|  NULL|  NULL| NULL| NULL| NULL|  NULL|   NULL|   NULL|  NULL|   NULL|   NULL|NULL|NULL|NULL|NULL|NULL| NULL|  2.0| NULL|  2.0| NULL|  2.0| NULL|  2.0|  NULL|  1.0|1200.0|  2.0| NULL|  2.0| NULL|   3| NULL| NULL| NULL| NULL|   1| NULL| NULL|   1.0|     1|     1|     2|     1|    1|   1| 10|\n",
      "|2020| 11|     11|   NULL|    1|    4|   10|    6|1110011|110015970|    1|    1|144993| NULL| NULL|  1112|   4|    4|    24|     8|  2009|  11|   1|   4|   2|   1|   1|   5|   3|    2|    2|    2|    2|    2|    2|    2|    2|    2|     2|     2|     2|     2|NULL| NULL| NULL| NULL| NULL| NULL| NULL| NULL| NULL| NULL| NULL| NULL| NULL| NULL|NULL|NULL|   1|   2| NULL| NULL| NULL| NULL| NULL| NULL|    2|    2|    2|    2|    2|    2|   4|NULL|NULL|NULL|NULL|NULL| NULL| NULL| NULL|NULL|NULL| NULL| NULL| NULL| NULL| NULL|  NULL|  NULL| NULL|NULL|NULL| NULL|NULL| NULL|  NULL|  NULL| NULL|  NULL|  NULL| NULL| NULL| NULL|  NULL|   NULL|   NULL|  NULL|   NULL|   NULL|NULL|NULL|NULL|NULL|NULL| NULL|  2.0| NULL|  2.0| NULL|  2.0| NULL|  2.0|  NULL|  1.0|1200.0|  2.0| NULL|  2.0| NULL|   3| NULL| NULL| NULL| NULL|   1| NULL| NULL|   1.0|     1|     1|     2|     1|    1|   1| 10|\n",
      "|2020| 11|     11|   NULL|    2|    1|   10|    6|1110011|110015970|    1|    1| 92130| NULL| NULL|  1126|   1|    1|    18|     5|  1963|  57|   2|   1|   2|NULL|NULL|NULL|NULL|    2|    2|    2|    2|    2|    2|    2|    2|    2|     2|     2|     2|     2|NULL| NULL| NULL| NULL| NULL| NULL| NULL| NULL| NULL| NULL| NULL| NULL| NULL| NULL|NULL|NULL|   2|   2| NULL| NULL| NULL| NULL| NULL| NULL|    2|    2|    2|    2|    2|    2|   3|   2|   2|NULL|NULL|NULL| NULL| NULL| NULL|NULL|NULL| NULL| NULL| NULL| NULL| NULL|  NULL|  NULL| NULL|NULL|NULL| NULL|NULL| NULL|  NULL|  NULL| NULL|  NULL|  NULL| NULL| NULL| NULL|  NULL|   NULL|   NULL|  NULL|   NULL|   NULL|NULL|NULL|   2|   2|   1|    1|  2.0| NULL|  2.0| NULL|  2.0| NULL|  1.0|1045.0|  2.0|  NULL|  2.0| NULL|  2.0| NULL|   3| NULL| NULL| NULL| NULL|   1| NULL| NULL|   1.0|     1|     1|     2|     1|    1|   1| 10|\n",
      "+----+---+-------+-------+-----+-----+-----+-----+-------+---------+-----+-----+------+-----+-----+------+----+-----+------+------+------+----+----+----+----+----+----+----+----+-----+-----+-----+-----+-----+-----+-----+-----+-----+------+------+------+------+----+-----+-----+-----+-----+-----+-----+-----+-----+-----+-----+-----+-----+-----+----+----+----+----+-----+-----+-----+-----+-----+-----+-----+-----+-----+-----+-----+-----+----+----+----+----+----+----+-----+-----+-----+----+----+-----+-----+-----+-----+-----+------+------+-----+----+----+-----+----+-----+------+------+-----+------+------+-----+-----+-----+------+-------+-------+------+-------+-------+----+----+----+----+----+-----+-----+-----+-----+-----+-----+-----+-----+------+-----+------+-----+-----+-----+-----+----+-----+-----+-----+-----+----+-----+-----+------+------+------+------+------+-----+----+---+\n",
      "only showing top 5 rows\n",
      "\n"
     ]
    }
   ],
   "source": [
    "df_silver.show(5)"
   ]
  },
  {
   "cell_type": "code",
   "execution_count": 631,
   "id": "31cbe173",
   "metadata": {},
   "outputs": [
    {
     "name": "stdout",
     "output_type": "stream",
     "text": [
      "+---------------+-----+-----+-----+-----+\n",
      "|estabelecimento|b0011|b0012|b0013|b0014|\n",
      "+---------------+-----+-----+-----+-----+\n",
      "|              9|    1|    2|    2|    1|\n",
      "|              9|    2|    1|    2|    2|\n",
      "|              9|    2|    1|    2|    2|\n",
      "|              9|    1|    2|    2|    2|\n",
      "|              9|    2|    2|    1|    2|\n",
      "|              9|    9|    9|    1|    9|\n",
      "|              9|    9|    9|    1|    9|\n",
      "|              9|    2|    2|    2|    2|\n",
      "|              9|    2|    2|    2|    2|\n",
      "|              9|    1|    2|    2|    1|\n",
      "+---------------+-----+-----+-----+-----+\n",
      "\n"
     ]
    }
   ],
   "source": [
    "df_silver.createOrReplaceTempView('silver')\n",
    "\n",
    "spark.sql('''\n",
    "          SELECT b002 as estabelecimento, b0011, b0012, b0013, b0014 from silver\n",
    "          WHERE (\n",
    "            b0011 = 1\n",
    "            OR b0012 = 1\n",
    "            OR b0013 = 1\n",
    "            OR b0014 = 1\n",
    "            OR b0015 = 1\n",
    "            OR b0016 = 1\n",
    "            OR b0017 = 1\n",
    "            OR b0018 = 1\n",
    "            OR b0019 = 1\n",
    "            OR b00110 = 1\n",
    "            OR b00111 = 1\n",
    "            OR b00112 = 1\n",
    "            OR b00113 = 1  ) AND\n",
    "          b002 = 9\n",
    "          LIMIT 10\n",
    "          ''').show()"
   ]
  },
  {
   "cell_type": "code",
   "execution_count": 632,
   "id": "57afd608",
   "metadata": {},
   "outputs": [
    {
     "name": "stdout",
     "output_type": "stream",
     "text": [
      "+----+-------+\n",
      "|b002|  count|\n",
      "+----+-------+\n",
      "|NULL|1104247|\n",
      "|   1|  11796|\n",
      "|   9|     13|\n",
      "|   2|  33141|\n",
      "+----+-------+\n",
      "\n"
     ]
    }
   ],
   "source": [
    "df_silver.groupBy('b002').count().show()"
   ]
  },
  {
   "cell_type": "markdown",
   "id": "80cb0576",
   "metadata": {},
   "source": [
    "# 3. Gold"
   ]
  },
  {
   "cell_type": "markdown",
   "id": "7d9b57c3",
   "metadata": {},
   "source": [
    "## Manipulação"
   ]
  },
  {
   "cell_type": "markdown",
   "id": "29169435",
   "metadata": {},
   "source": [
    "### Selecão das perguntas\n",
    "Foi requesitado a utilização de no máximo 20 perguntas da pesquisa. Seguem as selecionadas abaixo.\n",
    "- `UF` Unidade da Federação\n",
    " - `V1022` Situação de Domicílio\n",
    " - `A002` Qual sua idade?\n",
    " - `A004` Cor ou raça\n",
    " - `A005` Qual sua escolaridade?\n",
    " - `B001` Na semana passada, o(a) Sr(a) teve (sintomas)? \n",
    " - `B002` Por causa (de sintomas), foi a algum estabelecimento de saúde?\n",
    " - `B004` Em que local(is) buscou o atendimento?\n",
    " - `B007` O(A) Sr(a) tem algum plano de saúde médico, seja particular, de empresa ou de órgão público?\n",
    " - `B009B` (SWAB) Qual o resultado?\n",
    " - `B009D` (Furo no dedo) Qual o resultado?\n",
    " - `B009F` (Veia no braço) Qual o resultado?\n",
    " - `B010` Algum médico já lhe deu o diagnóstico de alguma dessas doenças?\n",
    " - `B011` Na semana passada, devido à pandemia do Coronavírus, em que medida o(a) Sr(a) restringiu o contato com as pessoas?\n",
    " - `C002` Na semana passada, estava temporariamente afastado de algum trabalho?\n",
    " - `C004` O(A) Sr(a) continuou a ser remunerado (mesmo que parcialmente) por esse trabalho?\n",
    " - `C007` No trabalho (único ou principal) que tinha nessa semana, o(a) Sr(a) era:\n",
    " - `C010` Número de faixa do rendimento / retirada em dinheiro (NORMALMENTE)\n",
    " - `C011` Número de faixa do rendimento / retirada em dinheiro (NO MES ATUAL)\n",
    " - `C013` Na semana passada, o(a) Sr(a) estava em trabalho remoto (home office ou teletrabalho)? (C013)"
   ]
  },
  {
   "cell_type": "code",
   "execution_count": 693,
   "id": "20e3493d",
   "metadata": {},
   "outputs": [],
   "source": [
    "selected_cols = {\n",
    "    'mes':'mes',\n",
    "    'uf':'uf',\n",
    "    'v1022':'situacao_domicilio',\n",
    "    'a002':'idade',\n",
    "    'a004':'cor',\n",
    "    'a005':'escolaridade',\n",
    "    'b0011':'sintoma_febre',\n",
    "    'b0012':'sintoma_tosse',\n",
    "    'b0013':'sintoma_dor_garganta',\n",
    "    'b0014':'sintoma_dificuldade_respirar',\n",
    "    'b0015':'sintoma_dor_cabeca',\n",
    "    'b0016':'sintoma_dor_peito',\n",
    "    'b0017':'sintoma_nausea',\n",
    "    'b0018':'sintoma_dor_nariz_entupido',\n",
    "    'b0019':'sintoma_fadiga',\n",
    "    'b00110':'sintoma_dor_olhos',\n",
    "    'b00111':'sintoma_perda_cheiro_sabor',\n",
    "    'b00112':'sintoma_dor_corpo',\n",
    "    'b00113':'sintoma_diarreira',\n",
    "    'b002':'foi_a_estabelecimento_saude',\n",
    "    'b0041':'estabelecimento_posto',\n",
    "    'b0042':'estabelecimento_upa',\n",
    "    'b0043':'estabelecimento_hospital_sus',\n",
    "    'b0044':'estabelecimento_ambulatorio_privado',\n",
    "    'b0045':'estabelecimento_pronto_socorro_privado',\n",
    "    'b0046':'estabelecimento_hospital_privado',\n",
    "    'b007':'plano_saude',\n",
    "    'b009b':'teste_resultado_swab',\n",
    "    'b009d':'teste_resultado_furo',\n",
    "    'b009f':'teste_resultado_braco',\n",
    "    'b0101':'diagnostico_diabetes',\n",
    "    'b0102':'diagnostico_hipertensao',\n",
    "    'b0103':'diagnostico_respiratorias',\n",
    "    'b0104':'diagnostico_cardiacas',\n",
    "    'b0105':'diagnostico_depressao',\n",
    "    'b0106':'diagnostico_cancer',\n",
    "    'b011':'contato_reduzido',\n",
    "    'c002':'afastamento_temporario_trabalho',\n",
    "    'c004':'afastamento_manteu_remuneracao',\n",
    "    'c007':'trabalho_funcao',\n",
    "    'c01011':'rendimento_regular',\n",
    "    'c011a11':'rendimento_real',\n",
    "    'c013':'home_office'\n",
    "}"
   ]
  },
  {
   "cell_type": "code",
   "execution_count": 694,
   "id": "5a2c5117",
   "metadata": {},
   "outputs": [
    {
     "name": "stdout",
     "output_type": "stream",
     "text": [
      "+---+---+-----+----+----+----+-----+-----+-----+-----+-----+-----+-----+-----+-----+------+------+------+------+----+-----+-----+-----+-----+-----+-----+----+-----+-----+-----+-----+-----+-----+-----+-----+-----+----+----+----+----+------+-------+----+\n",
      "|mes| uf|v1022|a002|a004|a005|b0011|b0012|b0013|b0014|b0015|b0016|b0017|b0018|b0019|b00110|b00111|b00112|b00113|b002|b0041|b0042|b0043|b0044|b0045|b0046|b007|b009b|b009d|b009f|b0101|b0102|b0103|b0104|b0105|b0106|b011|c002|c004|c007|c01011|c011a11|c013|\n",
      "+---+---+-----+----+----+----+-----+-----+-----+-----+-----+-----+-----+-----+-----+------+------+------+------+----+-----+-----+-----+-----+-----+-----+----+-----+-----+-----+-----+-----+-----+-----+-----+-----+----+----+----+----+------+-------+----+\n",
      "| 10| 11|    1|  36|   4|   5|    2|    2|    2|    2|    2|    2|    2|    2|    2|     2|     2|     2|     2|NULL| NULL| NULL| NULL| NULL| NULL| NULL|   1| NULL| NULL| NULL|    2|    2|    2|    2|    2|    2|   2|NULL|NULL|   4|     4|      4|NULL|\n",
      "| 10| 11|    1|  30|   4|   7|    2|    2|    2|    2|    2|    2|    2|    2|    2|     2|     2|     2|     2|NULL| NULL| NULL| NULL| NULL| NULL| NULL|   2| NULL| NULL| NULL|    2|    2|    2|    2|    2|    2|   2|NULL|NULL|   7|     4|      4|NULL|\n",
      "| 10| 11|    1|  13|   4|   2|    2|    2|    2|    2|    2|    2|    2|    2|    2|     2|     2|     2|     2|NULL| NULL| NULL| NULL| NULL| NULL| NULL|   1| NULL| NULL| NULL|    2|    2|    2|    2|    2|    2|   4|NULL|NULL|NULL|  NULL|   NULL|NULL|\n",
      "| 10| 11|    1|  11|   4|   2|    2|    2|    2|    2|    2|    2|    2|    2|    2|     2|     2|     2|     2|NULL| NULL| NULL| NULL| NULL| NULL| NULL|   1| NULL| NULL| NULL|    2|    2|    2|    2|    2|    2|   4|NULL|NULL|NULL|  NULL|   NULL|NULL|\n",
      "| 10| 11|    1|  57|   1|   2|    2|    2|    2|    2|    2|    2|    2|    2|    2|     2|     2|     2|     2|NULL| NULL| NULL| NULL| NULL| NULL| NULL|   2| NULL| NULL| NULL|    2|    2|    2|    2|    2|    2|   3|   2|NULL|NULL|  NULL|   NULL|NULL|\n",
      "+---+---+-----+----+----+----+-----+-----+-----+-----+-----+-----+-----+-----+-----+------+------+------+------+----+-----+-----+-----+-----+-----+-----+----+-----+-----+-----+-----+-----+-----+-----+-----+-----+----+----+----+----+------+-------+----+\n",
      "only showing top 5 rows\n",
      "\n"
     ]
    }
   ],
   "source": [
    "df_gold = df_silver.select([c for c in selected_cols.keys()])\n",
    "df_gold.show(5)"
   ]
  },
  {
   "cell_type": "code",
   "execution_count": 695,
   "id": "c8af3898",
   "metadata": {},
   "outputs": [
    {
     "name": "stdout",
     "output_type": "stream",
     "text": [
      "+---+---+------------------+-----+---+------------+-------------+-------------+--------------------+----------------------------+------------------+-----------------+--------------+--------------------------+--------------+-----------------+--------------------------+-----------------+-----------------+---------------------------+---------------------+-------------------+----------------------------+-----------------------------------+--------------------------------------+--------------------------------+-----------+--------------------+--------------------+---------------------+--------------------+-----------------------+-------------------------+---------------------+---------------------+------------------+----------------+-------------------------------+------------------------------+---------------+------------------+---------------+-----------+\n",
      "|mes| uf|situacao_domicilio|idade|cor|escolaridade|sintoma_febre|sintoma_tosse|sintoma_dor_garganta|sintoma_dificuldade_respirar|sintoma_dor_cabeca|sintoma_dor_peito|sintoma_nausea|sintoma_dor_nariz_entupido|sintoma_fadiga|sintoma_dor_olhos|sintoma_perda_cheiro_sabor|sintoma_dor_corpo|sintoma_diarreira|foi_a_estabelecimento_saude|estabelecimento_posto|estabelecimento_upa|estabelecimento_hospital_sus|estabelecimento_ambulatorio_privado|estabelecimento_pronto_socorro_privado|estabelecimento_hospital_privado|plano_saude|teste_resultado_swab|teste_resultado_furo|teste_resultado_braco|diagnostico_diabetes|diagnostico_hipertensao|diagnostico_respiratorias|diagnostico_cardiacas|diagnostico_depressao|diagnostico_cancer|contato_reduzido|afastamento_temporario_trabalho|afastamento_manteu_remuneracao|trabalho_funcao|rendimento_regular|rendimento_real|home_office|\n",
      "+---+---+------------------+-----+---+------------+-------------+-------------+--------------------+----------------------------+------------------+-----------------+--------------+--------------------------+--------------+-----------------+--------------------------+-----------------+-----------------+---------------------------+---------------------+-------------------+----------------------------+-----------------------------------+--------------------------------------+--------------------------------+-----------+--------------------+--------------------+---------------------+--------------------+-----------------------+-------------------------+---------------------+---------------------+------------------+----------------+-------------------------------+------------------------------+---------------+------------------+---------------+-----------+\n",
      "| 10| 11|                 1|   36|  4|           5|            2|            2|                   2|                           2|                 2|                2|             2|                         2|             2|                2|                         2|                2|                2|                       NULL|                 NULL|               NULL|                        NULL|                               NULL|                                  NULL|                            NULL|          1|                NULL|                NULL|                 NULL|                   2|                      2|                        2|                    2|                    2|                 2|               2|                           NULL|                          NULL|              4|                 4|              4|       NULL|\n",
      "| 10| 11|                 1|   30|  4|           7|            2|            2|                   2|                           2|                 2|                2|             2|                         2|             2|                2|                         2|                2|                2|                       NULL|                 NULL|               NULL|                        NULL|                               NULL|                                  NULL|                            NULL|          2|                NULL|                NULL|                 NULL|                   2|                      2|                        2|                    2|                    2|                 2|               2|                           NULL|                          NULL|              7|                 4|              4|       NULL|\n",
      "| 10| 11|                 1|   13|  4|           2|            2|            2|                   2|                           2|                 2|                2|             2|                         2|             2|                2|                         2|                2|                2|                       NULL|                 NULL|               NULL|                        NULL|                               NULL|                                  NULL|                            NULL|          1|                NULL|                NULL|                 NULL|                   2|                      2|                        2|                    2|                    2|                 2|               4|                           NULL|                          NULL|           NULL|              NULL|           NULL|       NULL|\n",
      "| 10| 11|                 1|   11|  4|           2|            2|            2|                   2|                           2|                 2|                2|             2|                         2|             2|                2|                         2|                2|                2|                       NULL|                 NULL|               NULL|                        NULL|                               NULL|                                  NULL|                            NULL|          1|                NULL|                NULL|                 NULL|                   2|                      2|                        2|                    2|                    2|                 2|               4|                           NULL|                          NULL|           NULL|              NULL|           NULL|       NULL|\n",
      "| 10| 11|                 1|   57|  1|           2|            2|            2|                   2|                           2|                 2|                2|             2|                         2|             2|                2|                         2|                2|                2|                       NULL|                 NULL|               NULL|                        NULL|                               NULL|                                  NULL|                            NULL|          2|                NULL|                NULL|                 NULL|                   2|                      2|                        2|                    2|                    2|                 2|               3|                              2|                          NULL|           NULL|              NULL|           NULL|       NULL|\n",
      "+---+---+------------------+-----+---+------------+-------------+-------------+--------------------+----------------------------+------------------+-----------------+--------------+--------------------------+--------------+-----------------+--------------------------+-----------------+-----------------+---------------------------+---------------------+-------------------+----------------------------+-----------------------------------+--------------------------------------+--------------------------------+-----------+--------------------+--------------------+---------------------+--------------------+-----------------------+-------------------------+---------------------+---------------------+------------------+----------------+-------------------------------+------------------------------+---------------+------------------+---------------+-----------+\n",
      "only showing top 5 rows\n",
      "\n"
     ]
    }
   ],
   "source": [
    "for col in selected_cols.keys():\n",
    "    df_gold = df_gold.withColumnRenamed(col, selected_cols[col])\n",
    "df_gold.show(5)"
   ]
  },
  {
   "cell_type": "markdown",
   "id": "55aa3897",
   "metadata": {},
   "source": [
    "## Criação e manipulação de colunas"
   ]
  },
  {
   "cell_type": "code",
   "execution_count": 696,
   "id": "d1d383b5",
   "metadata": {},
   "outputs": [],
   "source": [
    "def convert_columns(\n",
    "        df,\n",
    "        column_to_convert : str,\n",
    "        dict_of_conversion : dict,\n",
    "):\n",
    "    map_col = F.create_map(\n",
    "        [F.lit(x) for i in dict_of_conversion.items() for x in i]\n",
    "    )\n",
    "\n",
    "    df_new = df.withColumn(\n",
    "        column_to_convert,\n",
    "        map_col[F.col(column_to_convert)]\n",
    "    )\n",
    "\n",
    "    return df_new"
   ]
  },
  {
   "cell_type": "markdown",
   "id": "c8665880",
   "metadata": {},
   "source": [
    "### (NEW) Região"
   ]
  },
  {
   "cell_type": "code",
   "execution_count": 697,
   "id": "081054c2",
   "metadata": {},
   "outputs": [],
   "source": [
    "dict_regiao = {\n",
    "    1: 'Norte',\n",
    "    2: 'Nordeste',\n",
    "    3: 'Sudeste',\n",
    "    4: 'Sul',\n",
    "    5: 'Centro-Oeste'\n",
    "}\n",
    "\n",
    "df_gold = df_gold.withColumn(\n",
    "    'regiao',\n",
    "    F.when(F.col('uf') < 21, dict_regiao[1])\\\n",
    "    .when(F.col('uf') < 31, dict_regiao[2])\\\n",
    "    .when(F.col('uf') < 41, dict_regiao[3])\\\n",
    "    .when(F.col('uf') < 50, dict_regiao[4])\\\n",
    "    .otherwise(dict_regiao[5])\n",
    "    )"
   ]
  },
  {
   "cell_type": "markdown",
   "id": "cb61ecc5",
   "metadata": {},
   "source": [
    "### (uf) UF"
   ]
  },
  {
   "cell_type": "code",
   "execution_count": 698,
   "id": "7f5e77ef",
   "metadata": {},
   "outputs": [
    {
     "name": "stdout",
     "output_type": "stream",
     "text": [
      "+---+--------+------------------+-----+---+------------+-------------+-------------+--------------------+----------------------------+------------------+-----------------+--------------+--------------------------+--------------+-----------------+--------------------------+-----------------+-----------------+---------------------------+---------------------+-------------------+----------------------------+-----------------------------------+--------------------------------------+--------------------------------+-----------+--------------------+--------------------+---------------------+--------------------+-----------------------+-------------------------+---------------------+---------------------+------------------+----------------+-------------------------------+------------------------------+---------------+------------------+---------------+-----------+------+\n",
      "|mes|      uf|situacao_domicilio|idade|cor|escolaridade|sintoma_febre|sintoma_tosse|sintoma_dor_garganta|sintoma_dificuldade_respirar|sintoma_dor_cabeca|sintoma_dor_peito|sintoma_nausea|sintoma_dor_nariz_entupido|sintoma_fadiga|sintoma_dor_olhos|sintoma_perda_cheiro_sabor|sintoma_dor_corpo|sintoma_diarreira|foi_a_estabelecimento_saude|estabelecimento_posto|estabelecimento_upa|estabelecimento_hospital_sus|estabelecimento_ambulatorio_privado|estabelecimento_pronto_socorro_privado|estabelecimento_hospital_privado|plano_saude|teste_resultado_swab|teste_resultado_furo|teste_resultado_braco|diagnostico_diabetes|diagnostico_hipertensao|diagnostico_respiratorias|diagnostico_cardiacas|diagnostico_depressao|diagnostico_cancer|contato_reduzido|afastamento_temporario_trabalho|afastamento_manteu_remuneracao|trabalho_funcao|rendimento_regular|rendimento_real|home_office|regiao|\n",
      "+---+--------+------------------+-----+---+------------+-------------+-------------+--------------------+----------------------------+------------------+-----------------+--------------+--------------------------+--------------+-----------------+--------------------------+-----------------+-----------------+---------------------------+---------------------+-------------------+----------------------------+-----------------------------------+--------------------------------------+--------------------------------+-----------+--------------------+--------------------+---------------------+--------------------+-----------------------+-------------------------+---------------------+---------------------+------------------+----------------+-------------------------------+------------------------------+---------------+------------------+---------------+-----------+------+\n",
      "| 10|Rondônia|                 1|   36|  4|           5|            2|            2|                   2|                           2|                 2|                2|             2|                         2|             2|                2|                         2|                2|                2|                       NULL|                 NULL|               NULL|                        NULL|                               NULL|                                  NULL|                            NULL|          1|                NULL|                NULL|                 NULL|                   2|                      2|                        2|                    2|                    2|                 2|               2|                           NULL|                          NULL|              4|                 4|              4|       NULL| Norte|\n",
      "| 10|Rondônia|                 1|   30|  4|           7|            2|            2|                   2|                           2|                 2|                2|             2|                         2|             2|                2|                         2|                2|                2|                       NULL|                 NULL|               NULL|                        NULL|                               NULL|                                  NULL|                            NULL|          2|                NULL|                NULL|                 NULL|                   2|                      2|                        2|                    2|                    2|                 2|               2|                           NULL|                          NULL|              7|                 4|              4|       NULL| Norte|\n",
      "| 10|Rondônia|                 1|   13|  4|           2|            2|            2|                   2|                           2|                 2|                2|             2|                         2|             2|                2|                         2|                2|                2|                       NULL|                 NULL|               NULL|                        NULL|                               NULL|                                  NULL|                            NULL|          1|                NULL|                NULL|                 NULL|                   2|                      2|                        2|                    2|                    2|                 2|               4|                           NULL|                          NULL|           NULL|              NULL|           NULL|       NULL| Norte|\n",
      "+---+--------+------------------+-----+---+------------+-------------+-------------+--------------------+----------------------------+------------------+-----------------+--------------+--------------------------+--------------+-----------------+--------------------------+-----------------+-----------------+---------------------------+---------------------+-------------------+----------------------------+-----------------------------------+--------------------------------------+--------------------------------+-----------+--------------------+--------------------+---------------------+--------------------+-----------------------+-------------------------+---------------------+---------------------+------------------+----------------+-------------------------------+------------------------------+---------------+------------------+---------------+-----------+------+\n",
      "only showing top 3 rows\n",
      "\n"
     ]
    }
   ],
   "source": [
    "current_col = 'uf'\n",
    "current_dict = dict_uf = {\n",
    "    11:'Rondônia',\n",
    "    12:'Acre',\n",
    "    13:'Amazonas',\n",
    "    14:'Roraima',\n",
    "    15:'Pará',\n",
    "    16:'Amapá',\n",
    "    17:'Tocantins',\n",
    "    21:'Maranhão',\n",
    "    22:'Piauí',\n",
    "    23:'Ceará',\n",
    "    24:'Rio Grande do Norte',\n",
    "    25:'Paraíba',\n",
    "    26:'Pernambuco',\n",
    "    27:'Alagoas',\n",
    "    28:'Sergipe',\n",
    "    29:'Bahia',\n",
    "    31:'Minas Gerais',\n",
    "    32:'Espírito Santo',\n",
    "    33:'Rio de Janeiro',\n",
    "    35:'São Paulo',\n",
    "    41:'Paraná',\n",
    "    42:'Santa Catarina',\n",
    "    43:'Rio Grande do Sul',\n",
    "    50:'Mato Grosso do Sul',\n",
    "    51:'Mato Grosso',\n",
    "    52:'Goiás',\n",
    "    53:'Distrito Federal'\n",
    "}\n",
    "df_gold = convert_columns(df_gold, current_col, current_dict)\n",
    "\n",
    "df_gold.show(3)"
   ]
  },
  {
   "cell_type": "markdown",
   "id": "1c5ee1cf",
   "metadata": {},
   "source": [
    "### (v1022) Situação de domicílio"
   ]
  },
  {
   "cell_type": "code",
   "execution_count": 699,
   "id": "14dc8270",
   "metadata": {},
   "outputs": [],
   "source": [
    "#v1022\n",
    "current_col = 'situacao_domicilio'\n",
    "current_dict = {\n",
    "    1: 'Urbana', 2: 'Rural'\n",
    "}\n",
    "df_gold = convert_columns(df_gold, current_col, current_dict)"
   ]
  },
  {
   "cell_type": "markdown",
   "id": "12e25521",
   "metadata": {},
   "source": [
    "### (a004) Cor"
   ]
  },
  {
   "cell_type": "code",
   "execution_count": 700,
   "id": "7fb7c66d",
   "metadata": {},
   "outputs": [],
   "source": [
    "#a004\n",
    "current_col = 'cor'\n",
    "current_dict = {\n",
    "    1: 'Branca', 2: 'Preta', 3: 'Amarela', 4: 'Parda', 5: 'Indígena', 9: None\n",
    "}\n",
    "df_gold = convert_columns(df_gold, current_col, current_dict)"
   ]
  },
  {
   "cell_type": "markdown",
   "id": "33f088e3",
   "metadata": {},
   "source": [
    "### (a005) Escolaridade"
   ]
  },
  {
   "cell_type": "code",
   "execution_count": 701,
   "id": "2e726c5b",
   "metadata": {},
   "outputs": [],
   "source": [
    "#a005\n",
    "current_col = 'escolaridade'\n",
    "current_dict = {\n",
    "    1: 'Sem instrução', 2: 'Fundamental incompleto', 3: 'Fundamental completo', 4: 'Médio incompleto', 5: 'Médio completo', 6: 'Superior incompleto', 7: 'Superior completo', 8: 'Pós-graduação, mestrado ou doutorado'\n",
    "}\n",
    "df_gold = convert_columns(df_gold, current_col, current_dict)"
   ]
  },
  {
   "cell_type": "markdown",
   "id": "a8eac9ae",
   "metadata": {},
   "source": [
    "### (b001) Sintomas"
   ]
  },
  {
   "cell_type": "code",
   "execution_count": 702,
   "id": "9ec1f35a",
   "metadata": {},
   "outputs": [
    {
     "name": "stdout",
     "output_type": "stream",
     "text": [
      "+-----+-------+\n",
      "|b0011|  count|\n",
      "+-----+-------+\n",
      "|    1|   9020|\n",
      "|    3|    640|\n",
      "|    9|   3513|\n",
      "|    2|1136024|\n",
      "+-----+-------+\n",
      "\n"
     ]
    }
   ],
   "source": [
    "df_silver.groupBy('b0011').count().show()"
   ]
  },
  {
   "cell_type": "code",
   "execution_count": 703,
   "id": "7a40fa56",
   "metadata": {},
   "outputs": [],
   "source": [
    "# 'b0011':'sintoma_febre',\n",
    "# 'b0012':'sintoma_tosse',\n",
    "# 'b0013':'sintoma_dor_garganta',\n",
    "# 'b0014':'sintoma_dificuldade_respirar',\n",
    "# 'b0015':'sintoma_dor_cabeca',\n",
    "# 'b0016':'sintoma_dor_peito',\n",
    "# 'b0017':'sintoma_nausea',\n",
    "# 'b0018':'sintoma_dor_nariz_entupido',\n",
    "# 'b0019':'sintoma_fadiga',\n",
    "# 'b00110':'sintoma_dor_olhos',\n",
    "# 'b00111':'sintoma_perda_cheiro_sabor',\n",
    "# 'b00112':'sintoma_dor_corpo',\n",
    "# 'b00113':'sintoma_diarreira',\n",
    "\n",
    "\n",
    "cols_sintomas = [\n",
    "        'sintoma_febre',\n",
    "        'sintoma_tosse',\n",
    "        'sintoma_dor_garganta',\n",
    "        'sintoma_dificuldade_respirar',\n",
    "        'sintoma_dor_cabeca',\n",
    "        'sintoma_dor_peito',\n",
    "        'sintoma_nausea',\n",
    "        'sintoma_dor_nariz_entupido',\n",
    "        'sintoma_fadiga',\n",
    "        'sintoma_dor_olhos',\n",
    "        'sintoma_perda_cheiro_sabor',\n",
    "        'sintoma_dor_corpo',\n",
    "        'sintoma_diarreira', \n",
    "        ]\n",
    "\n",
    "current_dict = {\n",
    "    1: True, 2: False, 3: None, 9: None\n",
    "    }\n",
    "for current_col in cols_sintomas:\n",
    "    df_gold = convert_columns(df_gold, current_col, current_dict)"
   ]
  },
  {
   "cell_type": "markdown",
   "id": "a4842eaf",
   "metadata": {},
   "source": [
    "### (NEW) Teve sintomas"
   ]
  },
  {
   "cell_type": "code",
   "execution_count": 704,
   "id": "1e4a0e73",
   "metadata": {},
   "outputs": [
    {
     "name": "stdout",
     "output_type": "stream",
     "text": [
      "+---+--------+------------------+-----+-----+--------------------+-------------+-------------+--------------------+----------------------------+------------------+-----------------+--------------+--------------------------+--------------+-----------------+--------------------------+-----------------+-----------------+---------------------------+---------------------+-------------------+----------------------------+-----------------------------------+--------------------------------------+--------------------------------+-----------+--------------------+--------------------+---------------------+--------------------+-----------------------+-------------------------+---------------------+---------------------+------------------+----------------+-------------------------------+------------------------------+---------------+------------------+---------------+-----------+------+-------------+\n",
      "|mes|      uf|situacao_domicilio|idade|  cor|        escolaridade|sintoma_febre|sintoma_tosse|sintoma_dor_garganta|sintoma_dificuldade_respirar|sintoma_dor_cabeca|sintoma_dor_peito|sintoma_nausea|sintoma_dor_nariz_entupido|sintoma_fadiga|sintoma_dor_olhos|sintoma_perda_cheiro_sabor|sintoma_dor_corpo|sintoma_diarreira|foi_a_estabelecimento_saude|estabelecimento_posto|estabelecimento_upa|estabelecimento_hospital_sus|estabelecimento_ambulatorio_privado|estabelecimento_pronto_socorro_privado|estabelecimento_hospital_privado|plano_saude|teste_resultado_swab|teste_resultado_furo|teste_resultado_braco|diagnostico_diabetes|diagnostico_hipertensao|diagnostico_respiratorias|diagnostico_cardiacas|diagnostico_depressao|diagnostico_cancer|contato_reduzido|afastamento_temporario_trabalho|afastamento_manteu_remuneracao|trabalho_funcao|rendimento_regular|rendimento_real|home_office|regiao|teve_sintomas|\n",
      "+---+--------+------------------+-----+-----+--------------------+-------------+-------------+--------------------+----------------------------+------------------+-----------------+--------------+--------------------------+--------------+-----------------+--------------------------+-----------------+-----------------+---------------------------+---------------------+-------------------+----------------------------+-----------------------------------+--------------------------------------+--------------------------------+-----------+--------------------+--------------------+---------------------+--------------------+-----------------------+-------------------------+---------------------+---------------------+------------------+----------------+-------------------------------+------------------------------+---------------+------------------+---------------+-----------+------+-------------+\n",
      "| 10|Rondônia|            Urbana|   36|Parda|      Médio completo|        false|        false|               false|                       false|             false|            false|         false|                     false|         false|            false|                     false|            false|            false|                       NULL|                 NULL|               NULL|                        NULL|                               NULL|                                  NULL|                            NULL|          1|                NULL|                NULL|                 NULL|                   2|                      2|                        2|                    2|                    2|                 2|               2|                           NULL|                          NULL|              4|                 4|              4|       NULL| Norte|        false|\n",
      "| 10|Rondônia|            Urbana|   30|Parda|   Superior completo|        false|        false|               false|                       false|             false|            false|         false|                     false|         false|            false|                     false|            false|            false|                       NULL|                 NULL|               NULL|                        NULL|                               NULL|                                  NULL|                            NULL|          2|                NULL|                NULL|                 NULL|                   2|                      2|                        2|                    2|                    2|                 2|               2|                           NULL|                          NULL|              7|                 4|              4|       NULL| Norte|        false|\n",
      "| 10|Rondônia|            Urbana|   13|Parda|Fundamental incom...|        false|        false|               false|                       false|             false|            false|         false|                     false|         false|            false|                     false|            false|            false|                       NULL|                 NULL|               NULL|                        NULL|                               NULL|                                  NULL|                            NULL|          1|                NULL|                NULL|                 NULL|                   2|                      2|                        2|                    2|                    2|                 2|               4|                           NULL|                          NULL|           NULL|              NULL|           NULL|       NULL| Norte|        false|\n",
      "+---+--------+------------------+-----+-----+--------------------+-------------+-------------+--------------------+----------------------------+------------------+-----------------+--------------+--------------------------+--------------+-----------------+--------------------------+-----------------+-----------------+---------------------------+---------------------+-------------------+----------------------------+-----------------------------------+--------------------------------------+--------------------------------+-----------+--------------------+--------------------+---------------------+--------------------+-----------------------+-------------------------+---------------------+---------------------+------------------+----------------+-------------------------------+------------------------------+---------------+------------------+---------------+-----------+------+-------------+\n",
      "only showing top 3 rows\n",
      "\n"
     ]
    }
   ],
   "source": [
    "df_gold = df_gold.withColumn(\n",
    "    'teve_sintomas',\n",
    "    F.when(F.col(cols_sintomas[0]) == True, True)\\\n",
    "    .when(F.col(cols_sintomas[1]) == True, True)\\\n",
    "    .when(F.col(cols_sintomas[2]) == True, True)\\\n",
    "    .when(F.col(cols_sintomas[3]) == True, True)\\\n",
    "    .when(F.col(cols_sintomas[4]) == True, True)\\\n",
    "    .when(F.col(cols_sintomas[5]) == True, True)\\\n",
    "    .when(F.col(cols_sintomas[6]) == True, True)\\\n",
    "    .when(F.col(cols_sintomas[7]) == True, True)\\\n",
    "    .when(F.col(cols_sintomas[8]) == True, True)\\\n",
    "    .when(F.col(cols_sintomas[9]) == True, True)\\\n",
    "    .when(F.col(cols_sintomas[10]) == True, True)\\\n",
    "    .when(F.col(cols_sintomas[11]) == True, True)\\\n",
    "    .when(F.col(cols_sintomas[12]) == True, True)\\\n",
    "    .otherwise(False)\n",
    ")\n",
    "\n",
    "df_gold.show(3)"
   ]
  },
  {
   "cell_type": "code",
   "execution_count": 705,
   "id": "7858fc95",
   "metadata": {},
   "outputs": [
    {
     "name": "stdout",
     "output_type": "stream",
     "text": [
      "+-------------+-------------+-------------+--------------------+----------------------------+-----------------+--------------+--------------------------+-----------------+\n",
      "|teve_sintomas|sintoma_febre|sintoma_tosse|sintoma_dor_garganta|sintoma_dificuldade_respirar|sintoma_dor_peito|sintoma_fadiga|sintoma_perda_cheiro_sabor|sintoma_dor_corpo|\n",
      "+-------------+-------------+-------------+--------------------+----------------------------+-----------------+--------------+--------------------------+-----------------+\n",
      "|         true|        false|         true|               false|                       false|            false|         false|                     false|            false|\n",
      "|         true|        false|        false|               false|                       false|            false|          true|                      true|            false|\n",
      "|         true|        false|         true|                true|                       false|            false|          true|                      NULL|             true|\n",
      "|         true|        false|         true|               false|                        true|             true|          true|                     false|             true|\n",
      "|         true|        false|         true|               false|                        true|             true|         false|                      true|             true|\n",
      "|         true|        false|        false|                true|                       false|            false|          true|                      true|             true|\n",
      "|         true|        false|        false|               false|                       false|            false|         false|                     false|             true|\n",
      "|         true|        false|        false|                true|                       false|            false|         false|                     false|            false|\n",
      "|         true|        false|        false|               false|                       false|            false|          true|                     false|             true|\n",
      "|         true|        false|        false|                true|                       false|            false|         false|                     false|             true|\n",
      "|         true|        false|        false|               false|                       false|            false|          true|                     false|             true|\n",
      "|         true|        false|        false|               false|                       false|            false|         false|                     false|             true|\n",
      "|         true|        false|        false|               false|                       false|            false|         false|                     false|             true|\n",
      "|         true|         true|        false|               false|                       false|            false|         false|                      true|            false|\n",
      "|         true|        false|         true|               false|                       false|            false|         false|                     false|            false|\n",
      "+-------------+-------------+-------------+--------------------+----------------------------+-----------------+--------------+--------------------------+-----------------+\n",
      "\n"
     ]
    }
   ],
   "source": [
    "df_gold.createOrReplaceTempView('gold')\n",
    "\n",
    "spark.sql('''\n",
    "          SELECT \n",
    "            teve_sintomas,\n",
    "            sintoma_febre,\n",
    "            sintoma_tosse,\n",
    "            sintoma_dor_garganta,\n",
    "            sintoma_dificuldade_respirar,\n",
    "            sintoma_dor_peito,\n",
    "            sintoma_fadiga,\n",
    "            sintoma_perda_cheiro_sabor,\n",
    "            sintoma_dor_corpo\n",
    "          FROM gold\n",
    "          WHERE (\n",
    "                  sintoma_febre IS false OR\n",
    "                  sintoma_tosse IS false OR\n",
    "                  sintoma_dor_garganta IS false OR\n",
    "                  sintoma_dificuldade_respirar IS false OR\n",
    "                  sintoma_dor_peito IS false OR\n",
    "                  sintoma_fadiga IS false OR\n",
    "                  sintoma_perda_cheiro_sabor IS false OR\n",
    "                  sintoma_dor_corpo IS false\n",
    "                ) AND\n",
    "                teve_sintomas IS true\n",
    "          LIMIT 15\n",
    "          ''').show()"
   ]
  },
  {
   "cell_type": "code",
   "execution_count": 706,
   "id": "241eb13c",
   "metadata": {},
   "outputs": [
    {
     "name": "stdout",
     "output_type": "stream",
     "text": [
      "+-------------+-------+\n",
      "|teve_sintomas|  count|\n",
      "+-------------+-------+\n",
      "|         true|  44950|\n",
      "|        false|1104247|\n",
      "+-------------+-------+\n",
      "\n"
     ]
    }
   ],
   "source": [
    "df_gold.groupBy('teve_sintomas').count().show()"
   ]
  },
  {
   "cell_type": "markdown",
   "id": "1e1ea253",
   "metadata": {},
   "source": [
    "### (b002) Foi a estabelecimento saúde"
   ]
  },
  {
   "cell_type": "code",
   "execution_count": 707,
   "id": "df2aa200",
   "metadata": {},
   "outputs": [],
   "source": [
    "# b002\n",
    "current_col = 'foi_a_estabelecimento_saude'\n",
    "current_dict = {\n",
    "    1: True, 2: False, 9: None\n",
    "    }\n",
    "df_gold = convert_columns(df_gold, current_col, current_dict)"
   ]
  },
  {
   "cell_type": "markdown",
   "id": "1490be1e",
   "metadata": {},
   "source": [
    "### (b004) Onde buscou atendimento"
   ]
  },
  {
   "cell_type": "code",
   "execution_count": 708,
   "id": "08099f53",
   "metadata": {},
   "outputs": [],
   "source": [
    "cols_estabelecimentos = [\n",
    "    'estabelecimento_posto',\n",
    "    'estabelecimento_upa',\n",
    "    'estabelecimento_hospital_sus',\n",
    "    'estabelecimento_ambulatorio_privado',\n",
    "    'estabelecimento_pronto_socorro_privado',\n",
    "    'estabelecimento_hospital_privado'\n",
    "]\n",
    "\n",
    "current_dict = {\n",
    "    1: True,\n",
    "    2: False,\n",
    "    9: False\n",
    "}\n",
    "\n",
    "for current_col in cols_estabelecimentos:\n",
    "    df_gold = convert_columns(df_gold, current_col, current_dict)"
   ]
  },
  {
   "cell_type": "code",
   "execution_count": 709,
   "id": "3807639e",
   "metadata": {},
   "outputs": [],
   "source": [
    "# b004\n",
    "# current_dict = {\n",
    "#     1: 'Posto de saúde/Unidade básica de saúde /Equipe de Saúde da Família',\n",
    "#     2: 'Pronto socorro do SUS/UPA',\n",
    "#     3:'Hospital do SUS',\n",
    "#     4:'Ambulatório ou consultório privado ou ligado às forças armadas',\n",
    "#     5: 'Pronto socorro privado ou ligado às forças armadas',\n",
    "#     5: 'Hospital privado ou ligado às forças armadas',\n",
    "#     9: None\n",
    "#     }\n",
    "\n",
    "df_gold = df_gold.withColumn(\n",
    "    'estabelecimento_sus',\n",
    "    F.when(F.col(cols_estabelecimentos[0]) == True, True)\\\n",
    "    .when(F.col(cols_estabelecimentos[1]) == True, True)\\\n",
    "    .when(F.col(cols_estabelecimentos[2]) == True,True)\\\n",
    "    .when(F.col(cols_estabelecimentos[3]) == True, False)\\\n",
    "    .when(F.col(cols_estabelecimentos[4]) == True, False)\\\n",
    "    .when(F.col(cols_estabelecimentos[5]) == True,False)\\\n",
    "    .otherwise(None)\n",
    "    )\n"
   ]
  },
  {
   "cell_type": "code",
   "execution_count": 710,
   "id": "5642b6cb",
   "metadata": {},
   "outputs": [
    {
     "name": "stdout",
     "output_type": "stream",
     "text": [
      "+---------------------+-------------------+----------------------------+-----------------------------------+--------------------------------------+--------------------------------+-------------------+---------------------------+\n",
      "|estabelecimento_posto|estabelecimento_upa|estabelecimento_hospital_sus|estabelecimento_ambulatorio_privado|estabelecimento_pronto_socorro_privado|estabelecimento_hospital_privado|estabelecimento_sus|foi_a_estabelecimento_saude|\n",
      "+---------------------+-------------------+----------------------------+-----------------------------------+--------------------------------------+--------------------------------+-------------------+---------------------------+\n",
      "|                false|              false|                       false|                               true|                                 false|                           false|              false|                       true|\n",
      "|                false|              false|                       false|                              false|                                 false|                            true|              false|                       true|\n",
      "|                false|              false|                       false|                              false|                                 false|                            true|              false|                       true|\n",
      "|                 true|              false|                       false|                              false|                                 false|                           false|               true|                       true|\n",
      "|                 true|              false|                       false|                              false|                                 false|                           false|               true|                       true|\n",
      "|                false|              false|                        true|                              false|                                 false|                           false|               true|                       true|\n",
      "|                false|               true|                       false|                              false|                                 false|                           false|               true|                       true|\n",
      "|                false|               true|                       false|                              false|                                 false|                           false|               true|                       true|\n",
      "|                false|              false|                       false|                               true|                                 false|                           false|              false|                       true|\n",
      "|                false|               true|                       false|                              false|                                 false|                           false|               true|                       true|\n",
      "+---------------------+-------------------+----------------------------+-----------------------------------+--------------------------------------+--------------------------------+-------------------+---------------------------+\n",
      "\n"
     ]
    }
   ],
   "source": [
    "df_gold.createOrReplaceTempView('gold')\n",
    "\n",
    "spark.sql('''\n",
    "          SELECT \n",
    "            estabelecimento_posto,\n",
    "            estabelecimento_upa,\n",
    "            estabelecimento_hospital_sus,\n",
    "            estabelecimento_ambulatorio_privado,\n",
    "            estabelecimento_pronto_socorro_privado,\n",
    "            estabelecimento_hospital_privado,\n",
    "            estabelecimento_sus,\n",
    "            foi_a_estabelecimento_saude\n",
    "          FROM gold\n",
    "          WHERE foi_a_estabelecimento_saude IS true\n",
    "          LIMIT 10\n",
    "          ''').show()"
   ]
  },
  {
   "cell_type": "code",
   "execution_count": 711,
   "id": "bcab5e06",
   "metadata": {},
   "outputs": [
    {
     "name": "stdout",
     "output_type": "stream",
     "text": [
      "+-------------------+--------+---------------------+-------------------+----------------------------+-----------------------------------+--------------------------------------+--------------------------------+\n",
      "|estabelecimento_sus|count(1)|estabelecimento_posto|estabelecimento_upa|estabelecimento_hospital_sus|estabelecimento_ambulatorio_privado|estabelecimento_pronto_socorro_privado|estabelecimento_hospital_privado|\n",
      "+-------------------+--------+---------------------+-------------------+----------------------------+-----------------------------------+--------------------------------------+--------------------------------+\n",
      "|               NULL| 1137622|                    0|                  0|                           0|                                  0|                                     0|                               0|\n",
      "|               true|    9256|                 5591|               2419|                        2124|                                135|                                    50|                             122|\n",
      "|              false|    2319|                    0|                  0|                           0|                                950|                                   427|                            1058|\n",
      "+-------------------+--------+---------------------+-------------------+----------------------------+-----------------------------------+--------------------------------------+--------------------------------+\n",
      "\n"
     ]
    }
   ],
   "source": [
    "df_gold.createOrReplaceTempView('gold')\n",
    "\n",
    "spark.sql('''\n",
    "          SELECT \n",
    "            estabelecimento_sus,\n",
    "            COUNT(*),\n",
    "            SUM(\n",
    "              CASE\n",
    "                estabelecimento_posto WHEN true then 1 else 0\n",
    "              END\n",
    "              ) as estabelecimento_posto,\n",
    "            SUM(\n",
    "              CASE\n",
    "                estabelecimento_upa WHEN true then 1 else 0\n",
    "              END\n",
    "              ) as estabelecimento_upa,\n",
    "            SUM(\n",
    "              CASE\n",
    "                estabelecimento_hospital_sus WHEN true then 1 else 0\n",
    "              END\n",
    "              ) as estabelecimento_hospital_sus,\n",
    "            SUM(\n",
    "              CASE\n",
    "                estabelecimento_ambulatorio_privado WHEN true then 1 else 0\n",
    "              END\n",
    "              ) as estabelecimento_ambulatorio_privado,\n",
    "            SUM(\n",
    "              CASE\n",
    "                estabelecimento_pronto_socorro_privado WHEN true then 1 else 0\n",
    "              END\n",
    "              ) as estabelecimento_pronto_socorro_privado,\n",
    "            SUM(\n",
    "              CASE\n",
    "                estabelecimento_hospital_privado WHEN true then 1 else 0\n",
    "              END\n",
    "              ) as estabelecimento_hospital_privado\n",
    "          FROM gold\n",
    "          GROUP BY estabelecimento_sus\n",
    "          LIMIT 10\n",
    "          ''').show()"
   ]
  },
  {
   "cell_type": "code",
   "execution_count": 712,
   "id": "31f91079",
   "metadata": {},
   "outputs": [],
   "source": [
    "df_gold = df_gold.drop(\n",
    "    *cols_estabelecimentos\n",
    ")"
   ]
  },
  {
   "cell_type": "markdown",
   "id": "245656c6",
   "metadata": {},
   "source": [
    "### (b007) Tem plano de saúde"
   ]
  },
  {
   "cell_type": "code",
   "execution_count": 744,
   "id": "0c31e3ed",
   "metadata": {},
   "outputs": [
    {
     "name": "stdout",
     "output_type": "stream",
     "text": [
      "+----+------+\n",
      "|b007| count|\n",
      "+----+------+\n",
      "|   1|260528|\n",
      "|   9|  2470|\n",
      "|   2|886199|\n",
      "+----+------+\n",
      "\n"
     ]
    }
   ],
   "source": [
    "df_silver.groupBy('b007').count().show()"
   ]
  },
  {
   "cell_type": "code",
   "execution_count": 713,
   "id": "508a35fa",
   "metadata": {},
   "outputs": [],
   "source": [
    "# b007\n",
    "current_col = 'plano_saude'\n",
    "current_dict = {\n",
    "    1: True, 2: False, 9: None\n",
    "    }\n",
    "df_gold = convert_columns(df_gold, current_col, current_dict)"
   ]
  },
  {
   "cell_type": "markdown",
   "id": "7c8aded8",
   "metadata": {},
   "source": [
    "### (b009B) Teste SWAB"
   ]
  },
  {
   "cell_type": "code",
   "execution_count": 714,
   "id": "122ca75c",
   "metadata": {},
   "outputs": [],
   "source": [
    "# b009b\n",
    "current_col = 'teste_resultado_swab'\n",
    "current_dict = {\n",
    "    1: 'Positivo', 2: 'Negativo', 3: 'Inconclusivo', 4: 'Não recebeu', 9: None\n",
    "    }\n",
    "df_gold = convert_columns(df_gold, current_col, current_dict)"
   ]
  },
  {
   "cell_type": "markdown",
   "id": "582b26f4",
   "metadata": {},
   "source": [
    "### (b009D) Teste de furo no dedo"
   ]
  },
  {
   "cell_type": "code",
   "execution_count": 715,
   "id": "03d3e0be",
   "metadata": {},
   "outputs": [],
   "source": [
    "# b009d\n",
    "current_col = 'teste_resultado_furo'\n",
    "current_dict = {\n",
    "    1: 'Positivo', 2: 'Negativo', 3: 'Inconclusivo', 4: 'Não recebeu', 9: None\n",
    "    }\n",
    "df_gold = convert_columns(df_gold, current_col, current_dict)"
   ]
  },
  {
   "cell_type": "markdown",
   "id": "8056325f",
   "metadata": {},
   "source": [
    "### (b009F) Teste de sangue do braço"
   ]
  },
  {
   "cell_type": "code",
   "execution_count": 716,
   "id": "309e9e2b",
   "metadata": {},
   "outputs": [],
   "source": [
    "# b009d\n",
    "current_col = 'teste_resultado_braco'\n",
    "current_dict = {\n",
    "    1: 'Positivo', 2: 'Negativo', 3: 'Inconclusivo', 4: 'Não recebeu', 9: None\n",
    "    }\n",
    "df_gold = convert_columns(df_gold, current_col, current_dict)"
   ]
  },
  {
   "cell_type": "markdown",
   "id": "7dfca582",
   "metadata": {},
   "source": [
    "### (b010) Diagnósticos\n",
    "#### Diagnóstico de diabetes"
   ]
  },
  {
   "cell_type": "code",
   "execution_count": 717,
   "id": "5231cd4d",
   "metadata": {},
   "outputs": [],
   "source": [
    "# b0101\n",
    "current_col = 'diagnostico_diabetes'\n",
    "current_dict = {\n",
    "    1: True, 2: False, 9: None\n",
    "    }\n",
    "df_gold = convert_columns(df_gold, current_col, current_dict)"
   ]
  },
  {
   "cell_type": "markdown",
   "id": "0967fcab",
   "metadata": {},
   "source": [
    "#### Diagnóstico hipertensão"
   ]
  },
  {
   "cell_type": "code",
   "execution_count": 718,
   "id": "4c95418d",
   "metadata": {},
   "outputs": [],
   "source": [
    "# b0102\n",
    "current_col = 'diagnostico_hipertensao'\n",
    "current_dict = {\n",
    "    1: True, 2: False, 9: None\n",
    "    }\n",
    "df_gold = convert_columns(df_gold, current_col, current_dict)"
   ]
  },
  {
   "cell_type": "markdown",
   "id": "ab40ea27",
   "metadata": {},
   "source": [
    "#### Diagnóstico de doenças respiratórias"
   ]
  },
  {
   "cell_type": "code",
   "execution_count": 719,
   "id": "3b6c4152",
   "metadata": {},
   "outputs": [],
   "source": [
    "# b0103\n",
    "current_col = 'diagnostico_respiratorias'\n",
    "current_dict = {\n",
    "    1: True, 2: False, 9: None\n",
    "    }\n",
    "df_gold = convert_columns(df_gold, current_col, current_dict)"
   ]
  },
  {
   "cell_type": "markdown",
   "id": "f498d3e9",
   "metadata": {},
   "source": [
    "#### Diagnóstico de doenças cardíacas"
   ]
  },
  {
   "cell_type": "code",
   "execution_count": 720,
   "id": "f9a67843",
   "metadata": {},
   "outputs": [],
   "source": [
    "# b0104\n",
    "current_col = 'diagnostico_cardiacas'\n",
    "current_dict = {\n",
    "    1: True, 2: False, 9: None\n",
    "    }\n",
    "df_gold = convert_columns(df_gold, current_col, current_dict)"
   ]
  },
  {
   "cell_type": "markdown",
   "id": "39667585",
   "metadata": {},
   "source": [
    "#### Diagnóstico de depressão"
   ]
  },
  {
   "cell_type": "code",
   "execution_count": 721,
   "id": "803cfd02",
   "metadata": {},
   "outputs": [],
   "source": [
    "# b0105\n",
    "current_col = 'diagnostico_depressao'\n",
    "current_dict = {\n",
    "    1: True, 2: False, 9: None\n",
    "    }\n",
    "df_gold = convert_columns(df_gold, current_col, current_dict)"
   ]
  },
  {
   "cell_type": "markdown",
   "id": "c6c5b4ed",
   "metadata": {},
   "source": [
    "#### Diagnóstico de câncer"
   ]
  },
  {
   "cell_type": "code",
   "execution_count": 722,
   "id": "2c99e133",
   "metadata": {},
   "outputs": [],
   "source": [
    "# b0106\n",
    "current_col = 'diagnostico_cancer'\n",
    "current_dict = {\n",
    "    1: True, 2: False, 9: None\n",
    "    }\n",
    "df_gold = convert_columns(df_gold, current_col, current_dict)"
   ]
  },
  {
   "cell_type": "markdown",
   "id": "5cad25f7",
   "metadata": {},
   "source": [
    "### (b011) Contato reduzido"
   ]
  },
  {
   "cell_type": "code",
   "execution_count": 723,
   "id": "0eec1c73",
   "metadata": {},
   "outputs": [],
   "source": [
    "# b011\n",
    "current_col = 'contato_reduzido'\n",
    "current_dict = {\n",
    "    1: 'Sem restrição', 2: 'Reduziu mas continuou saindo', 3: 'Só saiu em caso de necessidade', 4: 'Ficou rigorosamente em casa'\n",
    "    }\n",
    "df_gold = convert_columns(df_gold, current_col, current_dict)"
   ]
  },
  {
   "cell_type": "markdown",
   "id": "ff4a786e",
   "metadata": {},
   "source": [
    "### (c002) Estava temporariamente afastado de algum trabalho"
   ]
  },
  {
   "cell_type": "code",
   "execution_count": 724,
   "id": "418c348d",
   "metadata": {},
   "outputs": [
    {
     "name": "stdout",
     "output_type": "stream",
     "text": [
      "+-------------------------------+------+\n",
      "|afastamento_temporario_trabalho| count|\n",
      "+-------------------------------+------+\n",
      "|                           NULL|624881|\n",
      "|                              1| 41605|\n",
      "|                              2|482711|\n",
      "+-------------------------------+------+\n",
      "\n"
     ]
    }
   ],
   "source": [
    "df_gold.groupBy('afastamento_temporario_trabalho').count().show()"
   ]
  },
  {
   "cell_type": "code",
   "execution_count": 725,
   "id": "7bcafc65",
   "metadata": {},
   "outputs": [],
   "source": [
    "# c002\n",
    "current_col = 'afastamento_temporario_trabalho'\n",
    "current_dict = {\n",
    "    1: True, 2: False, 9: None\n",
    "    }\n",
    "df_gold = convert_columns(df_gold, current_col, current_dict)"
   ]
  },
  {
   "cell_type": "markdown",
   "id": "6d2959b2",
   "metadata": {},
   "source": [
    "### (c004) Afastamento foi remunerado"
   ]
  },
  {
   "cell_type": "code",
   "execution_count": 726,
   "id": "8e8e5c79",
   "metadata": {},
   "outputs": [
    {
     "name": "stdout",
     "output_type": "stream",
     "text": [
      "+------------------------------+-------+\n",
      "|afastamento_manteu_remuneracao|  count|\n",
      "+------------------------------+-------+\n",
      "|                          NULL|1123153|\n",
      "|                             1|  11738|\n",
      "|                             3|    222|\n",
      "|                             2|  14084|\n",
      "+------------------------------+-------+\n",
      "\n"
     ]
    }
   ],
   "source": [
    "df_gold.groupBy('afastamento_manteu_remuneracao').count().show()"
   ]
  },
  {
   "cell_type": "code",
   "execution_count": 727,
   "id": "7b2728a7",
   "metadata": {},
   "outputs": [],
   "source": [
    "# c004\n",
    "current_col = 'afastamento_manteu_remuneracao'\n",
    "current_dict = {\n",
    "    1: True, 2: False, 3: True, 9: None\n",
    "    }\n",
    "df_gold = convert_columns(df_gold, current_col, current_dict)"
   ]
  },
  {
   "cell_type": "code",
   "execution_count": 728,
   "id": "fb3f38c2",
   "metadata": {},
   "outputs": [
    {
     "name": "stdout",
     "output_type": "stream",
     "text": [
      "+------------------------------+-------+\n",
      "|afastamento_manteu_remuneracao|  count|\n",
      "+------------------------------+-------+\n",
      "|                          NULL|1123153|\n",
      "|                          true|  11960|\n",
      "|                         false|  14084|\n",
      "+------------------------------+-------+\n",
      "\n"
     ]
    }
   ],
   "source": [
    "df_gold.groupBy('afastamento_manteu_remuneracao').count().show()"
   ]
  },
  {
   "cell_type": "markdown",
   "id": "b920ed06",
   "metadata": {},
   "source": [
    "### (c007) Função no trabalho"
   ]
  },
  {
   "cell_type": "code",
   "execution_count": 729,
   "id": "9cf7cf4e",
   "metadata": {},
   "outputs": [],
   "source": [
    "# c007c\n",
    "current_col = 'trabalho_funcao'\n",
    "current_dict = {\n",
    "    1:'Empregado doméstico, diarista, cozinheiro (em domicílios particulares), ',\n",
    "    2:'Faxineiro, auxiliar de limpeza etc. (em empresa pública ou privada), ',\n",
    "    3:'Auxiliar de escritório, escriturário',\n",
    "    4:'Secretária, recepcionista',\n",
    "    5:'Operador de Telemarketing',\n",
    "    6:'Comerciante (dono do bar, da loja etc.) ',\n",
    "    7:'Balconista, vendedor de loja',\n",
    "    8:'Vendedor a domicílio, representante de vendas, vendedor de catálogo (Avon, Natura etc.)  ',\n",
    "    9:'Vendedor ambulante (feirante, camelô, comerciante de rua, quiosque)',\n",
    "    10:'Cozinheiro e garçom (de restaurantes, empresas)',\n",
    "    11:'Padeiro, açougueiro e doceiro ',\n",
    "    12:'Agricultor, criador de animais, pescador, silvicultor e jardineiro',\n",
    "    13:'Auxiliar da agropecuária (colhedor de frutas, boia fria, etc.)',\n",
    "    14:'Motorista (de aplicativo, de taxi, de van, de mototáxi, de ônibus)',\n",
    "    15:'Motorista de caminhão (caminhoneiro), ',\n",
    "    16:'Motoboy, ',\n",
    "    17:'Entregador de mercadorias (de restaurante, de farmácia, de loja, Uber Eats, IFood, Rappy etc.) ',\n",
    "    18:'Pedreiro, servente de pedreiro, pintor, eletricista, marceneiro',\n",
    "    19:'Mecânico de veículos, máquinas industriais etc.',\n",
    "    20:'Artesão, costureiro e sapateiro',\n",
    "    21:'Cabeleireiro, manicure e afins',\n",
    "    22:'Operador de máquinas, montador na indústria; ',\n",
    "    23:'Auxiliar de produção, de carga e descarga;',\n",
    "    24:'Professor da educação infantil, de ensino fundamental, médio ou superior,',\n",
    "    25:'Pedagogo, professor de idiomas, música, arte e reforço escolar',\n",
    "    26:'Médico, enfermeiro, profissionais de saúde de nível superior',\n",
    "    27:'Técnico, profissional da saúde de nível médio ',\n",
    "    28:'Cuidador de crianças, doentes ou idosos',\n",
    "    29:'Segurança, vigilante, outro trabalhador dos serviços de proteção',\n",
    "    30:'Policial civil',\n",
    "    31:'Porteiro, zelador',\n",
    "    32:'Artista, religioso (padre, pastor etc.)',\n",
    "    33:'Diretor, gerente, cargo político ou comissionado',\n",
    "    34:'Outra profissão de nível superior (advogado, engenheiro, contador, jornalista etc.)',\n",
    "    35:'Outro técnico ou profissional de nível médio',\n",
    "    36:'Outros'\n",
    "    }\n",
    "df_gold = convert_columns(df_gold, current_col, current_dict)"
   ]
  },
  {
   "cell_type": "markdown",
   "id": "29458603",
   "metadata": {},
   "source": [
    "### (c010) Rendimento regular"
   ]
  },
  {
   "cell_type": "code",
   "execution_count": 730,
   "id": "ade191a0",
   "metadata": {},
   "outputs": [],
   "source": [
    "# c01011\n",
    "current_col = 'rendimento_regular'\n",
    "current_dict = {\n",
    "    0 : '0 - 100',\n",
    "    1 : '101 - 300',\n",
    "    2 : '301 - 600',\n",
    "    3 : '601 - 800',\n",
    "    4 : '801 - 1.600',\n",
    "    5 : '1.601 - 3.000',\n",
    "    6 : '3.001 - 10.000',\n",
    "    7 : '10.001 - 50.000',\n",
    "    8 : '50.001 - 100.000',\n",
    "    9 : 'Mais de 100.000'\n",
    "    }\n",
    "df_gold = convert_columns(df_gold, current_col, current_dict)"
   ]
  },
  {
   "cell_type": "markdown",
   "id": "6e313dfd",
   "metadata": {},
   "source": [
    "### (c011) Rendimento real"
   ]
  },
  {
   "cell_type": "code",
   "execution_count": 731,
   "id": "055aac3d",
   "metadata": {},
   "outputs": [],
   "source": [
    "# c011a11\n",
    "current_col = 'rendimento_real'\n",
    "current_dict = {\n",
    "    0 : '0 - 100',\n",
    "    1 : '101 - 300',\n",
    "    2 : '301 - 600',\n",
    "    3 : '601 - 800',\n",
    "    4 : '801 - 1.600',\n",
    "    5 : '1.601 - 3.000',\n",
    "    6 : '3.001 - 10.000',\n",
    "    7 : '10.001 - 50.000',\n",
    "    8 : '50.001 - 100.000',\n",
    "    9 : 'Mais de 100.000'\n",
    "    }\n",
    "df_gold = convert_columns(df_gold, current_col, current_dict)"
   ]
  },
  {
   "cell_type": "markdown",
   "id": "99fec66c",
   "metadata": {},
   "source": [
    "### (NEW) Rendimento mudou?"
   ]
  },
  {
   "cell_type": "code",
   "execution_count": 732,
   "id": "af64469f",
   "metadata": {},
   "outputs": [
    {
     "name": "stdout",
     "output_type": "stream",
     "text": [
      "+---+--------+------------------+-----+-------+--------------------+-------------+-------------+--------------------+----------------------------+------------------+-----------------+--------------+--------------------------+--------------+-----------------+--------------------------+-----------------+-----------------+---------------------------+-----------+--------------------+--------------------+---------------------+--------------------+-----------------------+-------------------------+---------------------+---------------------+------------------+--------------------+-------------------------------+------------------------------+--------------------+------------------+---------------+-----------+------+-------------+-------------------+----------------+\n",
      "|mes|      uf|situacao_domicilio|idade|    cor|        escolaridade|sintoma_febre|sintoma_tosse|sintoma_dor_garganta|sintoma_dificuldade_respirar|sintoma_dor_cabeca|sintoma_dor_peito|sintoma_nausea|sintoma_dor_nariz_entupido|sintoma_fadiga|sintoma_dor_olhos|sintoma_perda_cheiro_sabor|sintoma_dor_corpo|sintoma_diarreira|foi_a_estabelecimento_saude|plano_saude|teste_resultado_swab|teste_resultado_furo|teste_resultado_braco|diagnostico_diabetes|diagnostico_hipertensao|diagnostico_respiratorias|diagnostico_cardiacas|diagnostico_depressao|diagnostico_cancer|    contato_reduzido|afastamento_temporario_trabalho|afastamento_manteu_remuneracao|     trabalho_funcao|rendimento_regular|rendimento_real|home_office|regiao|teve_sintomas|estabelecimento_sus|rendimento_mudou|\n",
      "+---+--------+------------------+-----+-------+--------------------+-------------+-------------+--------------------+----------------------------+------------------+-----------------+--------------+--------------------------+--------------+-----------------+--------------------------+-----------------+-----------------+---------------------------+-----------+--------------------+--------------------+---------------------+--------------------+-----------------------+-------------------------+---------------------+---------------------+------------------+--------------------+-------------------------------+------------------------------+--------------------+------------------+---------------+-----------+------+-------------+-------------------+----------------+\n",
      "| 10|Rondônia|            Urbana|   36|  Parda|      Médio completo|        false|        false|               false|                       false|             false|            false|         false|                     false|         false|            false|                     false|            false|            false|                       NULL|       true|                NULL|                NULL|                 NULL|               false|                  false|                    false|                false|                false|             false|Reduziu mas conti...|                           NULL|                          NULL|Secretária, recep...|       801 - 1.600|    801 - 1.600|       NULL| Norte|        false|               NULL|           false|\n",
      "| 10|Rondônia|            Urbana|   30|  Parda|   Superior completo|        false|        false|               false|                       false|             false|            false|         false|                     false|         false|            false|                     false|            false|            false|                       NULL|      false|                NULL|                NULL|                 NULL|               false|                  false|                    false|                false|                false|             false|Reduziu mas conti...|                           NULL|                          NULL|Balconista, vende...|       801 - 1.600|    801 - 1.600|       NULL| Norte|        false|               NULL|           false|\n",
      "| 10|Rondônia|            Urbana|   13|  Parda|Fundamental incom...|        false|        false|               false|                       false|             false|            false|         false|                     false|         false|            false|                     false|            false|            false|                       NULL|       true|                NULL|                NULL|                 NULL|               false|                  false|                    false|                false|                false|             false|Ficou rigorosamen...|                           NULL|                          NULL|                NULL|              NULL|           NULL|       NULL| Norte|        false|               NULL|           false|\n",
      "| 10|Rondônia|            Urbana|   11|  Parda|Fundamental incom...|        false|        false|               false|                       false|             false|            false|         false|                     false|         false|            false|                     false|            false|            false|                       NULL|       true|                NULL|                NULL|                 NULL|               false|                  false|                    false|                false|                false|             false|Ficou rigorosamen...|                           NULL|                          NULL|                NULL|              NULL|           NULL|       NULL| Norte|        false|               NULL|           false|\n",
      "| 10|Rondônia|            Urbana|   57| Branca|Fundamental incom...|        false|        false|               false|                       false|             false|            false|         false|                     false|         false|            false|                     false|            false|            false|                       NULL|      false|                NULL|                NULL|                 NULL|               false|                  false|                    false|                false|                false|             false|Só saiu em caso d...|                          false|                          NULL|                NULL|              NULL|           NULL|       NULL| Norte|        false|               NULL|           false|\n",
      "| 10|Rondônia|            Urbana|   58|  Preta|       Sem instrução|        false|        false|               false|                       false|             false|            false|         false|                     false|         false|            false|                     false|            false|            false|                       NULL|      false|                NULL|                NULL|                 NULL|                true|                   true|                    false|                false|                false|             false|Só saiu em caso d...|                           NULL|                          NULL|Balconista, vende...|         101 - 300|        0 - 100|       NULL| Norte|        false|               NULL|            true|\n",
      "| 10|Rondônia|            Urbana|   47|  Parda|Fundamental incom...|        false|        false|               false|                       false|             false|            false|         false|                     false|         false|            false|                     false|            false|            false|                       NULL|      false|                NULL|                NULL|                 NULL|               false|                  false|                    false|                false|                false|             false|Reduziu mas conti...|                           NULL|                          NULL|Balconista, vende...|       801 - 1.600|      301 - 600|       NULL| Norte|        false|               NULL|            true|\n",
      "| 10|Rondônia|            Urbana|   18|  Parda|Fundamental incom...|        false|        false|               false|                       false|             false|            false|         false|                     false|         false|            false|                     false|            false|            false|                       NULL|      false|                NULL|                NULL|                 NULL|               false|                  false|                    false|                false|                false|             false|Só saiu em caso d...|                          false|                          NULL|                NULL|              NULL|           NULL|       NULL| Norte|        false|               NULL|           false|\n",
      "| 10|Rondônia|            Urbana|   11|  Parda|Fundamental incom...|        false|        false|               false|                       false|             false|            false|         false|                     false|         false|            false|                     false|            false|            false|                       NULL|      false|                NULL|                NULL|                 NULL|               false|                  false|                    false|                false|                false|             false|Ficou rigorosamen...|                           NULL|                          NULL|                NULL|              NULL|           NULL|       NULL| Norte|        false|               NULL|           false|\n",
      "| 10|Rondônia|            Urbana|    9|  Parda|Fundamental incom...|        false|        false|               false|                       false|             false|            false|         false|                     false|         false|            false|                     false|            false|            false|                       NULL|      false|                NULL|                NULL|                 NULL|               false|                  false|                    false|                false|                false|             false|Ficou rigorosamen...|                           NULL|                          NULL|                NULL|              NULL|           NULL|       NULL| Norte|        false|               NULL|           false|\n",
      "| 10|Rondônia|            Urbana|   10|  Parda|Fundamental incom...|        false|        false|               false|                       false|             false|            false|         false|                     false|         false|            false|                     false|            false|            false|                       NULL|      false|                NULL|                NULL|                 NULL|               false|                  false|                    false|                false|                false|             false|Ficou rigorosamen...|                           NULL|                          NULL|                NULL|              NULL|           NULL|       NULL| Norte|        false|               NULL|           false|\n",
      "| 10|Rondônia|            Urbana|   26|  Parda|      Médio completo|        false|        false|               false|                       false|             false|            false|         false|                     false|         false|            false|                     false|            false|            false|                       NULL|      false|                NULL|                NULL|                 NULL|               false|                  false|                    false|                false|                false|             false|Reduziu mas conti...|                           NULL|                          NULL|Balconista, vende...|       801 - 1.600|      301 - 600|       NULL| Norte|        false|               NULL|            true|\n",
      "| 10|Rondônia|            Urbana|   14|Amarela|Fundamental incom...|        false|        false|               false|                       false|             false|            false|         false|                     false|         false|            false|                     false|            false|            false|                       NULL|      false|                NULL|                NULL|                 NULL|               false|                  false|                    false|                false|                false|             false|Ficou rigorosamen...|                          false|                          NULL|                NULL|              NULL|           NULL|       NULL| Norte|        false|               NULL|           false|\n",
      "| 10|Rondônia|            Urbana|   15|  Parda|Fundamental incom...|        false|        false|               false|                       false|             false|            false|         false|                     false|         false|            false|                     false|            false|            false|                       NULL|      false|                NULL|                NULL|                 NULL|               false|                  false|                    false|                false|                false|             false|Ficou rigorosamen...|                          false|                          NULL|                NULL|              NULL|           NULL|       NULL| Norte|        false|               NULL|           false|\n",
      "| 10|Rondônia|            Urbana|   33|  Parda|Fundamental incom...|        false|        false|               false|                       false|             false|            false|         false|                     false|         false|            false|                     false|            false|            false|                       NULL|      false|                NULL|                NULL|                 NULL|               false|                  false|                    false|                false|                false|             false|Só saiu em caso d...|                          false|                          NULL|                NULL|              NULL|           NULL|       NULL| Norte|        false|               NULL|           false|\n",
      "| 10|Rondônia|            Urbana|   62|  Parda|       Sem instrução|        false|        false|               false|                       false|             false|            false|         false|                     false|         false|            false|                     false|            false|            false|                       NULL|      false|                NULL|                NULL|                 NULL|               false|                  false|                    false|                false|                false|             false|Reduziu mas conti...|                           NULL|                          NULL|Balconista, vende...|       801 - 1.600|    801 - 1.600|       NULL| Norte|        false|               NULL|           false|\n",
      "| 10|Rondônia|            Urbana|   62|  Parda|Fundamental incom...|        false|        false|               false|                       false|             false|            false|         false|                     false|         false|            false|                     false|            false|            false|                       NULL|      false|                NULL|                NULL|                 NULL|               false|                  false|                    false|                false|                false|             false|Reduziu mas conti...|                          false|                          NULL|                NULL|              NULL|           NULL|       NULL| Norte|        false|               NULL|           false|\n",
      "| 10|Rondônia|            Urbana|   34|  Parda|      Médio completo|        false|        false|               false|                       false|             false|            false|         false|                     false|         false|            false|                     false|            false|            false|                       NULL|      false|                NULL|                NULL|                 NULL|               false|                  false|                    false|                false|                false|             false|Reduziu mas conti...|                           NULL|                          NULL|Secretária, recep...|       801 - 1.600|    801 - 1.600|       NULL| Norte|        false|               NULL|           false|\n",
      "| 10|Rondônia|            Urbana|   26|  Parda| Superior incompleto|        false|        false|               false|                       false|             false|            false|         false|                     false|         false|            false|                     false|            false|            false|                       NULL|      false|                NULL|                NULL|                 NULL|               false|                  false|                    false|                false|                false|             false|Reduziu mas conti...|                           NULL|                          NULL|Secretária, recep...|       801 - 1.600|    801 - 1.600|       NULL| Norte|        false|               NULL|           false|\n",
      "| 10|Rondônia|            Urbana|   44|  Parda|   Superior completo|        false|        false|               false|                       false|             false|            false|         false|                     false|         false|            false|                     false|            false|            false|                       NULL|      false|                NULL|            Negativo|             Negativo|               false|                  false|                    false|                false|                false|             false|Reduziu mas conti...|                           NULL|                          NULL|Operador de Telem...|    3.001 - 10.000| 3.001 - 10.000|       NULL| Norte|        false|               NULL|           false|\n",
      "+---+--------+------------------+-----+-------+--------------------+-------------+-------------+--------------------+----------------------------+------------------+-----------------+--------------+--------------------------+--------------+-----------------+--------------------------+-----------------+-----------------+---------------------------+-----------+--------------------+--------------------+---------------------+--------------------+-----------------------+-------------------------+---------------------+---------------------+------------------+--------------------+-------------------------------+------------------------------+--------------------+------------------+---------------+-----------+------+-------------+-------------------+----------------+\n",
      "only showing top 20 rows\n",
      "\n"
     ]
    }
   ],
   "source": [
    "df_gold = df_gold.withColumn(\n",
    "    'rendimento_mudou',\n",
    "    F.when(F.col('rendimento_regular') == F.col('rendimento_real'), False)\\\n",
    "    .when(F.col('rendimento_regular').isNull(), False)\\\n",
    "    .when(F.col('rendimento_real').isNull(), False).otherwise(True)\n",
    ")\n",
    "\n",
    "df_gold.show()"
   ]
  },
  {
   "cell_type": "markdown",
   "id": "a2a58d4f",
   "metadata": {},
   "source": [
    "### (c013) Trabalhou em home office"
   ]
  },
  {
   "cell_type": "code",
   "execution_count": 733,
   "id": "ffddb5ac",
   "metadata": {},
   "outputs": [],
   "source": [
    "# c0013\n",
    "current_col = 'home_office'\n",
    "df_gold.na.fill({current_col : False})\n",
    "current_dict = {\n",
    "    1: True, 2: False\n",
    "    }\n",
    "\n",
    "df_gold = convert_columns(df_gold, current_col, current_dict)"
   ]
  },
  {
   "cell_type": "markdown",
   "id": "d8b5540d",
   "metadata": {},
   "source": [
    "### (NEW) Fez teste"
   ]
  },
  {
   "cell_type": "code",
   "execution_count": 734,
   "id": "992a3e6a",
   "metadata": {},
   "outputs": [
    {
     "name": "stdout",
     "output_type": "stream",
     "text": [
      "+---+--------+------------------+-----+-----+--------------------+-------------+-------------+--------------------+----------------------------+------------------+-----------------+--------------+--------------------------+--------------+-----------------+--------------------------+-----------------+-----------------+---------------------------+-----------+--------------------+--------------------+---------------------+--------------------+-----------------------+-------------------------+---------------------+---------------------+------------------+--------------------+-------------------------------+------------------------------+--------------------+------------------+---------------+-----------+------+-------------+-------------------+----------------+-----------+\n",
      "|mes|      uf|situacao_domicilio|idade|  cor|        escolaridade|sintoma_febre|sintoma_tosse|sintoma_dor_garganta|sintoma_dificuldade_respirar|sintoma_dor_cabeca|sintoma_dor_peito|sintoma_nausea|sintoma_dor_nariz_entupido|sintoma_fadiga|sintoma_dor_olhos|sintoma_perda_cheiro_sabor|sintoma_dor_corpo|sintoma_diarreira|foi_a_estabelecimento_saude|plano_saude|teste_resultado_swab|teste_resultado_furo|teste_resultado_braco|diagnostico_diabetes|diagnostico_hipertensao|diagnostico_respiratorias|diagnostico_cardiacas|diagnostico_depressao|diagnostico_cancer|    contato_reduzido|afastamento_temporario_trabalho|afastamento_manteu_remuneracao|     trabalho_funcao|rendimento_regular|rendimento_real|home_office|regiao|teve_sintomas|estabelecimento_sus|rendimento_mudou|teste_feito|\n",
      "+---+--------+------------------+-----+-----+--------------------+-------------+-------------+--------------------+----------------------------+------------------+-----------------+--------------+--------------------------+--------------+-----------------+--------------------------+-----------------+-----------------+---------------------------+-----------+--------------------+--------------------+---------------------+--------------------+-----------------------+-------------------------+---------------------+---------------------+------------------+--------------------+-------------------------------+------------------------------+--------------------+------------------+---------------+-----------+------+-------------+-------------------+----------------+-----------+\n",
      "| 10|Rondônia|            Urbana|   36|Parda|      Médio completo|        false|        false|               false|                       false|             false|            false|         false|                     false|         false|            false|                     false|            false|            false|                       NULL|       true|                NULL|                NULL|                 NULL|               false|                  false|                    false|                false|                false|             false|Reduziu mas conti...|                           NULL|                          NULL|Secretária, recep...|       801 - 1.600|    801 - 1.600|       NULL| Norte|        false|               NULL|           false|      false|\n",
      "| 10|Rondônia|            Urbana|   30|Parda|   Superior completo|        false|        false|               false|                       false|             false|            false|         false|                     false|         false|            false|                     false|            false|            false|                       NULL|      false|                NULL|                NULL|                 NULL|               false|                  false|                    false|                false|                false|             false|Reduziu mas conti...|                           NULL|                          NULL|Balconista, vende...|       801 - 1.600|    801 - 1.600|       NULL| Norte|        false|               NULL|           false|      false|\n",
      "| 10|Rondônia|            Urbana|   13|Parda|Fundamental incom...|        false|        false|               false|                       false|             false|            false|         false|                     false|         false|            false|                     false|            false|            false|                       NULL|       true|                NULL|                NULL|                 NULL|               false|                  false|                    false|                false|                false|             false|Ficou rigorosamen...|                           NULL|                          NULL|                NULL|              NULL|           NULL|       NULL| Norte|        false|               NULL|           false|      false|\n",
      "+---+--------+------------------+-----+-----+--------------------+-------------+-------------+--------------------+----------------------------+------------------+-----------------+--------------+--------------------------+--------------+-----------------+--------------------------+-----------------+-----------------+---------------------------+-----------+--------------------+--------------------+---------------------+--------------------+-----------------------+-------------------------+---------------------+---------------------+------------------+--------------------+-------------------------------+------------------------------+--------------------+------------------+---------------+-----------+------+-------------+-------------------+----------------+-----------+\n",
      "only showing top 3 rows\n",
      "\n"
     ]
    }
   ],
   "source": [
    "df_gold = df_gold.withColumn(\n",
    "    'teste_feito',\n",
    "    F.when(F.col('teste_resultado_swab').isNull() & F.col('teste_resultado_furo').isNull() & F.col('teste_resultado_braco').isNull(), False)\\\n",
    "    .otherwise(True)\n",
    ")\n",
    "\n",
    "df_gold.show(3)"
   ]
  },
  {
   "cell_type": "markdown",
   "id": "e25cdc10",
   "metadata": {},
   "source": [
    "### (NEW) Teste positivo"
   ]
  },
  {
   "cell_type": "code",
   "execution_count": 735,
   "id": "3720b38d",
   "metadata": {},
   "outputs": [
    {
     "name": "stdout",
     "output_type": "stream",
     "text": [
      "+---+--------+------------------+-----+-----+--------------------+-------------+-------------+--------------------+----------------------------+------------------+-----------------+--------------+--------------------------+--------------+-----------------+--------------------------+-----------------+-----------------+---------------------------+-----------+--------------------+--------------------+---------------------+--------------------+-----------------------+-------------------------+---------------------+---------------------+------------------+--------------------+-------------------------------+------------------------------+--------------------+------------------+---------------+-----------+------+-------------+-------------------+----------------+-----------+--------------+\n",
      "|mes|      uf|situacao_domicilio|idade|  cor|        escolaridade|sintoma_febre|sintoma_tosse|sintoma_dor_garganta|sintoma_dificuldade_respirar|sintoma_dor_cabeca|sintoma_dor_peito|sintoma_nausea|sintoma_dor_nariz_entupido|sintoma_fadiga|sintoma_dor_olhos|sintoma_perda_cheiro_sabor|sintoma_dor_corpo|sintoma_diarreira|foi_a_estabelecimento_saude|plano_saude|teste_resultado_swab|teste_resultado_furo|teste_resultado_braco|diagnostico_diabetes|diagnostico_hipertensao|diagnostico_respiratorias|diagnostico_cardiacas|diagnostico_depressao|diagnostico_cancer|    contato_reduzido|afastamento_temporario_trabalho|afastamento_manteu_remuneracao|     trabalho_funcao|rendimento_regular|rendimento_real|home_office|regiao|teve_sintomas|estabelecimento_sus|rendimento_mudou|teste_feito|teste_positivo|\n",
      "+---+--------+------------------+-----+-----+--------------------+-------------+-------------+--------------------+----------------------------+------------------+-----------------+--------------+--------------------------+--------------+-----------------+--------------------------+-----------------+-----------------+---------------------------+-----------+--------------------+--------------------+---------------------+--------------------+-----------------------+-------------------------+---------------------+---------------------+------------------+--------------------+-------------------------------+------------------------------+--------------------+------------------+---------------+-----------+------+-------------+-------------------+----------------+-----------+--------------+\n",
      "| 10|Rondônia|            Urbana|   36|Parda|      Médio completo|        false|        false|               false|                       false|             false|            false|         false|                     false|         false|            false|                     false|            false|            false|                       NULL|       true|                NULL|                NULL|                 NULL|               false|                  false|                    false|                false|                false|             false|Reduziu mas conti...|                           NULL|                          NULL|Secretária, recep...|       801 - 1.600|    801 - 1.600|       NULL| Norte|        false|               NULL|           false|      false|         false|\n",
      "| 10|Rondônia|            Urbana|   30|Parda|   Superior completo|        false|        false|               false|                       false|             false|            false|         false|                     false|         false|            false|                     false|            false|            false|                       NULL|      false|                NULL|                NULL|                 NULL|               false|                  false|                    false|                false|                false|             false|Reduziu mas conti...|                           NULL|                          NULL|Balconista, vende...|       801 - 1.600|    801 - 1.600|       NULL| Norte|        false|               NULL|           false|      false|         false|\n",
      "| 10|Rondônia|            Urbana|   13|Parda|Fundamental incom...|        false|        false|               false|                       false|             false|            false|         false|                     false|         false|            false|                     false|            false|            false|                       NULL|       true|                NULL|                NULL|                 NULL|               false|                  false|                    false|                false|                false|             false|Ficou rigorosamen...|                           NULL|                          NULL|                NULL|              NULL|           NULL|       NULL| Norte|        false|               NULL|           false|      false|         false|\n",
      "+---+--------+------------------+-----+-----+--------------------+-------------+-------------+--------------------+----------------------------+------------------+-----------------+--------------+--------------------------+--------------+-----------------+--------------------------+-----------------+-----------------+---------------------------+-----------+--------------------+--------------------+---------------------+--------------------+-----------------------+-------------------------+---------------------+---------------------+------------------+--------------------+-------------------------------+------------------------------+--------------------+------------------+---------------+-----------+------+-------------+-------------------+----------------+-----------+--------------+\n",
      "only showing top 3 rows\n",
      "\n"
     ]
    }
   ],
   "source": [
    "df_gold = df_gold.withColumn(\n",
    "    'teste_positivo',\n",
    "    F.when(F.col('teste_resultado_swab') == 'Positivo', True)\\\n",
    "    .when(F.col('teste_resultado_furo') == 'Positivo', True)\\\n",
    "    .when(F.col('teste_resultado_braco') == 'Positivo',True)\\\n",
    "    .otherwise(False)\n",
    "    )\n",
    "\n",
    "df_gold.show(3)"
   ]
  },
  {
   "cell_type": "code",
   "execution_count": 736,
   "id": "909678a5",
   "metadata": {},
   "outputs": [
    {
     "name": "stdout",
     "output_type": "stream",
     "text": [
      "+--------------------+--------------------+---------------------+--------------+-----------+\n",
      "|teste_resultado_swab|teste_resultado_furo|teste_resultado_braco|teste_positivo|teste_feito|\n",
      "+--------------------+--------------------+---------------------+--------------+-----------+\n",
      "|            Positivo|            Negativo|             Positivo|          true|       true|\n",
      "|                NULL|            Positivo|             Positivo|          true|       true|\n",
      "|                NULL|            Positivo|             Positivo|          true|       true|\n",
      "|                NULL|                NULL|             Positivo|          true|       true|\n",
      "|        Inconclusivo|                NULL|             Positivo|          true|       true|\n",
      "|            Positivo|                NULL|             Negativo|          true|       true|\n",
      "|            Positivo|            Positivo|             Positivo|          true|       true|\n",
      "|                NULL|            Positivo|             Positivo|          true|       true|\n",
      "|                NULL|            Positivo|             Positivo|          true|       true|\n",
      "|                NULL|            Negativo|             Positivo|          true|       true|\n",
      "|            Positivo|                NULL|                 NULL|          true|       true|\n",
      "|            Positivo|                NULL|                 NULL|          true|       true|\n",
      "|            Positivo|                NULL|                 NULL|          true|       true|\n",
      "|            Positivo|                NULL|                 NULL|          true|       true|\n",
      "|                NULL|            Positivo|             Positivo|          true|       true|\n",
      "|            Positivo|                NULL|                 NULL|          true|       true|\n",
      "|            Positivo|                NULL|                 NULL|          true|       true|\n",
      "|                NULL|                NULL|             Positivo|          true|       true|\n",
      "|                NULL|            Positivo|                 NULL|          true|       true|\n",
      "|                NULL|            Positivo|                 NULL|          true|       true|\n",
      "+--------------------+--------------------+---------------------+--------------+-----------+\n",
      "only showing top 20 rows\n",
      "\n"
     ]
    }
   ],
   "source": [
    "df_gold.createOrReplaceTempView('gold')\n",
    "\n",
    "spark.sql('''\n",
    "          SELECT teste_resultado_swab, teste_resultado_furo, teste_resultado_braco, teste_positivo, teste_feito FROM gold\n",
    "          WHERE teste_resultado_swab = 'Positivo' OR teste_resultado_furo = 'Positivo' OR teste_resultado_braco = 'Positivo'\n",
    "          ''').show()"
   ]
  },
  {
   "cell_type": "code",
   "execution_count": 737,
   "id": "b3fea4dc",
   "metadata": {},
   "outputs": [
    {
     "name": "stdout",
     "output_type": "stream",
     "text": [
      "+--------------------+--------------------+---------------------+--------------+-----------+\n",
      "|teste_resultado_swab|teste_resultado_furo|teste_resultado_braco|teste_positivo|teste_feito|\n",
      "+--------------------+--------------------+---------------------+--------------+-----------+\n",
      "|                NULL|            Negativo|             Negativo|         false|       true|\n",
      "|            Positivo|            Negativo|             Positivo|          true|       true|\n",
      "|            Negativo|                NULL|                 NULL|         false|       true|\n",
      "|            Negativo|                NULL|                 NULL|         false|       true|\n",
      "|            Positivo|                NULL|             Negativo|          true|       true|\n",
      "|                NULL|            Negativo|             Positivo|          true|       true|\n",
      "|            Negativo|            Negativo|             Negativo|         false|       true|\n",
      "|                NULL|                NULL|             Negativo|         false|       true|\n",
      "|            Negativo|                NULL|                 NULL|         false|       true|\n",
      "|                NULL|                NULL|             Negativo|         false|       true|\n",
      "|                NULL|                NULL|             Negativo|         false|       true|\n",
      "|            Negativo|                NULL|                 NULL|         false|       true|\n",
      "|                NULL|            Negativo|                 NULL|         false|       true|\n",
      "|                NULL|                NULL|             Negativo|         false|       true|\n",
      "|                NULL|            Negativo|                 NULL|         false|       true|\n",
      "|            Negativo|                NULL|                 NULL|         false|       true|\n",
      "|                NULL|            Negativo|             Negativo|         false|       true|\n",
      "|                NULL|            Negativo|             Negativo|         false|       true|\n",
      "|            Negativo|                NULL|                 NULL|         false|       true|\n",
      "|                NULL|                NULL|             Negativo|         false|       true|\n",
      "+--------------------+--------------------+---------------------+--------------+-----------+\n",
      "only showing top 20 rows\n",
      "\n"
     ]
    }
   ],
   "source": [
    "df_gold.createOrReplaceTempView('gold')\n",
    "\n",
    "spark.sql('''\n",
    "          SELECT teste_resultado_swab, teste_resultado_furo, teste_resultado_braco, teste_positivo, teste_feito FROM gold\n",
    "          WHERE teste_resultado_swab = 'Negativo' OR teste_resultado_furo = 'Negativo' OR teste_resultado_braco = 'Negativo'\n",
    "          ''').show()"
   ]
  },
  {
   "cell_type": "code",
   "execution_count": 738,
   "id": "416a041a",
   "metadata": {},
   "outputs": [
    {
     "name": "stdout",
     "output_type": "stream",
     "text": [
      "+---+--------+------------------+-----+-----+--------------------+-------------+-------------+--------------------+----------------------------+------------------+-----------------+--------------+--------------------------+--------------+-----------------+--------------------------+-----------------+-----------------+---------------------------+-----------+--------------------+-----------------------+-------------------------+---------------------+---------------------+------------------+--------------------+-------------------------------+------------------------------+--------------------+------------------+---------------+-----------+------+-------------+-------------------+----------------+-----------+--------------+\n",
      "|mes|      uf|situacao_domicilio|idade|  cor|        escolaridade|sintoma_febre|sintoma_tosse|sintoma_dor_garganta|sintoma_dificuldade_respirar|sintoma_dor_cabeca|sintoma_dor_peito|sintoma_nausea|sintoma_dor_nariz_entupido|sintoma_fadiga|sintoma_dor_olhos|sintoma_perda_cheiro_sabor|sintoma_dor_corpo|sintoma_diarreira|foi_a_estabelecimento_saude|plano_saude|diagnostico_diabetes|diagnostico_hipertensao|diagnostico_respiratorias|diagnostico_cardiacas|diagnostico_depressao|diagnostico_cancer|    contato_reduzido|afastamento_temporario_trabalho|afastamento_manteu_remuneracao|     trabalho_funcao|rendimento_regular|rendimento_real|home_office|regiao|teve_sintomas|estabelecimento_sus|rendimento_mudou|teste_feito|teste_positivo|\n",
      "+---+--------+------------------+-----+-----+--------------------+-------------+-------------+--------------------+----------------------------+------------------+-----------------+--------------+--------------------------+--------------+-----------------+--------------------------+-----------------+-----------------+---------------------------+-----------+--------------------+-----------------------+-------------------------+---------------------+---------------------+------------------+--------------------+-------------------------------+------------------------------+--------------------+------------------+---------------+-----------+------+-------------+-------------------+----------------+-----------+--------------+\n",
      "| 10|Rondônia|            Urbana|   36|Parda|      Médio completo|        false|        false|               false|                       false|             false|            false|         false|                     false|         false|            false|                     false|            false|            false|                       NULL|       true|               false|                  false|                    false|                false|                false|             false|Reduziu mas conti...|                           NULL|                          NULL|Secretária, recep...|       801 - 1.600|    801 - 1.600|       NULL| Norte|        false|               NULL|           false|      false|         false|\n",
      "| 10|Rondônia|            Urbana|   30|Parda|   Superior completo|        false|        false|               false|                       false|             false|            false|         false|                     false|         false|            false|                     false|            false|            false|                       NULL|      false|               false|                  false|                    false|                false|                false|             false|Reduziu mas conti...|                           NULL|                          NULL|Balconista, vende...|       801 - 1.600|    801 - 1.600|       NULL| Norte|        false|               NULL|           false|      false|         false|\n",
      "| 10|Rondônia|            Urbana|   13|Parda|Fundamental incom...|        false|        false|               false|                       false|             false|            false|         false|                     false|         false|            false|                     false|            false|            false|                       NULL|       true|               false|                  false|                    false|                false|                false|             false|Ficou rigorosamen...|                           NULL|                          NULL|                NULL|              NULL|           NULL|       NULL| Norte|        false|               NULL|           false|      false|         false|\n",
      "+---+--------+------------------+-----+-----+--------------------+-------------+-------------+--------------------+----------------------------+------------------+-----------------+--------------+--------------------------+--------------+-----------------+--------------------------+-----------------+-----------------+---------------------------+-----------+--------------------+-----------------------+-------------------------+---------------------+---------------------+------------------+--------------------+-------------------------------+------------------------------+--------------------+------------------+---------------+-----------+------+-------------+-------------------+----------------+-----------+--------------+\n",
      "only showing top 3 rows\n",
      "\n"
     ]
    }
   ],
   "source": [
    "df_gold = df_gold.drop(\n",
    "    *['teste_resultado_swab', 'teste_resultado_furo', 'teste_resultado_braco']\n",
    ")\n",
    "\n",
    "df_gold.show(3)"
   ]
  },
  {
   "cell_type": "markdown",
   "id": "f16bfaf7",
   "metadata": {},
   "source": [
    "### (NEW) Acima de 14 anos"
   ]
  },
  {
   "cell_type": "code",
   "execution_count": 739,
   "id": "5c2f0896",
   "metadata": {},
   "outputs": [
    {
     "name": "stdout",
     "output_type": "stream",
     "text": [
      "+---+--------+------------------+-----+------+--------------------+-------------+-------------+--------------------+----------------------------+------------------+-----------------+--------------+--------------------------+--------------+-----------------+--------------------------+-----------------+-----------------+---------------------------+-----------+--------------------+-----------------------+-------------------------+---------------------+---------------------+------------------+--------------------+-------------------------------+------------------------------+--------------------+------------------+---------------+-----------+------+-------------+-------------------+----------------+-----------+--------------+--------+\n",
      "|mes|      uf|situacao_domicilio|idade|   cor|        escolaridade|sintoma_febre|sintoma_tosse|sintoma_dor_garganta|sintoma_dificuldade_respirar|sintoma_dor_cabeca|sintoma_dor_peito|sintoma_nausea|sintoma_dor_nariz_entupido|sintoma_fadiga|sintoma_dor_olhos|sintoma_perda_cheiro_sabor|sintoma_dor_corpo|sintoma_diarreira|foi_a_estabelecimento_saude|plano_saude|diagnostico_diabetes|diagnostico_hipertensao|diagnostico_respiratorias|diagnostico_cardiacas|diagnostico_depressao|diagnostico_cancer|    contato_reduzido|afastamento_temporario_trabalho|afastamento_manteu_remuneracao|     trabalho_funcao|rendimento_regular|rendimento_real|home_office|regiao|teve_sintomas|estabelecimento_sus|rendimento_mudou|teste_feito|teste_positivo|acima_14|\n",
      "+---+--------+------------------+-----+------+--------------------+-------------+-------------+--------------------+----------------------------+------------------+-----------------+--------------+--------------------------+--------------+-----------------+--------------------------+-----------------+-----------------+---------------------------+-----------+--------------------+-----------------------+-------------------------+---------------------+---------------------+------------------+--------------------+-------------------------------+------------------------------+--------------------+------------------+---------------+-----------+------+-------------+-------------------+----------------+-----------+--------------+--------+\n",
      "| 10|Rondônia|            Urbana|   36| Parda|      Médio completo|        false|        false|               false|                       false|             false|            false|         false|                     false|         false|            false|                     false|            false|            false|                       NULL|       true|               false|                  false|                    false|                false|                false|             false|Reduziu mas conti...|                           NULL|                          NULL|Secretária, recep...|       801 - 1.600|    801 - 1.600|       NULL| Norte|        false|               NULL|           false|      false|         false|    true|\n",
      "| 10|Rondônia|            Urbana|   30| Parda|   Superior completo|        false|        false|               false|                       false|             false|            false|         false|                     false|         false|            false|                     false|            false|            false|                       NULL|      false|               false|                  false|                    false|                false|                false|             false|Reduziu mas conti...|                           NULL|                          NULL|Balconista, vende...|       801 - 1.600|    801 - 1.600|       NULL| Norte|        false|               NULL|           false|      false|         false|    true|\n",
      "| 10|Rondônia|            Urbana|   13| Parda|Fundamental incom...|        false|        false|               false|                       false|             false|            false|         false|                     false|         false|            false|                     false|            false|            false|                       NULL|       true|               false|                  false|                    false|                false|                false|             false|Ficou rigorosamen...|                           NULL|                          NULL|                NULL|              NULL|           NULL|       NULL| Norte|        false|               NULL|           false|      false|         false|   false|\n",
      "| 10|Rondônia|            Urbana|   11| Parda|Fundamental incom...|        false|        false|               false|                       false|             false|            false|         false|                     false|         false|            false|                     false|            false|            false|                       NULL|       true|               false|                  false|                    false|                false|                false|             false|Ficou rigorosamen...|                           NULL|                          NULL|                NULL|              NULL|           NULL|       NULL| Norte|        false|               NULL|           false|      false|         false|   false|\n",
      "| 10|Rondônia|            Urbana|   57|Branca|Fundamental incom...|        false|        false|               false|                       false|             false|            false|         false|                     false|         false|            false|                     false|            false|            false|                       NULL|      false|               false|                  false|                    false|                false|                false|             false|Só saiu em caso d...|                          false|                          NULL|                NULL|              NULL|           NULL|       NULL| Norte|        false|               NULL|           false|      false|         false|    true|\n",
      "+---+--------+------------------+-----+------+--------------------+-------------+-------------+--------------------+----------------------------+------------------+-----------------+--------------+--------------------------+--------------+-----------------+--------------------------+-----------------+-----------------+---------------------------+-----------+--------------------+-----------------------+-------------------------+---------------------+---------------------+------------------+--------------------+-------------------------------+------------------------------+--------------------+------------------+---------------+-----------+------+-------------+-------------------+----------------+-----------+--------------+--------+\n",
      "only showing top 5 rows\n",
      "\n"
     ]
    }
   ],
   "source": [
    "df_gold = df_gold.withColumn(\n",
    "    'acima_14',\n",
    "    F.when(F.col('idade') >= 14, True).otherwise(False)\n",
    ")\n",
    "\n",
    "df_gold.show(5)"
   ]
  },
  {
   "cell_type": "markdown",
   "id": "ee0c5caf",
   "metadata": {},
   "source": [
    "## Final"
   ]
  },
  {
   "cell_type": "code",
   "execution_count": 619,
   "id": "e4fb1c02",
   "metadata": {},
   "outputs": [
    {
     "name": "stdout",
     "output_type": "stream",
     "text": [
      "root\n",
      " |-- mes: integer (nullable = true)\n",
      " |-- uf: string (nullable = true)\n",
      " |-- situacao_domicilio: string (nullable = true)\n",
      " |-- idade: integer (nullable = true)\n",
      " |-- cor: string (nullable = true)\n",
      " |-- escolaridade: string (nullable = true)\n",
      " |-- sintoma_febre: boolean (nullable = true)\n",
      " |-- sintoma_tosse: boolean (nullable = true)\n",
      " |-- sintoma_dor_garganta: boolean (nullable = true)\n",
      " |-- sintoma_dificuldade_respirar: boolean (nullable = true)\n",
      " |-- sintoma_dor_peito: boolean (nullable = true)\n",
      " |-- sintoma_fadiga: boolean (nullable = true)\n",
      " |-- sintoma_perda_cheiro_sabor: boolean (nullable = true)\n",
      " |-- sintoma_dor_corpo: boolean (nullable = true)\n",
      " |-- foi_a_estabelecimento_saude: boolean (nullable = true)\n",
      " |-- plano_saude: boolean (nullable = true)\n",
      " |-- diagnostico_diabetes: boolean (nullable = true)\n",
      " |-- diagnostico_hipertensao: boolean (nullable = true)\n",
      " |-- diagnostico_respiratorias: boolean (nullable = true)\n",
      " |-- diagnostico_cardiacas: boolean (nullable = true)\n",
      " |-- diagnostico_depressao: boolean (nullable = true)\n",
      " |-- diagnostico_cancer: boolean (nullable = true)\n",
      " |-- contato_reduzido: string (nullable = true)\n",
      " |-- afastamento_temporario_trabalho: boolean (nullable = true)\n",
      " |-- afastamento_manteu_remuneracao: boolean (nullable = true)\n",
      " |-- trabalho_funcao: string (nullable = true)\n",
      " |-- rendimento_regular: string (nullable = true)\n",
      " |-- rendimento_real: string (nullable = true)\n",
      " |-- home_office: boolean (nullable = true)\n",
      " |-- regiao: string (nullable = false)\n",
      " |-- teve_sintomas: boolean (nullable = false)\n",
      " |-- estabelecimento_sus: boolean (nullable = true)\n",
      " |-- rendimento_mudou: boolean (nullable = false)\n",
      " |-- teste_feito: boolean (nullable = false)\n",
      " |-- teste_positivo: boolean (nullable = false)\n",
      " |-- acima_14: boolean (nullable = false)\n",
      "\n"
     ]
    }
   ],
   "source": [
    "df_gold.printSchema()"
   ]
  },
  {
   "cell_type": "code",
   "execution_count": 620,
   "id": "6c2dd397",
   "metadata": {},
   "outputs": [
    {
     "name": "stdout",
     "output_type": "stream",
     "text": [
      "+---+--------+------------------+-----+-------+--------------------+-------------+-------------+--------------------+----------------------------+-----------------+--------------+--------------------------+-----------------+---------------------------+-----------+--------------------+-----------------------+-------------------------+---------------------+---------------------+------------------+--------------------+-------------------------------+------------------------------+--------------------+------------------+---------------+-----------+------+-------------+-------------------+----------------+-----------+--------------+--------+\n",
      "|mes|      uf|situacao_domicilio|idade|    cor|        escolaridade|sintoma_febre|sintoma_tosse|sintoma_dor_garganta|sintoma_dificuldade_respirar|sintoma_dor_peito|sintoma_fadiga|sintoma_perda_cheiro_sabor|sintoma_dor_corpo|foi_a_estabelecimento_saude|plano_saude|diagnostico_diabetes|diagnostico_hipertensao|diagnostico_respiratorias|diagnostico_cardiacas|diagnostico_depressao|diagnostico_cancer|    contato_reduzido|afastamento_temporario_trabalho|afastamento_manteu_remuneracao|     trabalho_funcao|rendimento_regular|rendimento_real|home_office|regiao|teve_sintomas|estabelecimento_sus|rendimento_mudou|teste_feito|teste_positivo|acima_14|\n",
      "+---+--------+------------------+-----+-------+--------------------+-------------+-------------+--------------------+----------------------------+-----------------+--------------+--------------------------+-----------------+---------------------------+-----------+--------------------+-----------------------+-------------------------+---------------------+---------------------+------------------+--------------------+-------------------------------+------------------------------+--------------------+------------------+---------------+-----------+------+-------------+-------------------+----------------+-----------+--------------+--------+\n",
      "| 10|Rondônia|            Urbana|   36|  Parda|      Médio completo|        false|        false|               false|                       false|            false|         false|                     false|            false|                       NULL|       true|               false|                  false|                    false|                false|                false|             false|Reduziu mas conti...|                           NULL|                          NULL|Secretária, recep...|       801 - 1.600|    801 - 1.600|       NULL| Norte|        false|               NULL|           false|      false|         false|    true|\n",
      "| 10|Rondônia|            Urbana|   30|  Parda|   Superior completo|        false|        false|               false|                       false|            false|         false|                     false|            false|                       NULL|      false|               false|                  false|                    false|                false|                false|             false|Reduziu mas conti...|                           NULL|                          NULL|Balconista, vende...|       801 - 1.600|    801 - 1.600|       NULL| Norte|        false|               NULL|           false|      false|         false|    true|\n",
      "| 10|Rondônia|            Urbana|   13|  Parda|Fundamental incom...|        false|        false|               false|                       false|            false|         false|                     false|            false|                       NULL|       true|               false|                  false|                    false|                false|                false|             false|Ficou rigorosamen...|                           NULL|                          NULL|                NULL|              NULL|           NULL|       NULL| Norte|        false|               NULL|           false|      false|         false|   false|\n",
      "| 10|Rondônia|            Urbana|   11|  Parda|Fundamental incom...|        false|        false|               false|                       false|            false|         false|                     false|            false|                       NULL|       true|               false|                  false|                    false|                false|                false|             false|Ficou rigorosamen...|                           NULL|                          NULL|                NULL|              NULL|           NULL|       NULL| Norte|        false|               NULL|           false|      false|         false|   false|\n",
      "| 10|Rondônia|            Urbana|   57| Branca|Fundamental incom...|        false|        false|               false|                       false|            false|         false|                     false|            false|                       NULL|      false|               false|                  false|                    false|                false|                false|             false|Só saiu em caso d...|                          false|                          NULL|                NULL|              NULL|           NULL|       NULL| Norte|        false|               NULL|           false|      false|         false|    true|\n",
      "| 10|Rondônia|            Urbana|   58|  Preta|       Sem instrução|        false|        false|               false|                       false|            false|         false|                     false|            false|                       NULL|      false|                true|                   true|                    false|                false|                false|             false|Só saiu em caso d...|                           NULL|                          NULL|Balconista, vende...|         101 - 300|        0 - 100|       NULL| Norte|        false|               NULL|            true|      false|         false|    true|\n",
      "| 10|Rondônia|            Urbana|   47|  Parda|Fundamental incom...|        false|        false|               false|                       false|            false|         false|                     false|            false|                       NULL|      false|               false|                  false|                    false|                false|                false|             false|Reduziu mas conti...|                           NULL|                          NULL|Balconista, vende...|       801 - 1.600|      301 - 600|       NULL| Norte|        false|               NULL|            true|      false|         false|    true|\n",
      "| 10|Rondônia|            Urbana|   18|  Parda|Fundamental incom...|        false|        false|               false|                       false|            false|         false|                     false|            false|                       NULL|      false|               false|                  false|                    false|                false|                false|             false|Só saiu em caso d...|                          false|                          NULL|                NULL|              NULL|           NULL|       NULL| Norte|        false|               NULL|           false|      false|         false|    true|\n",
      "| 10|Rondônia|            Urbana|   11|  Parda|Fundamental incom...|        false|        false|               false|                       false|            false|         false|                     false|            false|                       NULL|      false|               false|                  false|                    false|                false|                false|             false|Ficou rigorosamen...|                           NULL|                          NULL|                NULL|              NULL|           NULL|       NULL| Norte|        false|               NULL|           false|      false|         false|   false|\n",
      "| 10|Rondônia|            Urbana|    9|  Parda|Fundamental incom...|        false|        false|               false|                       false|            false|         false|                     false|            false|                       NULL|      false|               false|                  false|                    false|                false|                false|             false|Ficou rigorosamen...|                           NULL|                          NULL|                NULL|              NULL|           NULL|       NULL| Norte|        false|               NULL|           false|      false|         false|   false|\n",
      "| 10|Rondônia|            Urbana|   10|  Parda|Fundamental incom...|        false|        false|               false|                       false|            false|         false|                     false|            false|                       NULL|      false|               false|                  false|                    false|                false|                false|             false|Ficou rigorosamen...|                           NULL|                          NULL|                NULL|              NULL|           NULL|       NULL| Norte|        false|               NULL|           false|      false|         false|   false|\n",
      "| 10|Rondônia|            Urbana|   26|  Parda|      Médio completo|        false|        false|               false|                       false|            false|         false|                     false|            false|                       NULL|      false|               false|                  false|                    false|                false|                false|             false|Reduziu mas conti...|                           NULL|                          NULL|Balconista, vende...|       801 - 1.600|      301 - 600|       NULL| Norte|        false|               NULL|            true|      false|         false|    true|\n",
      "| 10|Rondônia|            Urbana|   14|Amarela|Fundamental incom...|        false|        false|               false|                       false|            false|         false|                     false|            false|                       NULL|      false|               false|                  false|                    false|                false|                false|             false|Ficou rigorosamen...|                          false|                          NULL|                NULL|              NULL|           NULL|       NULL| Norte|        false|               NULL|           false|      false|         false|    true|\n",
      "| 10|Rondônia|            Urbana|   15|  Parda|Fundamental incom...|        false|        false|               false|                       false|            false|         false|                     false|            false|                       NULL|      false|               false|                  false|                    false|                false|                false|             false|Ficou rigorosamen...|                          false|                          NULL|                NULL|              NULL|           NULL|       NULL| Norte|        false|               NULL|           false|      false|         false|    true|\n",
      "| 10|Rondônia|            Urbana|   33|  Parda|Fundamental incom...|        false|        false|               false|                       false|            false|         false|                     false|            false|                       NULL|      false|               false|                  false|                    false|                false|                false|             false|Só saiu em caso d...|                          false|                          NULL|                NULL|              NULL|           NULL|       NULL| Norte|        false|               NULL|           false|      false|         false|    true|\n",
      "| 10|Rondônia|            Urbana|   62|  Parda|       Sem instrução|        false|        false|               false|                       false|            false|         false|                     false|            false|                       NULL|      false|               false|                  false|                    false|                false|                false|             false|Reduziu mas conti...|                           NULL|                          NULL|Balconista, vende...|       801 - 1.600|    801 - 1.600|       NULL| Norte|        false|               NULL|           false|      false|         false|    true|\n",
      "| 10|Rondônia|            Urbana|   62|  Parda|Fundamental incom...|        false|        false|               false|                       false|            false|         false|                     false|            false|                       NULL|      false|               false|                  false|                    false|                false|                false|             false|Reduziu mas conti...|                          false|                          NULL|                NULL|              NULL|           NULL|       NULL| Norte|        false|               NULL|           false|      false|         false|    true|\n",
      "| 10|Rondônia|            Urbana|   34|  Parda|      Médio completo|        false|        false|               false|                       false|            false|         false|                     false|            false|                       NULL|      false|               false|                  false|                    false|                false|                false|             false|Reduziu mas conti...|                           NULL|                          NULL|Secretária, recep...|       801 - 1.600|    801 - 1.600|       NULL| Norte|        false|               NULL|           false|      false|         false|    true|\n",
      "| 10|Rondônia|            Urbana|   26|  Parda| Superior incompleto|        false|        false|               false|                       false|            false|         false|                     false|            false|                       NULL|      false|               false|                  false|                    false|                false|                false|             false|Reduziu mas conti...|                           NULL|                          NULL|Secretária, recep...|       801 - 1.600|    801 - 1.600|       NULL| Norte|        false|               NULL|           false|      false|         false|    true|\n",
      "| 10|Rondônia|            Urbana|   44|  Parda|   Superior completo|        false|        false|               false|                       false|            false|         false|                     false|            false|                       NULL|      false|               false|                  false|                    false|                false|                false|             false|Reduziu mas conti...|                           NULL|                          NULL|Operador de Telem...|    3.001 - 10.000| 3.001 - 10.000|       NULL| Norte|        false|               NULL|           false|       true|         false|    true|\n",
      "+---+--------+------------------+-----+-------+--------------------+-------------+-------------+--------------------+----------------------------+-----------------+--------------+--------------------------+-----------------+---------------------------+-----------+--------------------+-----------------------+-------------------------+---------------------+---------------------+------------------+--------------------+-------------------------------+------------------------------+--------------------+------------------+---------------+-----------+------+-------------+-------------------+----------------+-----------+--------------+--------+\n",
      "only showing top 20 rows\n",
      "\n"
     ]
    }
   ],
   "source": [
    "df_gold.show()"
   ]
  },
  {
   "cell_type": "markdown",
   "id": "47061860",
   "metadata": {},
   "source": [
    "## Exportando nossa camada Gold"
   ]
  },
  {
   "cell_type": "markdown",
   "id": "a32a1ae3",
   "metadata": {},
   "source": [
    "### Local"
   ]
  },
  {
   "cell_type": "code",
   "execution_count": 740,
   "id": "f1ef1bc9",
   "metadata": {},
   "outputs": [
    {
     "name": "stdout",
     "output_type": "stream",
     "text": [
      "1149197\n"
     ]
    }
   ],
   "source": [
    "df_gold.write.parquet('local/gold/gold.parquet', mode = 'overwrite')\n",
    "\n",
    "print(df_gold.count())"
   ]
  },
  {
   "cell_type": "code",
   "execution_count": 741,
   "id": "c694d985",
   "metadata": {},
   "outputs": [
    {
     "name": "stdout",
     "output_type": "stream",
     "text": [
      "1149197\n",
      "+---+--------+------------------+-----+-----+--------------------+-------------+-------------+--------------------+----------------------------+------------------+-----------------+--------------+--------------------------+--------------+-----------------+--------------------------+-----------------+-----------------+---------------------------+-----------+--------------------+-----------------------+-------------------------+---------------------+---------------------+------------------+--------------------+-------------------------------+------------------------------+--------------------+------------------+---------------+-----------+------+-------------+-------------------+----------------+-----------+--------------+--------+\n",
      "|mes|      uf|situacao_domicilio|idade|  cor|        escolaridade|sintoma_febre|sintoma_tosse|sintoma_dor_garganta|sintoma_dificuldade_respirar|sintoma_dor_cabeca|sintoma_dor_peito|sintoma_nausea|sintoma_dor_nariz_entupido|sintoma_fadiga|sintoma_dor_olhos|sintoma_perda_cheiro_sabor|sintoma_dor_corpo|sintoma_diarreira|foi_a_estabelecimento_saude|plano_saude|diagnostico_diabetes|diagnostico_hipertensao|diagnostico_respiratorias|diagnostico_cardiacas|diagnostico_depressao|diagnostico_cancer|    contato_reduzido|afastamento_temporario_trabalho|afastamento_manteu_remuneracao|     trabalho_funcao|rendimento_regular|rendimento_real|home_office|regiao|teve_sintomas|estabelecimento_sus|rendimento_mudou|teste_feito|teste_positivo|acima_14|\n",
      "+---+--------+------------------+-----+-----+--------------------+-------------+-------------+--------------------+----------------------------+------------------+-----------------+--------------+--------------------------+--------------+-----------------+--------------------------+-----------------+-----------------+---------------------------+-----------+--------------------+-----------------------+-------------------------+---------------------+---------------------+------------------+--------------------+-------------------------------+------------------------------+--------------------+------------------+---------------+-----------+------+-------------+-------------------+----------------+-----------+--------------+--------+\n",
      "|  9|Rondônia|            Urbana|   36|Parda|      Médio completo|        false|        false|               false|                       false|             false|            false|         false|                     false|         false|            false|                     false|            false|            false|                       NULL|       true|               false|                  false|                    false|                false|                false|             false|Reduziu mas conti...|                           NULL|                          NULL|Secretária, recep...|       801 - 1.600|    801 - 1.600|       NULL| Norte|        false|               NULL|           false|      false|         false|    true|\n",
      "|  9|Rondônia|            Urbana|   30|Parda|   Superior completo|        false|        false|               false|                       false|             false|            false|         false|                     false|         false|            false|                     false|            false|            false|                       NULL|      false|               false|                  false|                    false|                false|                false|             false|Reduziu mas conti...|                           NULL|                          NULL|Balconista, vende...|       801 - 1.600|    801 - 1.600|       NULL| Norte|        false|               NULL|           false|      false|         false|    true|\n",
      "|  9|Rondônia|            Urbana|   13|Parda|Fundamental incom...|        false|        false|               false|                       false|             false|            false|         false|                     false|         false|            false|                     false|            false|            false|                       NULL|       true|               false|                  false|                    false|                false|                false|             false|Ficou rigorosamen...|                           NULL|                          NULL|                NULL|              NULL|           NULL|       NULL| Norte|        false|               NULL|           false|      false|         false|   false|\n",
      "+---+--------+------------------+-----+-----+--------------------+-------------+-------------+--------------------+----------------------------+------------------+-----------------+--------------+--------------------------+--------------+-----------------+--------------------------+-----------------+-----------------+---------------------------+-----------+--------------------+-----------------------+-------------------------+---------------------+---------------------+------------------+--------------------+-------------------------------+------------------------------+--------------------+------------------+---------------+-----------+------+-------------+-------------------+----------------+-----------+--------------+--------+\n",
      "only showing top 3 rows\n",
      "\n"
     ]
    }
   ],
   "source": [
    "df_gold = spark.read.parquet(f'{LOCAL_GOLD}/gold.parquet')\n",
    "\n",
    "print(df_gold.count())\n",
    "df_gold.show(3)"
   ]
  },
  {
   "cell_type": "markdown",
   "id": "11370e7a",
   "metadata": {},
   "source": [
    "### Nuvem"
   ]
  },
  {
   "cell_type": "code",
   "execution_count": 105,
   "id": "6ff14402",
   "metadata": {},
   "outputs": [
    {
     "name": "stdout",
     "output_type": "stream",
     "text": [
      "Attempting to upload ./local/gold\\gold.parquet\\part-00000-4dd2e73a-1899-4c11-ba4c-b5bf4b76d1a6-c000.snappy.parquet\n",
      "Attempting to upload ./local/gold\\gold.parquet\\part-00001-4dd2e73a-1899-4c11-ba4c-b5bf4b76d1a6-c000.snappy.parquet\n",
      "Attempting to upload ./local/gold\\gold.parquet\\part-00002-4dd2e73a-1899-4c11-ba4c-b5bf4b76d1a6-c000.snappy.parquet\n",
      "Attempting to upload ./local/gold\\gold.parquet\\part-00003-4dd2e73a-1899-4c11-ba4c-b5bf4b76d1a6-c000.snappy.parquet\n",
      "Attempting to upload ./local/gold\\gold.parquet\\part-00004-4dd2e73a-1899-4c11-ba4c-b5bf4b76d1a6-c000.snappy.parquet\n",
      "Attempting to upload ./local/gold\\gold.parquet\\part-00005-4dd2e73a-1899-4c11-ba4c-b5bf4b76d1a6-c000.snappy.parquet\n"
     ]
    }
   ],
   "source": [
    "for root, folders, files in os.walk(f'{LOCAL_GOLD}'):\n",
    "    for file in files:\n",
    "        if file.endswith('.parquet'):\n",
    "            file_path = os.path.join(root, file)\n",
    "            print(f'Attempting to upload {file_path}')\n",
    "            try:\n",
    "                upload_to_s3(\n",
    "                    file_path,\n",
    "                    BUCKET,\n",
    "                    f'{GOLD}/{file}')\n",
    "            except Exception as e:\n",
    "                print(f'Failed to upload | {e}')"
   ]
  },
  {
   "cell_type": "markdown",
   "id": "4dadfb75",
   "metadata": {},
   "source": [
    "## Conectando com o PostgreSQL"
   ]
  },
  {
   "cell_type": "code",
   "execution_count": null,
   "id": "7a434d0a",
   "metadata": {},
   "outputs": [],
   "source": [
    "usuario = 'postgres'\n",
    "senha = ''\n",
    "with open('./ignore/postgresql-pw') as f:\n",
    "    senha = f.read()\n",
    "host = 'bd-relacional.circagi8eu0o.us-east-1.rds.amazonaws.com'\n",
    "porta = 5432\n",
    "banco = 'postgres'\n",
    "\n",
    "engine = create_engine(f\"postgresql+psycopg2://{usuario}:{senha}@{host}:{porta}/{banco}\",\n",
    "                       echo = True)\n"
   ]
  },
  {
   "cell_type": "code",
   "execution_count": null,
   "id": "b85c65df",
   "metadata": {},
   "outputs": [],
   "source": [
    "def test_connection(engine):\n",
    "    try:\n",
    "        with engine.connect() as connection:\n",
    "            # Testa a versão do PostgreSQL\n",
    "            result = connection.execute(text(\"SELECT version();\"))\n",
    "            versao = result.fetchone()\n",
    "            print(\"✅ Conectado com sucesso:\", versao[0])\n",
    "\n",
    "            # Lista as tabelas no schema público\n",
    "            result = connection.execute(text(\"\"\"\n",
    "                SELECT table_name\n",
    "                FROM information_schema.tables\n",
    "                WHERE table_schema = 'public';\n",
    "            \"\"\"))\n",
    "            tabelas = result.fetchall()\n",
    "            print(\"📄 Tabelas no banco:\")\n",
    "            for tabela in tabelas:\n",
    "                print(\"  -\", tabela[0])\n",
    "\n",
    "    except Exception as e:\n",
    "        print(\"❌ Erro ao executar comandos:\", e)\n"
   ]
  },
  {
   "cell_type": "code",
   "execution_count": null,
   "id": "221766bc",
   "metadata": {},
   "outputs": [
    {
     "name": "stdout",
     "output_type": "stream",
     "text": [
      "2025-09-21 16:54:21,115 INFO sqlalchemy.engine.Engine select pg_catalog.version()\n",
      "2025-09-21 16:54:21,115 INFO sqlalchemy.engine.Engine [raw sql] {}\n",
      "2025-09-21 16:54:21,396 INFO sqlalchemy.engine.Engine select current_schema()\n",
      "2025-09-21 16:54:21,397 INFO sqlalchemy.engine.Engine [raw sql] {}\n",
      "2025-09-21 16:54:21,682 INFO sqlalchemy.engine.Engine show standard_conforming_strings\n",
      "2025-09-21 16:54:21,684 INFO sqlalchemy.engine.Engine [raw sql] {}\n",
      "2025-09-21 16:54:21,970 INFO sqlalchemy.engine.Engine BEGIN (implicit)\n",
      "2025-09-21 16:54:21,973 INFO sqlalchemy.engine.Engine SELECT version();\n",
      "2025-09-21 16:54:21,976 INFO sqlalchemy.engine.Engine [generated in 0.00530s] {}\n",
      "✅ Conectado com sucesso: PostgreSQL 17.4 on x86_64-pc-linux-gnu, compiled by gcc (GCC) 12.4.0, 64-bit\n",
      "2025-09-21 16:54:22,255 INFO sqlalchemy.engine.Engine \n",
      "                SELECT table_name\n",
      "                FROM information_schema.tables\n",
      "                WHERE table_schema = 'public';\n",
      "            \n",
      "2025-09-21 16:54:22,256 INFO sqlalchemy.engine.Engine [generated in 0.00076s] {}\n",
      "📄 Tabelas no banco:\n",
      "  - pnad\n",
      "2025-09-21 16:54:22,416 INFO sqlalchemy.engine.Engine ROLLBACK\n"
     ]
    }
   ],
   "source": [
    "test_connection(engine)"
   ]
  },
  {
   "cell_type": "markdown",
   "id": "664b3459",
   "metadata": {},
   "source": [
    "### Inserindo nossos dados"
   ]
  },
  {
   "cell_type": "code",
   "execution_count": null,
   "id": "ae87f176",
   "metadata": {},
   "outputs": [
    {
     "data": {
      "text/plain": [
       "(1149197, 31)"
      ]
     },
     "execution_count": 7,
     "metadata": {},
     "output_type": "execute_result"
    }
   ],
   "source": [
    "df = pd.read_parquet(LOCAL_GOLD)\n",
    "\n",
    "df.shape"
   ]
  },
  {
   "cell_type": "code",
   "execution_count": null,
   "id": "b97120b6",
   "metadata": {},
   "outputs": [
    {
     "name": "stdout",
     "output_type": "stream",
     "text": [
      "2025-09-21 16:54:23,129 INFO sqlalchemy.engine.Engine BEGIN (implicit)\n",
      "2025-09-21 16:54:23,346 INFO sqlalchemy.engine.Engine SELECT pg_catalog.pg_class.relname \n",
      "FROM pg_catalog.pg_class JOIN pg_catalog.pg_namespace ON pg_catalog.pg_namespace.oid = pg_catalog.pg_class.relnamespace \n",
      "WHERE pg_catalog.pg_class.relname = %(table_name)s AND pg_catalog.pg_class.relkind = ANY (ARRAY[%(param_1)s, %(param_2)s, %(param_3)s, %(param_4)s, %(param_5)s]) AND pg_catalog.pg_table_is_visible(pg_catalog.pg_class.oid) AND pg_catalog.pg_namespace.nspname != %(nspname_1)s\n",
      "2025-09-21 16:54:23,346 INFO sqlalchemy.engine.Engine [generated in 0.00079s] {'table_name': 'pnad', 'param_1': 'r', 'param_2': 'p', 'param_3': 'f', 'param_4': 'v', 'param_5': 'm', 'nspname_1': 'pg_catalog'}\n"
     ]
    }
   ],
   "source": [
    "df.to_sql(\n",
    "    name = 'pnad',\n",
    "    con = engine,\n",
    "    if_exists = 'append',\n",
    "    index = False,\n",
    "    method = 'multi',\n",
    "    chunksize = 100_000\n",
    ")"
   ]
  }
 ],
 "metadata": {
  "kernelspec": {
   "display_name": "venv",
   "language": "python",
   "name": "python3"
  },
  "language_info": {
   "codemirror_mode": {
    "name": "ipython",
    "version": 3
   },
   "file_extension": ".py",
   "mimetype": "text/x-python",
   "name": "python",
   "nbconvert_exporter": "python",
   "pygments_lexer": "ipython3",
   "version": "3.11.13"
  }
 },
 "nbformat": 4,
 "nbformat_minor": 5
}
