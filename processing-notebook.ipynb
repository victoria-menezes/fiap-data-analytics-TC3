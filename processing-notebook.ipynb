{
 "cells": [
  {
   "cell_type": "markdown",
   "id": "f223471a",
   "metadata": {},
   "source": [
    "# Setup\n",
    "Utilizaremos a biblioteca `boto3` para nos comunicarmos com a AWS.\n",
    "\n",
    "Utilizaremos as bibliotecas `pandas` e `pyspark` para lidarmos com nossos dados.\n",
    "\n",
    "Utilizaremos as bibliotecas `matplotlib` e `seaborn` para a análise final."
   ]
  },
  {
   "cell_type": "code",
   "execution_count": 11,
   "id": "f2683da6",
   "metadata": {},
   "outputs": [],
   "source": [
    "import pandas as pd\n",
    "import boto3\n",
    "\n",
    "import findspark\n",
    "from pyspark.sql import SparkSession\n",
    "from pyspark import SparkContext"
   ]
  },
  {
   "cell_type": "code",
   "execution_count": 12,
   "id": "6e106465",
   "metadata": {},
   "outputs": [],
   "source": [
    "BUCKET = '896309849144'\n",
    "LAYERS_PREFIX = f'layers'# f's3://{BUCKET}/layers'\n",
    "GOLD = f'{LAYERS_PREFIX}/gold'\n",
    "SILVER = f'{LAYERS_PREFIX}/silver'\n",
    "BRONZE = f'{LAYERS_PREFIX}/bronze'\n",
    "\n",
    "LOCAL_BRONZE = './local/bronze'\n",
    "LOCAL_SILVER = './local/silver'\n"
   ]
  },
  {
   "cell_type": "code",
   "execution_count": 13,
   "id": "922c8c04",
   "metadata": {},
   "outputs": [],
   "source": [
    "s3_client = boto3.client('s3')\n",
    "\n",
    "def upload_to_s3(\n",
    "        file_path : str,\n",
    "        bucket : str,\n",
    "        bucket_path : str):\n",
    "    '''\n",
    "    Uploads file_path to the given bucket, as bucket_path (include the name of the file in bucket_path)\n",
    "    \n",
    "    Parameters\n",
    "    -\n",
    "    file_path : str\n",
    "    bucket : str\n",
    "    bucket_path : str\n",
    "    '''\n",
    "    s3_client.upload_file(file_path, bucket, bucket_path)"
   ]
  },
  {
   "cell_type": "markdown",
   "id": "e4cec076",
   "metadata": {},
   "source": [
    "# 0. Ingestion\n",
    "Faremos o upload dos dados brutos extraídos manualmente do IBGE, a um bucket AWS S3 via a biblioteca `boto3`.\n",
    "\n",
    "Conforme o pedido, utilizaremos os últimos 3 meses disponíveis."
   ]
  },
  {
   "cell_type": "code",
   "execution_count": 8,
   "id": "5ee5740d",
   "metadata": {},
   "outputs": [],
   "source": [
    "files = [\n",
    "    f'{LOCAL_BRONZE}/PNAD_COVID_092020.csv',\n",
    "    f'{LOCAL_BRONZE}/PNAD_COVID_102020.csv',\n",
    "    f'{LOCAL_BRONZE}/PNAD_COVID_112020.csv']"
   ]
  },
  {
   "cell_type": "code",
   "execution_count": 9,
   "id": "d1f84aac",
   "metadata": {},
   "outputs": [
    {
     "name": "stdout",
     "output_type": "stream",
     "text": [
      "PNAD_COVID_092020.csv\n",
      "PNAD_COVID_102020.csv\n",
      "PNAD_COVID_112020.csv\n"
     ]
    }
   ],
   "source": [
    "for file in files:\n",
    "    print(file.split('/')[-1])"
   ]
  },
  {
   "cell_type": "code",
   "execution_count": 10,
   "id": "e7afc1cb",
   "metadata": {},
   "outputs": [
    {
     "ename": "S3UploadFailedError",
     "evalue": "Failed to upload ./local/bronze/PNAD_COVID_092020.csv to 896309849144/layers/bronze/PNAD_COVID_092020.csv: An error occurred (InvalidToken) when calling the CreateMultipartUpload operation: The provided token is malformed or otherwise invalid.",
     "output_type": "error",
     "traceback": [
      "\u001b[31m---------------------------------------------------------------------------\u001b[39m",
      "\u001b[31mClientError\u001b[39m                               Traceback (most recent call last)",
      "\u001b[36mFile \u001b[39m\u001b[32mc:\\Users\\Victoria\\anaconda3\\envs\\venv\\Lib\\site-packages\\boto3\\s3\\transfer.py:372\u001b[39m, in \u001b[36mS3Transfer.upload_file\u001b[39m\u001b[34m(self, filename, bucket, key, callback, extra_args)\u001b[39m\n\u001b[32m    371\u001b[39m \u001b[38;5;28;01mtry\u001b[39;00m:\n\u001b[32m--> \u001b[39m\u001b[32m372\u001b[39m     \u001b[43mfuture\u001b[49m\u001b[43m.\u001b[49m\u001b[43mresult\u001b[49m\u001b[43m(\u001b[49m\u001b[43m)\u001b[49m\n\u001b[32m    373\u001b[39m \u001b[38;5;66;03m# If a client error was raised, add the backwards compatibility layer\u001b[39;00m\n\u001b[32m    374\u001b[39m \u001b[38;5;66;03m# that raises a S3UploadFailedError. These specific errors were only\u001b[39;00m\n\u001b[32m    375\u001b[39m \u001b[38;5;66;03m# ever thrown for upload_parts but now can be thrown for any related\u001b[39;00m\n\u001b[32m    376\u001b[39m \u001b[38;5;66;03m# client error.\u001b[39;00m\n",
      "\u001b[36mFile \u001b[39m\u001b[32mc:\\Users\\Victoria\\anaconda3\\envs\\venv\\Lib\\site-packages\\s3transfer\\futures.py:103\u001b[39m, in \u001b[36mTransferFuture.result\u001b[39m\u001b[34m(self)\u001b[39m\n\u001b[32m     99\u001b[39m \u001b[38;5;28;01mtry\u001b[39;00m:\n\u001b[32m    100\u001b[39m     \u001b[38;5;66;03m# Usually the result() method blocks until the transfer is done,\u001b[39;00m\n\u001b[32m    101\u001b[39m     \u001b[38;5;66;03m# however if a KeyboardInterrupt is raised we want want to exit\u001b[39;00m\n\u001b[32m    102\u001b[39m     \u001b[38;5;66;03m# out of this and propagate the exception.\u001b[39;00m\n\u001b[32m--> \u001b[39m\u001b[32m103\u001b[39m     \u001b[38;5;28;01mreturn\u001b[39;00m \u001b[38;5;28;43mself\u001b[39;49m\u001b[43m.\u001b[49m\u001b[43m_coordinator\u001b[49m\u001b[43m.\u001b[49m\u001b[43mresult\u001b[49m\u001b[43m(\u001b[49m\u001b[43m)\u001b[49m\n\u001b[32m    104\u001b[39m \u001b[38;5;28;01mexcept\u001b[39;00m \u001b[38;5;167;01mKeyboardInterrupt\u001b[39;00m \u001b[38;5;28;01mas\u001b[39;00m e:\n",
      "\u001b[36mFile \u001b[39m\u001b[32mc:\\Users\\Victoria\\anaconda3\\envs\\venv\\Lib\\site-packages\\s3transfer\\futures.py:264\u001b[39m, in \u001b[36mTransferCoordinator.result\u001b[39m\u001b[34m(self)\u001b[39m\n\u001b[32m    263\u001b[39m \u001b[38;5;28;01mif\u001b[39;00m \u001b[38;5;28mself\u001b[39m._exception:\n\u001b[32m--> \u001b[39m\u001b[32m264\u001b[39m     \u001b[38;5;28;01mraise\u001b[39;00m \u001b[38;5;28mself\u001b[39m._exception\n\u001b[32m    265\u001b[39m \u001b[38;5;28;01mreturn\u001b[39;00m \u001b[38;5;28mself\u001b[39m._result\n",
      "\u001b[36mFile \u001b[39m\u001b[32mc:\\Users\\Victoria\\anaconda3\\envs\\venv\\Lib\\site-packages\\s3transfer\\tasks.py:135\u001b[39m, in \u001b[36mTask.__call__\u001b[39m\u001b[34m(self)\u001b[39m\n\u001b[32m    134\u001b[39m     \u001b[38;5;28;01mif\u001b[39;00m \u001b[38;5;129;01mnot\u001b[39;00m \u001b[38;5;28mself\u001b[39m._transfer_coordinator.done():\n\u001b[32m--> \u001b[39m\u001b[32m135\u001b[39m         \u001b[38;5;28;01mreturn\u001b[39;00m \u001b[38;5;28;43mself\u001b[39;49m\u001b[43m.\u001b[49m\u001b[43m_execute_main\u001b[49m\u001b[43m(\u001b[49m\u001b[43mkwargs\u001b[49m\u001b[43m)\u001b[49m\n\u001b[32m    136\u001b[39m \u001b[38;5;28;01mexcept\u001b[39;00m \u001b[38;5;167;01mException\u001b[39;00m \u001b[38;5;28;01mas\u001b[39;00m e:\n",
      "\u001b[36mFile \u001b[39m\u001b[32mc:\\Users\\Victoria\\anaconda3\\envs\\venv\\Lib\\site-packages\\s3transfer\\tasks.py:158\u001b[39m, in \u001b[36mTask._execute_main\u001b[39m\u001b[34m(self, kwargs)\u001b[39m\n\u001b[32m    156\u001b[39m logger.debug(\u001b[33mf\u001b[39m\u001b[33m\"\u001b[39m\u001b[33mExecuting task \u001b[39m\u001b[38;5;132;01m{\u001b[39;00m\u001b[38;5;28mself\u001b[39m\u001b[38;5;132;01m}\u001b[39;00m\u001b[33m with kwargs \u001b[39m\u001b[38;5;132;01m{\u001b[39;00mkwargs_to_display\u001b[38;5;132;01m}\u001b[39;00m\u001b[33m\"\u001b[39m)\n\u001b[32m--> \u001b[39m\u001b[32m158\u001b[39m return_value = \u001b[38;5;28;43mself\u001b[39;49m\u001b[43m.\u001b[49m\u001b[43m_main\u001b[49m\u001b[43m(\u001b[49m\u001b[43m*\u001b[49m\u001b[43m*\u001b[49m\u001b[43mkwargs\u001b[49m\u001b[43m)\u001b[49m\n\u001b[32m    159\u001b[39m \u001b[38;5;66;03m# If the task is the final task, then set the TransferFuture's\u001b[39;00m\n\u001b[32m    160\u001b[39m \u001b[38;5;66;03m# value to the return value from main().\u001b[39;00m\n",
      "\u001b[36mFile \u001b[39m\u001b[32mc:\\Users\\Victoria\\anaconda3\\envs\\venv\\Lib\\site-packages\\s3transfer\\tasks.py:344\u001b[39m, in \u001b[36mCreateMultipartUploadTask._main\u001b[39m\u001b[34m(self, client, bucket, key, extra_args)\u001b[39m\n\u001b[32m    343\u001b[39m \u001b[38;5;66;03m# Create the multipart upload.\u001b[39;00m\n\u001b[32m--> \u001b[39m\u001b[32m344\u001b[39m response = \u001b[43mclient\u001b[49m\u001b[43m.\u001b[49m\u001b[43mcreate_multipart_upload\u001b[49m\u001b[43m(\u001b[49m\n\u001b[32m    345\u001b[39m \u001b[43m    \u001b[49m\u001b[43mBucket\u001b[49m\u001b[43m=\u001b[49m\u001b[43mbucket\u001b[49m\u001b[43m,\u001b[49m\u001b[43m \u001b[49m\u001b[43mKey\u001b[49m\u001b[43m=\u001b[49m\u001b[43mkey\u001b[49m\u001b[43m,\u001b[49m\u001b[43m \u001b[49m\u001b[43m*\u001b[49m\u001b[43m*\u001b[49m\u001b[43mextra_args\u001b[49m\n\u001b[32m    346\u001b[39m \u001b[43m\u001b[49m\u001b[43m)\u001b[49m\n\u001b[32m    347\u001b[39m upload_id = response[\u001b[33m'\u001b[39m\u001b[33mUploadId\u001b[39m\u001b[33m'\u001b[39m]\n",
      "\u001b[36mFile \u001b[39m\u001b[32mc:\\Users\\Victoria\\anaconda3\\envs\\venv\\Lib\\site-packages\\botocore\\client.py:570\u001b[39m, in \u001b[36mClientCreator._create_api_method.<locals>._api_call\u001b[39m\u001b[34m(self, *args, **kwargs)\u001b[39m\n\u001b[32m    569\u001b[39m \u001b[38;5;66;03m# The \"self\" in this scope is referring to the BaseClient.\u001b[39;00m\n\u001b[32m--> \u001b[39m\u001b[32m570\u001b[39m \u001b[38;5;28;01mreturn\u001b[39;00m \u001b[38;5;28;43mself\u001b[39;49m\u001b[43m.\u001b[49m\u001b[43m_make_api_call\u001b[49m\u001b[43m(\u001b[49m\u001b[43moperation_name\u001b[49m\u001b[43m,\u001b[49m\u001b[43m \u001b[49m\u001b[43mkwargs\u001b[49m\u001b[43m)\u001b[49m\n",
      "\u001b[36mFile \u001b[39m\u001b[32mc:\\Users\\Victoria\\anaconda3\\envs\\venv\\Lib\\site-packages\\botocore\\context.py:124\u001b[39m, in \u001b[36mwith_current_context.<locals>.decorator.<locals>.wrapper\u001b[39m\u001b[34m(*args, **kwargs)\u001b[39m\n\u001b[32m    123\u001b[39m     hook()\n\u001b[32m--> \u001b[39m\u001b[32m124\u001b[39m \u001b[38;5;28;01mreturn\u001b[39;00m \u001b[43mfunc\u001b[49m\u001b[43m(\u001b[49m\u001b[43m*\u001b[49m\u001b[43margs\u001b[49m\u001b[43m,\u001b[49m\u001b[43m \u001b[49m\u001b[43m*\u001b[49m\u001b[43m*\u001b[49m\u001b[43mkwargs\u001b[49m\u001b[43m)\u001b[49m\n",
      "\u001b[36mFile \u001b[39m\u001b[32mc:\\Users\\Victoria\\anaconda3\\envs\\venv\\Lib\\site-packages\\botocore\\client.py:1031\u001b[39m, in \u001b[36mBaseClient._make_api_call\u001b[39m\u001b[34m(self, operation_name, api_params)\u001b[39m\n\u001b[32m   1030\u001b[39m     error_class = \u001b[38;5;28mself\u001b[39m.exceptions.from_code(error_code)\n\u001b[32m-> \u001b[39m\u001b[32m1031\u001b[39m     \u001b[38;5;28;01mraise\u001b[39;00m error_class(parsed_response, operation_name)\n\u001b[32m   1032\u001b[39m \u001b[38;5;28;01melse\u001b[39;00m:\n",
      "\u001b[31mClientError\u001b[39m: An error occurred (InvalidToken) when calling the CreateMultipartUpload operation: The provided token is malformed or otherwise invalid.",
      "\nDuring handling of the above exception, another exception occurred:\n",
      "\u001b[31mS3UploadFailedError\u001b[39m                       Traceback (most recent call last)",
      "\u001b[36mCell\u001b[39m\u001b[36m \u001b[39m\u001b[32mIn[10]\u001b[39m\u001b[32m, line 2\u001b[39m\n\u001b[32m      1\u001b[39m \u001b[38;5;28;01mfor\u001b[39;00m file \u001b[38;5;129;01min\u001b[39;00m files:\n\u001b[32m----> \u001b[39m\u001b[32m2\u001b[39m     \u001b[43mupload_to_s3\u001b[49m\u001b[43m(\u001b[49m\n\u001b[32m      3\u001b[39m \u001b[43m        \u001b[49m\u001b[43mfile\u001b[49m\u001b[43m,\u001b[49m\n\u001b[32m      4\u001b[39m \u001b[43m        \u001b[49m\u001b[43mBUCKET\u001b[49m\u001b[43m,\u001b[49m\n\u001b[32m      5\u001b[39m \u001b[43m        \u001b[49m\u001b[33;43mf\u001b[39;49m\u001b[33;43m'\u001b[39;49m\u001b[38;5;132;43;01m{\u001b[39;49;00m\u001b[43mBRONZE\u001b[49m\u001b[38;5;132;43;01m}\u001b[39;49;00m\u001b[33;43m/\u001b[39;49m\u001b[38;5;132;43;01m{\u001b[39;49;00m\u001b[43mfile\u001b[49m\u001b[43m.\u001b[49m\u001b[43msplit\u001b[49m\u001b[43m(\u001b[49m\u001b[33;43m\"\u001b[39;49m\u001b[33;43m/\u001b[39;49m\u001b[33;43m\"\u001b[39;49m\u001b[43m)\u001b[49m\u001b[43m[\u001b[49m\u001b[43m-\u001b[49m\u001b[32;43m1\u001b[39;49m\u001b[43m]\u001b[49m\u001b[38;5;132;43;01m}\u001b[39;49;00m\u001b[33;43m'\u001b[39;49m\u001b[43m)\u001b[49m\n",
      "\u001b[36mCell\u001b[39m\u001b[36m \u001b[39m\u001b[32mIn[7]\u001b[39m\u001b[32m, line 16\u001b[39m, in \u001b[36mupload_to_s3\u001b[39m\u001b[34m(file_path, bucket, bucket_path)\u001b[39m\n\u001b[32m      3\u001b[39m \u001b[38;5;28;01mdef\u001b[39;00m\u001b[38;5;250m \u001b[39m\u001b[34mupload_to_s3\u001b[39m(\n\u001b[32m      4\u001b[39m         file_path : \u001b[38;5;28mstr\u001b[39m,\n\u001b[32m      5\u001b[39m         bucket : \u001b[38;5;28mstr\u001b[39m,\n\u001b[32m      6\u001b[39m         bucket_path : \u001b[38;5;28mstr\u001b[39m):\n\u001b[32m      7\u001b[39m \u001b[38;5;250m    \u001b[39m\u001b[33;03m'''\u001b[39;00m\n\u001b[32m      8\u001b[39m \u001b[33;03m    Uploads file_path to the given bucket, as bucket_path (include the name of the file in bucket_path)\u001b[39;00m\n\u001b[32m      9\u001b[39m \n\u001b[32m   (...)\u001b[39m\u001b[32m     14\u001b[39m \u001b[33;03m    bucket_path : str\u001b[39;00m\n\u001b[32m     15\u001b[39m \u001b[33;03m    '''\u001b[39;00m\n\u001b[32m---> \u001b[39m\u001b[32m16\u001b[39m     \u001b[43ms3_client\u001b[49m\u001b[43m.\u001b[49m\u001b[43mupload_file\u001b[49m\u001b[43m(\u001b[49m\u001b[43mfile_path\u001b[49m\u001b[43m,\u001b[49m\u001b[43m \u001b[49m\u001b[43mbucket\u001b[49m\u001b[43m,\u001b[49m\u001b[43m \u001b[49m\u001b[43mbucket_path\u001b[49m\u001b[43m)\u001b[49m\n",
      "\u001b[36mFile \u001b[39m\u001b[32mc:\\Users\\Victoria\\anaconda3\\envs\\venv\\Lib\\site-packages\\botocore\\context.py:124\u001b[39m, in \u001b[36mwith_current_context.<locals>.decorator.<locals>.wrapper\u001b[39m\u001b[34m(*args, **kwargs)\u001b[39m\n\u001b[32m    122\u001b[39m \u001b[38;5;28;01mif\u001b[39;00m hook:\n\u001b[32m    123\u001b[39m     hook()\n\u001b[32m--> \u001b[39m\u001b[32m124\u001b[39m \u001b[38;5;28;01mreturn\u001b[39;00m \u001b[43mfunc\u001b[49m\u001b[43m(\u001b[49m\u001b[43m*\u001b[49m\u001b[43margs\u001b[49m\u001b[43m,\u001b[49m\u001b[43m \u001b[49m\u001b[43m*\u001b[49m\u001b[43m*\u001b[49m\u001b[43mkwargs\u001b[49m\u001b[43m)\u001b[49m\n",
      "\u001b[36mFile \u001b[39m\u001b[32mc:\\Users\\Victoria\\anaconda3\\envs\\venv\\Lib\\site-packages\\boto3\\s3\\inject.py:170\u001b[39m, in \u001b[36mupload_file\u001b[39m\u001b[34m(self, Filename, Bucket, Key, ExtraArgs, Callback, Config)\u001b[39m\n\u001b[32m    135\u001b[39m \u001b[38;5;250m\u001b[39m\u001b[33;03m\"\"\"Upload a file to an S3 object.\u001b[39;00m\n\u001b[32m    136\u001b[39m \n\u001b[32m    137\u001b[39m \u001b[33;03mUsage::\u001b[39;00m\n\u001b[32m   (...)\u001b[39m\u001b[32m    167\u001b[39m \u001b[33;03m    transfer.\u001b[39;00m\n\u001b[32m    168\u001b[39m \u001b[33;03m\"\"\"\u001b[39;00m\n\u001b[32m    169\u001b[39m \u001b[38;5;28;01mwith\u001b[39;00m S3Transfer(\u001b[38;5;28mself\u001b[39m, Config) \u001b[38;5;28;01mas\u001b[39;00m transfer:\n\u001b[32m--> \u001b[39m\u001b[32m170\u001b[39m     \u001b[38;5;28;01mreturn\u001b[39;00m \u001b[43mtransfer\u001b[49m\u001b[43m.\u001b[49m\u001b[43mupload_file\u001b[49m\u001b[43m(\u001b[49m\n\u001b[32m    171\u001b[39m \u001b[43m        \u001b[49m\u001b[43mfilename\u001b[49m\u001b[43m=\u001b[49m\u001b[43mFilename\u001b[49m\u001b[43m,\u001b[49m\n\u001b[32m    172\u001b[39m \u001b[43m        \u001b[49m\u001b[43mbucket\u001b[49m\u001b[43m=\u001b[49m\u001b[43mBucket\u001b[49m\u001b[43m,\u001b[49m\n\u001b[32m    173\u001b[39m \u001b[43m        \u001b[49m\u001b[43mkey\u001b[49m\u001b[43m=\u001b[49m\u001b[43mKey\u001b[49m\u001b[43m,\u001b[49m\n\u001b[32m    174\u001b[39m \u001b[43m        \u001b[49m\u001b[43mextra_args\u001b[49m\u001b[43m=\u001b[49m\u001b[43mExtraArgs\u001b[49m\u001b[43m,\u001b[49m\n\u001b[32m    175\u001b[39m \u001b[43m        \u001b[49m\u001b[43mcallback\u001b[49m\u001b[43m=\u001b[49m\u001b[43mCallback\u001b[49m\u001b[43m,\u001b[49m\n\u001b[32m    176\u001b[39m \u001b[43m    \u001b[49m\u001b[43m)\u001b[49m\n",
      "\u001b[36mFile \u001b[39m\u001b[32mc:\\Users\\Victoria\\anaconda3\\envs\\venv\\Lib\\site-packages\\boto3\\s3\\transfer.py:378\u001b[39m, in \u001b[36mS3Transfer.upload_file\u001b[39m\u001b[34m(self, filename, bucket, key, callback, extra_args)\u001b[39m\n\u001b[32m    373\u001b[39m \u001b[38;5;66;03m# If a client error was raised, add the backwards compatibility layer\u001b[39;00m\n\u001b[32m    374\u001b[39m \u001b[38;5;66;03m# that raises a S3UploadFailedError. These specific errors were only\u001b[39;00m\n\u001b[32m    375\u001b[39m \u001b[38;5;66;03m# ever thrown for upload_parts but now can be thrown for any related\u001b[39;00m\n\u001b[32m    376\u001b[39m \u001b[38;5;66;03m# client error.\u001b[39;00m\n\u001b[32m    377\u001b[39m \u001b[38;5;28;01mexcept\u001b[39;00m ClientError \u001b[38;5;28;01mas\u001b[39;00m e:\n\u001b[32m--> \u001b[39m\u001b[32m378\u001b[39m     \u001b[38;5;28;01mraise\u001b[39;00m S3UploadFailedError(\n\u001b[32m    379\u001b[39m         \u001b[33m\"\u001b[39m\u001b[33mFailed to upload \u001b[39m\u001b[38;5;132;01m{}\u001b[39;00m\u001b[33m to \u001b[39m\u001b[38;5;132;01m{}\u001b[39;00m\u001b[33m: \u001b[39m\u001b[38;5;132;01m{}\u001b[39;00m\u001b[33m\"\u001b[39m.format(\n\u001b[32m    380\u001b[39m             filename, \u001b[33m'\u001b[39m\u001b[33m/\u001b[39m\u001b[33m'\u001b[39m.join([bucket, key]), e\n\u001b[32m    381\u001b[39m         )\n\u001b[32m    382\u001b[39m     )\n",
      "\u001b[31mS3UploadFailedError\u001b[39m: Failed to upload ./local/bronze/PNAD_COVID_092020.csv to 896309849144/layers/bronze/PNAD_COVID_092020.csv: An error occurred (InvalidToken) when calling the CreateMultipartUpload operation: The provided token is malformed or otherwise invalid."
     ]
    }
   ],
   "source": [
    "for file in files:\n",
    "    upload_to_s3(\n",
    "        file,\n",
    "        BUCKET,\n",
    "        f'{BRONZE}/{file.split(\"/\")[-1]}')"
   ]
  },
  {
   "cell_type": "markdown",
   "id": "6cc197a3",
   "metadata": {},
   "source": [
    "# 1. Bronze\n",
    "O processo de re-estruturamento dos dados é feito na AWS via `AWS Glue`."
   ]
  },
  {
   "cell_type": "markdown",
   "id": "db59f5fc",
   "metadata": {},
   "source": [
    "# 2. Silver\n",
    "Pegaremos esses dados re-estruturados *silver* e faremos nossas queries via `PySpark`."
   ]
  },
  {
   "cell_type": "code",
   "execution_count": 14,
   "id": "761da2af",
   "metadata": {},
   "outputs": [
    {
     "ename": "ClientError",
     "evalue": "An error occurred (InvalidToken) when calling the ListObjectsV2 operation: The provided token is malformed or otherwise invalid.",
     "output_type": "error",
     "traceback": [
      "\u001b[31m---------------------------------------------------------------------------\u001b[39m",
      "\u001b[31mClientError\u001b[39m                               Traceback (most recent call last)",
      "\u001b[36mCell\u001b[39m\u001b[36m \u001b[39m\u001b[32mIn[14]\u001b[39m\u001b[32m, line 1\u001b[39m\n\u001b[32m----> \u001b[39m\u001b[32m1\u001b[39m to_download = \u001b[43ms3_client\u001b[49m\u001b[43m.\u001b[49m\u001b[43mlist_objects_v2\u001b[49m\u001b[43m(\u001b[49m\n\u001b[32m      2\u001b[39m \u001b[43m    \u001b[49m\u001b[43mBucket\u001b[49m\u001b[43m \u001b[49m\u001b[43m=\u001b[49m\u001b[43m \u001b[49m\u001b[43mBUCKET\u001b[49m\u001b[43m,\u001b[49m\n\u001b[32m      3\u001b[39m \u001b[43m    \u001b[49m\u001b[43mPrefix\u001b[49m\u001b[43m \u001b[49m\u001b[43m=\u001b[49m\u001b[43m \u001b[49m\u001b[43mSILVER\u001b[49m\n\u001b[32m      4\u001b[39m \u001b[43m)\u001b[49m[\u001b[33m'\u001b[39m\u001b[33mContents\u001b[39m\u001b[33m'\u001b[39m][\u001b[32m1\u001b[39m:]\n\u001b[32m      6\u001b[39m count = \u001b[32m1\u001b[39m\n\u001b[32m      8\u001b[39m \u001b[38;5;28;01mfor\u001b[39;00m file \u001b[38;5;129;01min\u001b[39;00m to_download:\n",
      "\u001b[36mFile \u001b[39m\u001b[32mc:\\Users\\Victoria\\anaconda3\\envs\\venv\\Lib\\site-packages\\botocore\\client.py:570\u001b[39m, in \u001b[36mClientCreator._create_api_method.<locals>._api_call\u001b[39m\u001b[34m(self, *args, **kwargs)\u001b[39m\n\u001b[32m    566\u001b[39m     \u001b[38;5;28;01mraise\u001b[39;00m \u001b[38;5;167;01mTypeError\u001b[39;00m(\n\u001b[32m    567\u001b[39m         \u001b[33mf\u001b[39m\u001b[33m\"\u001b[39m\u001b[38;5;132;01m{\u001b[39;00mpy_operation_name\u001b[38;5;132;01m}\u001b[39;00m\u001b[33m() only accepts keyword arguments.\u001b[39m\u001b[33m\"\u001b[39m\n\u001b[32m    568\u001b[39m     )\n\u001b[32m    569\u001b[39m \u001b[38;5;66;03m# The \"self\" in this scope is referring to the BaseClient.\u001b[39;00m\n\u001b[32m--> \u001b[39m\u001b[32m570\u001b[39m \u001b[38;5;28;01mreturn\u001b[39;00m \u001b[38;5;28;43mself\u001b[39;49m\u001b[43m.\u001b[49m\u001b[43m_make_api_call\u001b[49m\u001b[43m(\u001b[49m\u001b[43moperation_name\u001b[49m\u001b[43m,\u001b[49m\u001b[43m \u001b[49m\u001b[43mkwargs\u001b[49m\u001b[43m)\u001b[49m\n",
      "\u001b[36mFile \u001b[39m\u001b[32mc:\\Users\\Victoria\\anaconda3\\envs\\venv\\Lib\\site-packages\\botocore\\context.py:124\u001b[39m, in \u001b[36mwith_current_context.<locals>.decorator.<locals>.wrapper\u001b[39m\u001b[34m(*args, **kwargs)\u001b[39m\n\u001b[32m    122\u001b[39m \u001b[38;5;28;01mif\u001b[39;00m hook:\n\u001b[32m    123\u001b[39m     hook()\n\u001b[32m--> \u001b[39m\u001b[32m124\u001b[39m \u001b[38;5;28;01mreturn\u001b[39;00m \u001b[43mfunc\u001b[49m\u001b[43m(\u001b[49m\u001b[43m*\u001b[49m\u001b[43margs\u001b[49m\u001b[43m,\u001b[49m\u001b[43m \u001b[49m\u001b[43m*\u001b[49m\u001b[43m*\u001b[49m\u001b[43mkwargs\u001b[49m\u001b[43m)\u001b[49m\n",
      "\u001b[36mFile \u001b[39m\u001b[32mc:\\Users\\Victoria\\anaconda3\\envs\\venv\\Lib\\site-packages\\botocore\\client.py:1031\u001b[39m, in \u001b[36mBaseClient._make_api_call\u001b[39m\u001b[34m(self, operation_name, api_params)\u001b[39m\n\u001b[32m   1027\u001b[39m     error_code = error_info.get(\u001b[33m\"\u001b[39m\u001b[33mQueryErrorCode\u001b[39m\u001b[33m\"\u001b[39m) \u001b[38;5;129;01mor\u001b[39;00m error_info.get(\n\u001b[32m   1028\u001b[39m         \u001b[33m\"\u001b[39m\u001b[33mCode\u001b[39m\u001b[33m\"\u001b[39m\n\u001b[32m   1029\u001b[39m     )\n\u001b[32m   1030\u001b[39m     error_class = \u001b[38;5;28mself\u001b[39m.exceptions.from_code(error_code)\n\u001b[32m-> \u001b[39m\u001b[32m1031\u001b[39m     \u001b[38;5;28;01mraise\u001b[39;00m error_class(parsed_response, operation_name)\n\u001b[32m   1032\u001b[39m \u001b[38;5;28;01melse\u001b[39;00m:\n\u001b[32m   1033\u001b[39m     \u001b[38;5;28;01mreturn\u001b[39;00m parsed_response\n",
      "\u001b[31mClientError\u001b[39m: An error occurred (InvalidToken) when calling the ListObjectsV2 operation: The provided token is malformed or otherwise invalid."
     ]
    }
   ],
   "source": [
    "to_download = s3_client.list_objects_v2(\n",
    "    Bucket = BUCKET,\n",
    "    Prefix = SILVER\n",
    ")['Contents'][1:]\n",
    "\n",
    "count = 1\n",
    "\n",
    "for file in to_download:\n",
    "    s3_client.download_file(BUCKET, file['Key'], f'{LOCAL_SILVER}/silver_{count}.parquet')\n",
    "    count+=1"
   ]
  },
  {
   "cell_type": "markdown",
   "id": "929d93b1",
   "metadata": {},
   "source": [
    "## Checando integridade dos dados"
   ]
  },
  {
   "cell_type": "markdown",
   "id": "b78f8149",
   "metadata": {},
   "source": [
    "Comparemos o tamanho da camade bronze original com a camada silver atual para nos certificarmos que o processo de merge ocorreu corretamente"
   ]
  },
  {
   "cell_type": "code",
   "execution_count": null,
   "id": "84233948",
   "metadata": {},
   "outputs": [
    {
     "data": {
      "text/plain": [
       "1149197"
      ]
     },
     "execution_count": 47,
     "metadata": {},
     "output_type": "execute_result"
    }
   ],
   "source": [
    "df_silver = pd.read_parquet('./local/')\n",
    "df_silver.shape[0]"
   ]
  },
  {
   "cell_type": "code",
   "execution_count": null,
   "id": "0cda0491",
   "metadata": {},
   "outputs": [
    {
     "name": "stdout",
     "output_type": "stream",
     "text": [
      "387298\n",
      "380461\n",
      "381438\n",
      "TOTAL = 1149197\n"
     ]
    }
   ],
   "source": [
    "row_count = 0\n",
    "for f in files[:]:\n",
    "    _ = pd.read_csv(f)\n",
    "    row_count += _.shape[0]\n",
    "\n",
    "    print(_.shape[0])\n",
    "print(f'TOTAL = {row_count}')"
   ]
  },
  {
   "cell_type": "markdown",
   "id": "29169435",
   "metadata": {},
   "source": [
    "## Selecionamento das perguntas\n",
    "Foi requesitado a utilização de no máximo 20 perguntas da pesquisa. Seguem as selecionadas abaixo.\n",
    "- `UF` Unidade da Federação\n",
    " - `V1022` Situação de Domicílio\n",
    " - `V1030` Projeção da população \n",
    " - `A002` Qual sua idade?\n",
    " - `A004` Cor ou raça:\n",
    " - `A005` Qual sua escolaridade?\n",
    " - `B002` Por causa (de sintomas), foi a algum estabelecimento de saúde?\n",
    " - `B007` O(A) Sr(a) tem algum plano de saúde médico, seja particular, de empresa ou de órgão público?\n",
    " - `B008` O(A) Sr(a) fez algum teste para saber se estava infectado(a) pelo coronavírus?\n",
    " - `B009B` (SWAB) Qual o resultado?\n",
    " - `B009D` (Furo no dedo) Qual o resultado?\n",
    " - `B009F` (Veia no braço) Qual o resultado?\n",
    " - `B010` Algum médico já lhe deu o diagnóstico de alguma dessas doenças?\n",
    " - `B011` Na semana passada, devido à pandemia do Coronavírus, em que medida o(a) Sr(a) restringiu o contato com as pessoas?\n",
    " - `C001` Na semana passada, por pelo menos uma hora, o(a) Sr(a) trabalhou ou fez algum bico?\n",
    " - `C003` Qual o principal motivo deste afastamento temporário?\n",
    " - `C007` No trabalho (único ou principal) que tinha nessa semana, o(a) Sr(a) era:\n",
    " - `C010` Número de faixa do rendimento / retirada em dinheiro (NORMALMENTE)\n",
    " - `C011` Número de faixa do rendimento / retirada em dinheiro (NO MES ATUAL)\n",
    " - `C012` Na maior parte do tempo, na semana passada, esse trabalho (único ou principal) foi exercido no mesmo local em que costuma trabalhar?"
   ]
  },
  {
   "cell_type": "markdown",
   "id": "e4ba14a3",
   "metadata": {},
   "source": [
    "## PySpark"
   ]
  },
  {
   "cell_type": "code",
   "execution_count": 15,
   "id": "29fd7deb",
   "metadata": {},
   "outputs": [],
   "source": [
    "findspark.init()\n",
    "\n",
    "sc = SparkContext.getOrCreate()\n",
    "spark = SparkSession.builder.appName('PySpark Dataframe').getOrCreate()"
   ]
  },
  {
   "cell_type": "code",
   "execution_count": 16,
   "id": "2f4bdd35",
   "metadata": {},
   "outputs": [
    {
     "name": "stdout",
     "output_type": "stream",
     "text": [
      "C:\\spark_setup\\spark-3.5.6-bin-hadoop3\\hadoop\n",
      "C:\\Users\\Victoria\\anaconda3\\envs\\venv\\Library\\lib\\jvm\n"
     ]
    }
   ],
   "source": [
    "import os\n",
    "print(os.environ['HADOOP_HOME']) \n",
    "print(os.environ['JAVA_HOME']) "
   ]
  },
  {
   "cell_type": "code",
   "execution_count": 17,
   "id": "e14e11ee",
   "metadata": {},
   "outputs": [],
   "source": [
    "df_silver = spark.read.parquet(LOCAL_SILVER)"
   ]
  }
 ],
 "metadata": {
  "kernelspec": {
   "display_name": "venv",
   "language": "python",
   "name": "python3"
  },
  "language_info": {
   "codemirror_mode": {
    "name": "ipython",
    "version": 3
   },
   "file_extension": ".py",
   "mimetype": "text/x-python",
   "name": "python",
   "nbconvert_exporter": "python",
   "pygments_lexer": "ipython3",
   "version": "3.11.13"
  }
 },
 "nbformat": 4,
 "nbformat_minor": 5
}
