{
 "cells": [
  {
   "cell_type": "markdown",
   "id": "f223471a",
   "metadata": {},
   "source": [
    "# Setup\n",
    "Utilizaremos a biblioteca `boto3` para nos comunicarmos com a AWS.\n",
    "\n",
    "Utilizaremos as bibliotecas `pandas` e `pyspark` para lidarmos com nossos dados.\n",
    "\n",
    "Utilizaremos as bibliotecas `matplotlib` e `seaborn` para a análise final."
   ]
  },
  {
   "cell_type": "code",
   "execution_count": 1,
   "id": "f2683da6",
   "metadata": {},
   "outputs": [],
   "source": [
    "import pandas as pd\n",
    "import boto3\n",
    "import os\n",
    "\n",
    "import matplotlib.pyplot as plt\n",
    "import seaborn as sns\n",
    "\n",
    "import findspark\n",
    "from pyspark.sql import SparkSession\n",
    "import pyspark.sql.functions as F\n",
    "\n",
    "from pyspark import SparkContext\n",
    "\n",
    "from sqlalchemy import create_engine, text\n",
    "import pyarrow.parquet"
   ]
  },
  {
   "cell_type": "code",
   "execution_count": 2,
   "id": "6e106465",
   "metadata": {},
   "outputs": [],
   "source": [
    "BUCKET = '896309849144'\n",
    "LAYERS_PREFIX = f'layers'# f's3://{BUCKET}/layers'\n",
    "GOLD = f'{LAYERS_PREFIX}/gold'\n",
    "SILVER = f'{LAYERS_PREFIX}/silver'\n",
    "BRONZE = f'{LAYERS_PREFIX}/bronze'\n",
    "\n",
    "LOCAL_BRONZE = './local/bronze'\n",
    "LOCAL_SILVER = './local/silver'\n",
    "LOCAL_GOLD = './local/gold'\n",
    "\n",
    "files = [\n",
    "    f'{LOCAL_BRONZE}/PNAD_COVID_092020.csv',\n",
    "    f'{LOCAL_BRONZE}/PNAD_COVID_102020.csv',\n",
    "    f'{LOCAL_BRONZE}/PNAD_COVID_112020.csv']\n"
   ]
  },
  {
   "cell_type": "code",
   "execution_count": 3,
   "id": "922c8c04",
   "metadata": {},
   "outputs": [],
   "source": [
    "s3_client = boto3.client('s3')\n",
    "\n",
    "def upload_to_s3(\n",
    "        file_path : str,\n",
    "        bucket : str,\n",
    "        bucket_path : str):\n",
    "    '''\n",
    "    Uploads file_path to the given bucket, as bucket_path (include the name of the file in bucket_path)\n",
    "    \n",
    "    Parameters\n",
    "    -\n",
    "    file_path : str\n",
    "    bucket : str\n",
    "    bucket_path : str\n",
    "    '''\n",
    "    s3_client.upload_file(file_path, bucket, bucket_path)"
   ]
  },
  {
   "cell_type": "markdown",
   "id": "e4cec076",
   "metadata": {},
   "source": [
    "# 0. Ingestion\n",
    "Faremos o upload dos dados brutos extraídos manualmente do IBGE, a um bucket AWS S3 via a biblioteca `boto3`.\n",
    "\n",
    "Conforme o pedido, utilizaremos os últimos 3 meses disponíveis."
   ]
  },
  {
   "cell_type": "code",
   "execution_count": 26,
   "id": "d1f84aac",
   "metadata": {},
   "outputs": [
    {
     "name": "stdout",
     "output_type": "stream",
     "text": [
      "PNAD_COVID_092020.csv\n",
      "PNAD_COVID_102020.csv\n",
      "PNAD_COVID_112020.csv\n"
     ]
    }
   ],
   "source": [
    "for file in files:\n",
    "    print(file.split('/')[-1])"
   ]
  },
  {
   "cell_type": "markdown",
   "id": "6cc197a3",
   "metadata": {},
   "source": [
    "# 1. Bronze\n",
    "Subindo nossos dados para a AWS"
   ]
  },
  {
   "cell_type": "code",
   "execution_count": null,
   "id": "e7afc1cb",
   "metadata": {},
   "outputs": [],
   "source": [
    "for file in files:\n",
    "    upload_to_s3(\n",
    "        file,\n",
    "        BUCKET,\n",
    "        f'{BRONZE}/{file.split(\"/\")[-1]}')"
   ]
  },
  {
   "cell_type": "markdown",
   "id": "96c60d31",
   "metadata": {},
   "source": [
    "O processo de re-estruturamento dos dados é feito na AWS via `AWS Glue`."
   ]
  },
  {
   "cell_type": "markdown",
   "id": "db59f5fc",
   "metadata": {},
   "source": [
    "# 2. Silver\n",
    "Pegaremos esses dados re-estruturados *silver* e faremos nossas queries via `PySpark`.\n",
    "\n",
    "## Puxando nossos dados do S3"
   ]
  },
  {
   "cell_type": "code",
   "execution_count": 4,
   "id": "761da2af",
   "metadata": {},
   "outputs": [],
   "source": [
    "to_download = s3_client.list_objects_v2(\n",
    "    Bucket = BUCKET,\n",
    "    Prefix = SILVER\n",
    ")['Contents'][1:]\n",
    "\n",
    "count = 1\n",
    "\n",
    "for file in to_download:\n",
    "    s3_client.download_file(BUCKET, file['Key'], f'{LOCAL_SILVER}/silver_{count}.parquet')\n",
    "    count+=1"
   ]
  },
  {
   "cell_type": "markdown",
   "id": "929d93b1",
   "metadata": {},
   "source": [
    "## Checando integridade dos dados"
   ]
  },
  {
   "cell_type": "markdown",
   "id": "b78f8149",
   "metadata": {},
   "source": [
    "Comparemos o tamanho da camade bronze original com a camada silver atual para nos certificarmos que o processo de merge ocorreu corretamente"
   ]
  },
  {
   "cell_type": "code",
   "execution_count": 5,
   "id": "84233948",
   "metadata": {},
   "outputs": [
    {
     "data": {
      "text/plain": [
       "1149197"
      ]
     },
     "execution_count": 5,
     "metadata": {},
     "output_type": "execute_result"
    }
   ],
   "source": [
    "df_silver = pd.read_parquet(f'{LOCAL_SILVER}')\n",
    "df_silver.shape[0]"
   ]
  },
  {
   "cell_type": "code",
   "execution_count": 6,
   "id": "0cda0491",
   "metadata": {},
   "outputs": [
    {
     "name": "stdout",
     "output_type": "stream",
     "text": [
      "387298\n",
      "380461\n",
      "381438\n",
      "TOTAL = 1149197\n"
     ]
    }
   ],
   "source": [
    "row_count = 0\n",
    "for f in files[:]:\n",
    "    _ = pd.read_csv(f)\n",
    "    row_count += _.shape[0]\n",
    "\n",
    "    print(_.shape[0])\n",
    "print(f'TOTAL = {row_count}')"
   ]
  },
  {
   "cell_type": "markdown",
   "id": "e4ba14a3",
   "metadata": {},
   "source": [
    "## Carregando nosso Spark DataFrame"
   ]
  },
  {
   "cell_type": "code",
   "execution_count": 7,
   "id": "29fd7deb",
   "metadata": {},
   "outputs": [],
   "source": [
    "findspark.init()\n",
    "\n",
    "sc = SparkContext.getOrCreate()\n",
    "spark = SparkSession.builder.appName('PySpark Dataframe').getOrCreate()"
   ]
  },
  {
   "cell_type": "code",
   "execution_count": 8,
   "id": "2f4bdd35",
   "metadata": {},
   "outputs": [],
   "source": [
    "# import os\n",
    "# print(os.environ['HADOOP_HOME']) \n",
    "# print(os.environ['JAVA_HOME']) "
   ]
  },
  {
   "cell_type": "code",
   "execution_count": 9,
   "id": "e14e11ee",
   "metadata": {},
   "outputs": [],
   "source": [
    "df_silver = spark.read.parquet(LOCAL_SILVER)"
   ]
  },
  {
   "cell_type": "code",
   "execution_count": 10,
   "id": "375bcebb",
   "metadata": {},
   "outputs": [
    {
     "name": "stdout",
     "output_type": "stream",
     "text": [
      "+----+---+-------+-------+-----+-----+-----+-----+-------+---------+-----+-----+------+-----+-----+------+----+-----+------+------+------+----+----+----+----+----+----+----+----+-----+-----+-----+-----+-----+-----+-----+-----+-----+------+------+------+------+----+-----+-----+-----+-----+-----+-----+-----+-----+-----+-----+-----+-----+-----+----+----+----+----+-----+-----+-----+-----+-----+-----+-----+-----+-----+-----+-----+-----+----+----+----+----+----+----+-----+-----+-----+----+----+-----+-----+-----+-----+-----+------+------+-----+----+----+-----+----+-----+------+------+-----+------+------+-----+-----+-----+------+-------+-------+------+-------+-------+----+----+----+----+----+-----+-----+-----+-----+-----+-----+-----+-----+------+-----+------+-----+-----+-----+-----+----+-----+-----+-----+-----+----+-----+-----+------+------+------+------+------+-----+----+---+\n",
      "| ano| uf|capital|rm_ride|v1008|v1012|v1013|v1016|estrato|      upa|v1022|v1023| v1030|v1031|v1032|posest|a001|a001a|a001b1|a001b2|a001b3|a002|a003|a004|a005|a006|a007|a008|a009|b0011|b0012|b0013|b0014|b0015|b0016|b0017|b0018|b0019|b00110|b00111|b00112|b00113|b002|b0031|b0032|b0033|b0034|b0035|b0036|b0037|b0041|b0042|b0043|b0044|b0045|b0046|b005|b006|b007|b008|b009a|b009b|b009c|b009d|b009e|b009f|b0101|b0102|b0103|b0104|b0105|b0106|b011|c001|c002|c003|c004|c005|c0051|c0052|c0053|c006|c007|c007a|c007b|c007c|c007d|c007e|c007e1|c007e2|c007f|c008|c009|c009a|c010|c0101|c01011|c01012|c0102|c01021|c01022|c0103|c0104|c011a|c011a1|c011a11|c011a12|c011a2|c011a21|c011a22|c012|c013|c014|c015|c016|c017a|d0011|d0013|d0021|d0023|d0031|d0033|d0041| d0043|d0051| d0053|d0061|d0063|d0071|d0073|e001|e0021|e0022|e0023|e0024|f001|f0021|f0022|f002a1|f002a2|f002a3|f002a4|f002a5|f0061|f006|mes|\n",
      "+----+---+-------+-------+-----+-----+-----+-----+-------+---------+-----+-----+------+-----+-----+------+----+-----+------+------+------+----+----+----+----+----+----+----+----+-----+-----+-----+-----+-----+-----+-----+-----+-----+------+------+------+------+----+-----+-----+-----+-----+-----+-----+-----+-----+-----+-----+-----+-----+-----+----+----+----+----+-----+-----+-----+-----+-----+-----+-----+-----+-----+-----+-----+-----+----+----+----+----+----+----+-----+-----+-----+----+----+-----+-----+-----+-----+-----+------+------+-----+----+----+-----+----+-----+------+------+-----+------+------+-----+-----+-----+------+-------+-------+------+-------+-------+----+----+----+----+----+-----+-----+-----+-----+-----+-----+-----+-----+------+-----+------+-----+-----+-----+-----+----+-----+-----+-----+-----+----+-----+-----+------+------+------+------+------+-----+----+---+\n",
      "|2020| 11|     11|   NULL|    1|    4|   10|    6|1110011|110015970|    1|    1|152790| NULL| NULL|  1114|   1|    1|     5|     8|  1984|  36|   1|   4|   5|NULL|NULL|NULL|NULL|    2|    2|    2|    2|    2|    2|    2|    2|    2|     2|     2|     2|     2|NULL| NULL| NULL| NULL| NULL| NULL| NULL| NULL| NULL| NULL| NULL| NULL| NULL| NULL|NULL|NULL|   1|   2| NULL| NULL| NULL| NULL| NULL| NULL|    2|    2|    2|    2|    2|    2|   2|   1|NULL|NULL|NULL|NULL| NULL| NULL| NULL|   2|   4| NULL|    1|   35|    6| NULL|  NULL|  NULL| NULL|  48|  48| NULL|   1|    1|     4|  1045| NULL|  NULL|  NULL| NULL| NULL|    1|     1|      4|   1045|  NULL|   NULL|   NULL|   1|NULL|NULL|NULL|NULL| NULL|  2.0| NULL|  2.0| NULL|  2.0| NULL|  2.0|  NULL|  1.0|1200.0|  2.0| NULL|  2.0| NULL|   3| NULL| NULL| NULL| NULL|   1| NULL| NULL|   1.0|     1|     1|     2|     1|    1|   1| 10|\n",
      "|2020| 11|     11|   NULL|    1|    4|   10|    6|1110011|110015970|    1|    1|150739| NULL| NULL|  1124|   2|    2|    18|     8|  1990|  30|   2|   4|   7|NULL|NULL|NULL|NULL|    2|    2|    2|    2|    2|    2|    2|    2|    2|     2|     2|     2|     2|NULL| NULL| NULL| NULL| NULL| NULL| NULL| NULL| NULL| NULL| NULL| NULL| NULL| NULL|NULL|NULL|   2|   2| NULL| NULL| NULL| NULL| NULL| NULL|    2|    2|    2|    2|    2|    2|   2|   1|NULL|NULL|NULL|NULL| NULL| NULL| NULL|   2|   7| NULL| NULL|   27|   20| NULL|  NULL|  NULL| NULL|  36|  36|    2|   1|    1|     4|  1045| NULL|  NULL|  NULL| NULL| NULL|    1|     1|      4|   1045|  NULL|   NULL|   NULL|   1|NULL|   2|NULL|NULL| NULL|  2.0| NULL|  2.0| NULL|  2.0| NULL|  2.0|  NULL|  1.0|1200.0|  2.0| NULL|  2.0| NULL|   3| NULL| NULL| NULL| NULL|   1| NULL| NULL|   1.0|     1|     1|     2|     1|    1|   1| 10|\n",
      "|2020| 11|     11|   NULL|    1|    4|   10|    6|1110011|110015970|    1|    1|144993| NULL| NULL|  1112|   3|    4|    25|    12|  2006|  13|   1|   4|   2|   1|   1|   5|   3|    2|    2|    2|    2|    2|    2|    2|    2|    2|     2|     2|     2|     2|NULL| NULL| NULL| NULL| NULL| NULL| NULL| NULL| NULL| NULL| NULL| NULL| NULL| NULL|NULL|NULL|   1|   2| NULL| NULL| NULL| NULL| NULL| NULL|    2|    2|    2|    2|    2|    2|   4|NULL|NULL|NULL|NULL|NULL| NULL| NULL| NULL|NULL|NULL| NULL| NULL| NULL| NULL| NULL|  NULL|  NULL| NULL|NULL|NULL| NULL|NULL| NULL|  NULL|  NULL| NULL|  NULL|  NULL| NULL| NULL| NULL|  NULL|   NULL|   NULL|  NULL|   NULL|   NULL|NULL|NULL|NULL|NULL|NULL| NULL|  2.0| NULL|  2.0| NULL|  2.0| NULL|  2.0|  NULL|  1.0|1200.0|  2.0| NULL|  2.0| NULL|   3| NULL| NULL| NULL| NULL|   1| NULL| NULL|   1.0|     1|     1|     2|     1|    1|   1| 10|\n",
      "|2020| 11|     11|   NULL|    1|    4|   10|    6|1110011|110015970|    1|    1|144993| NULL| NULL|  1112|   4|    4|    24|     8|  2009|  11|   1|   4|   2|   1|   1|   5|   3|    2|    2|    2|    2|    2|    2|    2|    2|    2|     2|     2|     2|     2|NULL| NULL| NULL| NULL| NULL| NULL| NULL| NULL| NULL| NULL| NULL| NULL| NULL| NULL|NULL|NULL|   1|   2| NULL| NULL| NULL| NULL| NULL| NULL|    2|    2|    2|    2|    2|    2|   4|NULL|NULL|NULL|NULL|NULL| NULL| NULL| NULL|NULL|NULL| NULL| NULL| NULL| NULL| NULL|  NULL|  NULL| NULL|NULL|NULL| NULL|NULL| NULL|  NULL|  NULL| NULL|  NULL|  NULL| NULL| NULL| NULL|  NULL|   NULL|   NULL|  NULL|   NULL|   NULL|NULL|NULL|NULL|NULL|NULL| NULL|  2.0| NULL|  2.0| NULL|  2.0| NULL|  2.0|  NULL|  1.0|1200.0|  2.0| NULL|  2.0| NULL|   3| NULL| NULL| NULL| NULL|   1| NULL| NULL|   1.0|     1|     1|     2|     1|    1|   1| 10|\n",
      "|2020| 11|     11|   NULL|    2|    1|   10|    6|1110011|110015970|    1|    1| 92130| NULL| NULL|  1126|   1|    1|    18|     5|  1963|  57|   2|   1|   2|NULL|NULL|NULL|NULL|    2|    2|    2|    2|    2|    2|    2|    2|    2|     2|     2|     2|     2|NULL| NULL| NULL| NULL| NULL| NULL| NULL| NULL| NULL| NULL| NULL| NULL| NULL| NULL|NULL|NULL|   2|   2| NULL| NULL| NULL| NULL| NULL| NULL|    2|    2|    2|    2|    2|    2|   3|   2|   2|NULL|NULL|NULL| NULL| NULL| NULL|NULL|NULL| NULL| NULL| NULL| NULL| NULL|  NULL|  NULL| NULL|NULL|NULL| NULL|NULL| NULL|  NULL|  NULL| NULL|  NULL|  NULL| NULL| NULL| NULL|  NULL|   NULL|   NULL|  NULL|   NULL|   NULL|NULL|NULL|   2|   2|   1|    1|  2.0| NULL|  2.0| NULL|  2.0| NULL|  1.0|1045.0|  2.0|  NULL|  2.0| NULL|  2.0| NULL|   3| NULL| NULL| NULL| NULL|   1| NULL| NULL|   1.0|     1|     1|     2|     1|    1|   1| 10|\n",
      "+----+---+-------+-------+-----+-----+-----+-----+-------+---------+-----+-----+------+-----+-----+------+----+-----+------+------+------+----+----+----+----+----+----+----+----+-----+-----+-----+-----+-----+-----+-----+-----+-----+------+------+------+------+----+-----+-----+-----+-----+-----+-----+-----+-----+-----+-----+-----+-----+-----+----+----+----+----+-----+-----+-----+-----+-----+-----+-----+-----+-----+-----+-----+-----+----+----+----+----+----+----+-----+-----+-----+----+----+-----+-----+-----+-----+-----+------+------+-----+----+----+-----+----+-----+------+------+-----+------+------+-----+-----+-----+------+-------+-------+------+-------+-------+----+----+----+----+----+-----+-----+-----+-----+-----+-----+-----+-----+------+-----+------+-----+-----+-----+-----+----+-----+-----+-----+-----+----+-----+-----+------+------+------+------+------+-----+----+---+\n",
      "only showing top 5 rows\n",
      "\n"
     ]
    }
   ],
   "source": [
    "df_silver.show(5)"
   ]
  },
  {
   "cell_type": "markdown",
   "id": "80cb0576",
   "metadata": {},
   "source": [
    "# 3. Gold"
   ]
  },
  {
   "cell_type": "markdown",
   "id": "7d9b57c3",
   "metadata": {},
   "source": [
    "## Manipulação"
   ]
  },
  {
   "cell_type": "markdown",
   "id": "29169435",
   "metadata": {},
   "source": [
    "### Selecionamento das perguntas\n",
    "Foi requesitado a utilização de no máximo 20 perguntas da pesquisa. Seguem as selecionadas abaixo.\n",
    "- `UF` Unidade da Federação\n",
    " - `V1022` Situação de Domicílio\n",
    " - `V1030` Projeção da população \n",
    " - `A002` Qual sua idade?\n",
    " - `A004` Cor ou raça:\n",
    " - `A007` Na semana passada, foram disponibilizadas teve atividades escolares para realizar em casa (aulas online, deveres, estudo dirigido etc.)? \n",
    " - `A005` Qual sua escolaridade?\n",
    " - `B002` Por causa (de sintomas), foi a algum estabelecimento de saúde?\n",
    " - `B007` O(A) Sr(a) tem algum plano de saúde médico, seja particular, de empresa ou de órgão público?\n",
    " - `B009B` (SWAB) Qual o resultado?\n",
    " - `B009D` (Furo no dedo) Qual o resultado?\n",
    " - `B009F` (Veia no braço) Qual o resultado?\n",
    " - `B010` Algum médico já lhe deu o diagnóstico de alguma dessas doenças?\n",
    " - `B011` Na semana passada, devido à pandemia do Coronavírus, em que medida o(a) Sr(a) restringiu o contato com as pessoas?\n",
    " - `C001` Na semana passada, por pelo menos uma hora, o(a) Sr(a) trabalhou ou fez algum bico?\n",
    " - `C003` Qual o principal motivo deste afastamento temporário?\n",
    " - `C007` No trabalho (único ou principal) que tinha nessa semana, o(a) Sr(a) era:\n",
    " - `C010` Número de faixa do rendimento / retirada em dinheiro (NORMALMENTE)\n",
    " - `C011` Número de faixa do rendimento / retirada em dinheiro (NO MES ATUAL)\n",
    " - `C013` Na semana passada, o(a) Sr(a) estava em trabalho remoto (home office ou teletrabalho)? (C013)"
   ]
  },
  {
   "cell_type": "code",
   "execution_count": 8,
   "id": "20e3493d",
   "metadata": {},
   "outputs": [],
   "source": [
    "selected_cols = {\n",
    "    'mes':'mes',\n",
    "    'uf':'uf',\n",
    "    'v1022':'situacao_domicilio',\n",
    "    'v1030':'proj_populacao',\n",
    "    'a002':'idade',\n",
    "    'a004':'cor',\n",
    "    'a007':'aulas_online',\n",
    "    'a005':'escolaridade',\n",
    "    'b002':'foi_a_estabelecimento_saude',\n",
    "    'b007':'plano_saude',\n",
    "    'b009b':'teste_resultado_swab',\n",
    "    'b009d':'teste_resultado_furo',\n",
    "    'b009f':'teste_resultado_braco',\n",
    "    'b0101':'diagnostico_diabetes',\n",
    "    'b0102':'diagnostico_hipertensao',\n",
    "    'b0103':'diagnostico_respiratorias',\n",
    "    'b0104':'diagnostico_cardiacas',\n",
    "    'b0105':'diagnostico_depressao',\n",
    "    'b0106':'diagnostico_cancer',\n",
    "    'b011':'contato_reduzido',\n",
    "    'c001':'trabalhou',\n",
    "    'c003':'afastamento_motivo',\n",
    "    'c007':'trabalho_funcao',\n",
    "    'c01011':'rendimento_regular',\n",
    "    'c011a11':'rendimento_real',\n",
    "    'c013':'home_office'\n",
    "}"
   ]
  },
  {
   "cell_type": "code",
   "execution_count": 9,
   "id": "5a2c5117",
   "metadata": {},
   "outputs": [
    {
     "name": "stdout",
     "output_type": "stream",
     "text": [
      "+---+---+-----+------+----+----+----+----+----+----+-----+-----+-----+-----+-----+-----+-----+-----+-----+----+----+----+----+------+-------+----+\n",
      "|mes| uf|v1022| v1030|a002|a004|a007|a005|b002|b007|b009b|b009d|b009f|b0101|b0102|b0103|b0104|b0105|b0106|b011|c001|c003|c007|c01011|c011a11|c013|\n",
      "+---+---+-----+------+----+----+----+----+----+----+-----+-----+-----+-----+-----+-----+-----+-----+-----+----+----+----+----+------+-------+----+\n",
      "| 10| 11|    1|152790|  36|   4|NULL|   5|NULL|   1| NULL| NULL| NULL|    2|    2|    2|    2|    2|    2|   2|   1|NULL|   4|     4|      4|NULL|\n",
      "| 10| 11|    1|150739|  30|   4|NULL|   7|NULL|   2| NULL| NULL| NULL|    2|    2|    2|    2|    2|    2|   2|   1|NULL|   7|     4|      4|NULL|\n",
      "| 10| 11|    1|144993|  13|   4|   1|   2|NULL|   1| NULL| NULL| NULL|    2|    2|    2|    2|    2|    2|   4|NULL|NULL|NULL|  NULL|   NULL|NULL|\n",
      "| 10| 11|    1|144993|  11|   4|   1|   2|NULL|   1| NULL| NULL| NULL|    2|    2|    2|    2|    2|    2|   4|NULL|NULL|NULL|  NULL|   NULL|NULL|\n",
      "| 10| 11|    1| 92130|  57|   1|NULL|   2|NULL|   2| NULL| NULL| NULL|    2|    2|    2|    2|    2|    2|   3|   2|NULL|NULL|  NULL|   NULL|NULL|\n",
      "+---+---+-----+------+----+----+----+----+----+----+-----+-----+-----+-----+-----+-----+-----+-----+-----+----+----+----+----+------+-------+----+\n",
      "only showing top 5 rows\n",
      "\n"
     ]
    }
   ],
   "source": [
    "df_gold = df_silver.select([c for c in selected_cols.keys()])\n",
    "df_gold.show(5)"
   ]
  },
  {
   "cell_type": "markdown",
   "id": "55aa3897",
   "metadata": {},
   "source": [
    "#### Aplicando dicionários a colunas existentes"
   ]
  },
  {
   "cell_type": "code",
   "execution_count": 10,
   "id": "c8af3898",
   "metadata": {},
   "outputs": [
    {
     "name": "stdout",
     "output_type": "stream",
     "text": [
      "+---+---+------------------+--------------+-----+---+------------+------------+---------------------------+-----------+--------------------+--------------------+---------------------+--------------------+-----------------------+-------------------------+---------------------+---------------------+------------------+----------------+---------+------------------+---------------+------------------+---------------+-----------+\n",
      "|mes| uf|situacao_domicilio|proj_populacao|idade|cor|aulas_online|escolaridade|foi_a_estabelecimento_saude|plano_saude|teste_resultado_swab|teste_resultado_furo|teste_resultado_braco|diagnostico_diabetes|diagnostico_hipertensao|diagnostico_respiratorias|diagnostico_cardiacas|diagnostico_depressao|diagnostico_cancer|contato_reduzido|trabalhou|afastamento_motivo|trabalho_funcao|rendimento_regular|rendimento_real|home_office|\n",
      "+---+---+------------------+--------------+-----+---+------------+------------+---------------------------+-----------+--------------------+--------------------+---------------------+--------------------+-----------------------+-------------------------+---------------------+---------------------+------------------+----------------+---------+------------------+---------------+------------------+---------------+-----------+\n",
      "| 10| 11|                 1|        152790|   36|  4|        NULL|           5|                       NULL|          1|                NULL|                NULL|                 NULL|                   2|                      2|                        2|                    2|                    2|                 2|               2|        1|              NULL|              4|                 4|              4|       NULL|\n",
      "| 10| 11|                 1|        150739|   30|  4|        NULL|           7|                       NULL|          2|                NULL|                NULL|                 NULL|                   2|                      2|                        2|                    2|                    2|                 2|               2|        1|              NULL|              7|                 4|              4|       NULL|\n",
      "| 10| 11|                 1|        144993|   13|  4|           1|           2|                       NULL|          1|                NULL|                NULL|                 NULL|                   2|                      2|                        2|                    2|                    2|                 2|               4|     NULL|              NULL|           NULL|              NULL|           NULL|       NULL|\n",
      "| 10| 11|                 1|        144993|   11|  4|           1|           2|                       NULL|          1|                NULL|                NULL|                 NULL|                   2|                      2|                        2|                    2|                    2|                 2|               4|     NULL|              NULL|           NULL|              NULL|           NULL|       NULL|\n",
      "| 10| 11|                 1|         92130|   57|  1|        NULL|           2|                       NULL|          2|                NULL|                NULL|                 NULL|                   2|                      2|                        2|                    2|                    2|                 2|               3|        2|              NULL|           NULL|              NULL|           NULL|       NULL|\n",
      "+---+---+------------------+--------------+-----+---+------------+------------+---------------------------+-----------+--------------------+--------------------+---------------------+--------------------+-----------------------+-------------------------+---------------------+---------------------+------------------+----------------+---------+------------------+---------------+------------------+---------------+-----------+\n",
      "only showing top 5 rows\n",
      "\n"
     ]
    }
   ],
   "source": [
    "for col in selected_cols.keys():\n",
    "    df_gold = df_gold.withColumnRenamed(col, selected_cols[col])\n",
    "df_gold.show(5)"
   ]
  },
  {
   "cell_type": "code",
   "execution_count": 11,
   "id": "d1d383b5",
   "metadata": {},
   "outputs": [],
   "source": [
    "def convert_columns(\n",
    "        df,\n",
    "        column_to_convert : str,\n",
    "        dict_of_conversion : dict,\n",
    "):\n",
    "    map_col = F.create_map(\n",
    "        [F.lit(x) for i in dict_of_conversion.items() for x in i]\n",
    "    )\n",
    "\n",
    "    df_new = df.withColumn(\n",
    "        column_to_convert,\n",
    "        map_col[F.col(column_to_convert)]\n",
    "    )\n",
    "\n",
    "    return df_new"
   ]
  },
  {
   "cell_type": "code",
   "execution_count": 12,
   "id": "ffddb5ac",
   "metadata": {},
   "outputs": [],
   "source": [
    "#uf\n",
    "current_col = 'uf'\n",
    "current_dict = dict_uf = {\n",
    "    11:'Rondônia',\n",
    "    12:'Acre',\n",
    "    13:'Amazonas',\n",
    "    14:'Roraima',\n",
    "    15:'Pará',\n",
    "    16:'Amapá',\n",
    "    17:'Tocantins',\n",
    "    21:'Maranhão',\n",
    "    22:'Piauí',\n",
    "    23:'Ceará',\n",
    "    24:'Rio Grande do Norte',\n",
    "    25:'Paraíba',\n",
    "    26:'Pernambuco',\n",
    "    27:'Alagoas',\n",
    "    28:'Sergipe',\n",
    "    29:'Bahia',\n",
    "    31:'Minas Gerais',\n",
    "    32:'Espírito Santo',\n",
    "    33:'Rio de Janeiro',\n",
    "    35:'São Paulo',\n",
    "    41:'Paraná',\n",
    "    42:'Santa Catarina',\n",
    "    43:'Rio Grande do Sul',\n",
    "    50:'Mato Grosso do Sul',\n",
    "    51:'Mato Grosso',\n",
    "    52:'Goiás',\n",
    "    53:'Distrito Federal'\n",
    "}\n",
    "df_gold = convert_columns(df_gold, current_col, current_dict)\n",
    "\n",
    "#v1022\n",
    "current_col = 'situacao_domicilio'\n",
    "current_dict = {\n",
    "    1: 'Urbana', 2: 'Rural'\n",
    "}\n",
    "df_gold = convert_columns(df_gold, current_col, current_dict)\n",
    "\n",
    "#a004\n",
    "current_col = 'cor'\n",
    "current_dict = {\n",
    "    1: 'Branca', 2: 'Preta', 3: 'Amarela', 4: 'Parda', 5: 'Indígena', 9: None\n",
    "}\n",
    "df_gold = convert_columns(df_gold, current_col, current_dict)\n",
    "\n",
    "#a005\n",
    "current_col = 'escolaridade'\n",
    "current_dict = {\n",
    "    1: 'Sem instrução', 2: 'Fundamental incompleto', 3: 'Fundamental completo', 4: 'Médio incompleto', 5: 'Médio completo', 6: 'Superior incompleto', 7: 'Superior completo', 8: 'Pós-graduação, mestrado ou doutorado'\n",
    "}\n",
    "df_gold = convert_columns(df_gold, current_col, current_dict)\n",
    "\n",
    "#a007\n",
    "current_col = 'aulas_online'\n",
    "current_dict = {\n",
    "    1: 'Sim, e realizou pelo menos parte', 2: 'Sim, mas não realizou', 3: 'Não', 4: 'Não (férias)'\n",
    "    }\n",
    "df_gold = convert_columns(df_gold, current_col, current_dict)\n",
    "\n",
    "# b002\n",
    "current_col = 'foi_a_estabelecimento_saude'\n",
    "current_dict = {\n",
    "    1: True, 2: False\n",
    "    }\n",
    "df_gold = convert_columns(df_gold, current_col, current_dict)\n",
    "\n",
    "# b007\n",
    "current_col = 'plano_saude'\n",
    "current_dict = {\n",
    "    1: True, 2: False, 9: None\n",
    "    }\n",
    "df_gold = convert_columns(df_gold, current_col, current_dict)\n",
    "\n",
    "# b009b\n",
    "current_col = 'teste_resultado_swab'\n",
    "current_dict = {\n",
    "    1: 'Positivo', 2: 'Negativo', 3: 'Inconclusivo', 4: 'Não recebeu', 9: None\n",
    "    }\n",
    "df_gold = convert_columns(df_gold, current_col, current_dict)\n",
    "\n",
    "# b009d\n",
    "current_col = 'teste_resultado_furo'\n",
    "current_dict = {\n",
    "    1: 'Positivo', 2: 'Negativo', 3: 'Inconclusivo', 4: 'Não recebeu', 9: None\n",
    "    }\n",
    "df_gold = convert_columns(df_gold, current_col, current_dict)\n",
    "\n",
    "# b009d\n",
    "current_col = 'teste_resultado_braco'\n",
    "current_dict = {\n",
    "    1: 'Positivo', 2: 'Negativo', 3: 'Inconclusivo', 4: 'Não recebeu', 9: None\n",
    "    }\n",
    "df_gold = convert_columns(df_gold, current_col, current_dict)\n",
    "\n",
    "# b0101\n",
    "current_col = 'diagnostico_diabetes'\n",
    "current_dict = {\n",
    "    1: True, 2: False, 9: None\n",
    "    }\n",
    "df_gold = convert_columns(df_gold, current_col, current_dict)\n",
    "\n",
    "# b0102\n",
    "current_col = 'diagnostico_hipertensao'\n",
    "current_dict = {\n",
    "    1: True, 2: False, 9: None\n",
    "    }\n",
    "df_gold = convert_columns(df_gold, current_col, current_dict)\n",
    "\n",
    "# b0103\n",
    "current_col = 'diagnostico_respiratorias'\n",
    "current_dict = {\n",
    "    1: True, 2: False, 9: None\n",
    "    }\n",
    "df_gold = convert_columns(df_gold, current_col, current_dict)\n",
    "\n",
    "# b0104\n",
    "current_col = 'diagnostico_cardiacas'\n",
    "current_dict = {\n",
    "    1: True, 2: False, 9: None\n",
    "    }\n",
    "df_gold = convert_columns(df_gold, current_col, current_dict)\n",
    "\n",
    "# b0105\n",
    "current_col = 'diagnostico_depressao'\n",
    "current_dict = {\n",
    "    1: True, 2: False, 9: None\n",
    "    }\n",
    "df_gold = convert_columns(df_gold, current_col, current_dict)\n",
    "\n",
    "# b0106\n",
    "current_col = 'diagnostico_cancer'\n",
    "current_dict = {\n",
    "    1: True, 2: False, 9: None\n",
    "    }\n",
    "df_gold = convert_columns(df_gold, current_col, current_dict)\n",
    "\n",
    "# b011\n",
    "current_col = 'contato_reduzido'\n",
    "current_dict = {\n",
    "    1: 'Sem restrição', 2: 'Reduziu mas continuou saindo', 3: 'Só saiu em caso de necessidade', 4: 'Ficou rigorosamente em casa'\n",
    "    }\n",
    "df_gold = convert_columns(df_gold, current_col, current_dict)\n",
    "\n",
    "# c001\n",
    "current_col = 'trabalhou'\n",
    "current_dict = {\n",
    "    1: True, 2: False\n",
    "    }\n",
    "df_gold = convert_columns(df_gold, current_col, current_dict)\n",
    "\n",
    "# c003\n",
    "current_col = 'afastamento_motivo'\n",
    "current_dict = {\n",
    "    1: 'Quarentena, isolamente ou férias coletivas', 2: 'Férias, folga ou jornada variável', 3: 'Licença maternidade ou paternidade',\n",
    "    4:'Licença remunerada por motivo de saúde ou acidente', 5: 'Outro tipo de licença remunerada',\n",
    "    6: 'Afastamento pela empresa por motivo de gestação, saúde, etc, sem remuneração por instituto de previdência', 7: 'Fatores ocasionais',\n",
    "    }\n",
    "df_gold = convert_columns(df_gold, current_col, current_dict)\n",
    "\n",
    "# c007c\n",
    "current_col = 'trabalho_funcao'\n",
    "current_dict = {\n",
    "    1:'Empregado doméstico, diarista, cozinheiro (em domicílios particulares), ',\n",
    "    2:'Faxineiro, auxiliar de limpeza etc. (em empresa pública ou privada), ',\n",
    "    3:'Auxiliar de escritório, escriturário',\n",
    "    4:'Secretária, recepcionista',\n",
    "    5:'Operador de Telemarketing',\n",
    "    6:'Comerciante (dono do bar, da loja etc.) ',\n",
    "    7:'Balconista, vendedor de loja',\n",
    "    8:'Vendedor a domicílio, representante de vendas, vendedor de catálogo (Avon, Natura etc.)  ',\n",
    "    9:'Vendedor ambulante (feirante, camelô, comerciante de rua, quiosque)',\n",
    "    10:'Cozinheiro e garçom (de restaurantes, empresas)',\n",
    "    11:'Padeiro, açougueiro e doceiro ',\n",
    "    12:'Agricultor, criador de animais, pescador, silvicultor e jardineiro',\n",
    "    13:'Auxiliar da agropecuária (colhedor de frutas, boia fria, etc.)',\n",
    "    14:'Motorista (de aplicativo, de taxi, de van, de mototáxi, de ônibus)',\n",
    "    15:'Motorista de caminhão (caminhoneiro), ',\n",
    "    16:'Motoboy, ',\n",
    "    17:'Entregador de mercadorias (de restaurante, de farmácia, de loja, Uber Eats, IFood, Rappy etc.) ',\n",
    "    18:'Pedreiro, servente de pedreiro, pintor, eletricista, marceneiro',\n",
    "    19:'Mecânico de veículos, máquinas industriais etc.',\n",
    "    20:'Artesão, costureiro e sapateiro',\n",
    "    21:'Cabeleireiro, manicure e afins',\n",
    "    22:'Operador de máquinas, montador na indústria; ',\n",
    "    23:'Auxiliar de produção, de carga e descarga;',\n",
    "    24:'Professor da educação infantil, de ensino fundamental, médio ou superior,',\n",
    "    25:'Pedagogo, professor de idiomas, música, arte e reforço escolar',\n",
    "    26:'Médico, enfermeiro, profissionais de saúde de nível superior',\n",
    "    27:'Técnico, profissional da saúde de nível médio ',\n",
    "    28:'Cuidador de crianças, doentes ou idosos',\n",
    "    29:'Segurança, vigilante, outro trabalhador dos serviços de proteção',\n",
    "    30:'Policial civil',\n",
    "    31:'Porteiro, zelador',\n",
    "    32:'Artista, religioso (padre, pastor etc.)',\n",
    "    33:'Diretor, gerente, cargo político ou comissionado',\n",
    "    34:'Outra profissão de nível superior (advogado, engenheiro, contador, jornalista etc.)',\n",
    "    35:'Outro técnico ou profissional de nível médio',\n",
    "    36:'Outros'\n",
    "    }\n",
    "df_gold = convert_columns(df_gold, current_col, current_dict)\n",
    "\n",
    "# c01011\n",
    "current_col = 'rendimento_regular'\n",
    "current_dict = {\n",
    "    0 : '0 - 100',\n",
    "    1 : '101 - 300',\n",
    "    2 : '301 - 600',\n",
    "    3 : '601 - 800',\n",
    "    4 : '801 - 1.600',\n",
    "    5 : '1.601 - 3.000',\n",
    "    6 : '3.001 - 10.000',\n",
    "    7 : '10.001 - 50.000',\n",
    "    8 : '50.001 - 100.000',\n",
    "    9 : 'Mais de 100.000'\n",
    "    }\n",
    "df_gold = convert_columns(df_gold, current_col, current_dict)\n",
    "\n",
    "# c011a11\n",
    "current_col = 'rendimento_real'\n",
    "current_dict = {\n",
    "    0 : '0 - 100',\n",
    "    1 : '101 - 300',\n",
    "    2 : '301 - 600',\n",
    "    3 : '601 - 800',\n",
    "    4 : '801 - 1.600',\n",
    "    5 : '1.601 - 3.000',\n",
    "    6 : '3.001 - 10.000',\n",
    "    7 : '10.001 - 50.000',\n",
    "    8 : '50.001 - 100.000',\n",
    "    9 : 'Mais de 100.000'\n",
    "    }\n",
    "df_gold = convert_columns(df_gold, current_col, current_dict)\n",
    "\n",
    "# c0013\n",
    "current_col = 'home_office'\n",
    "df_gold.na.fill({current_col : False})\n",
    "current_dict = {\n",
    "    1: True, 2: False, 'NULL': False\n",
    "    }\n",
    "\n",
    "df_gold = convert_columns(df_gold, current_col, current_dict)\n"
   ]
  },
  {
   "cell_type": "code",
   "execution_count": 13,
   "id": "f450b896",
   "metadata": {},
   "outputs": [
    {
     "name": "stdout",
     "output_type": "stream",
     "text": [
      "+---+--------+------------------+--------------+-----+------+--------------------+--------------------+---------------------------+-----------+--------------------+--------------------+---------------------+--------------------+-----------------------+-------------------------+---------------------+---------------------+------------------+--------------------+---------+------------------+--------------------+------------------+---------------+-----------+\n",
      "|mes|      uf|situacao_domicilio|proj_populacao|idade|   cor|        aulas_online|        escolaridade|foi_a_estabelecimento_saude|plano_saude|teste_resultado_swab|teste_resultado_furo|teste_resultado_braco|diagnostico_diabetes|diagnostico_hipertensao|diagnostico_respiratorias|diagnostico_cardiacas|diagnostico_depressao|diagnostico_cancer|    contato_reduzido|trabalhou|afastamento_motivo|     trabalho_funcao|rendimento_regular|rendimento_real|home_office|\n",
      "+---+--------+------------------+--------------+-----+------+--------------------+--------------------+---------------------------+-----------+--------------------+--------------------+---------------------+--------------------+-----------------------+-------------------------+---------------------+---------------------+------------------+--------------------+---------+------------------+--------------------+------------------+---------------+-----------+\n",
      "| 10|Rondônia|            Urbana|        152790|   36| Parda|                NULL|      Médio completo|                       NULL|       true|                NULL|                NULL|                 NULL|               false|                  false|                    false|                false|                false|             false|Reduziu mas conti...|     true|              NULL|Secretária, recep...|       801 - 1.600|    801 - 1.600|       NULL|\n",
      "| 10|Rondônia|            Urbana|        150739|   30| Parda|                NULL|   Superior completo|                       NULL|      false|                NULL|                NULL|                 NULL|               false|                  false|                    false|                false|                false|             false|Reduziu mas conti...|     true|              NULL|Balconista, vende...|       801 - 1.600|    801 - 1.600|       NULL|\n",
      "| 10|Rondônia|            Urbana|        144993|   13| Parda|Sim, e realizou p...|Fundamental incom...|                       NULL|       true|                NULL|                NULL|                 NULL|               false|                  false|                    false|                false|                false|             false|Ficou rigorosamen...|     NULL|              NULL|                NULL|              NULL|           NULL|       NULL|\n",
      "| 10|Rondônia|            Urbana|        144993|   11| Parda|Sim, e realizou p...|Fundamental incom...|                       NULL|       true|                NULL|                NULL|                 NULL|               false|                  false|                    false|                false|                false|             false|Ficou rigorosamen...|     NULL|              NULL|                NULL|              NULL|           NULL|       NULL|\n",
      "| 10|Rondônia|            Urbana|         92130|   57|Branca|                NULL|Fundamental incom...|                       NULL|      false|                NULL|                NULL|                 NULL|               false|                  false|                    false|                false|                false|             false|Só saiu em caso d...|    false|              NULL|                NULL|              NULL|           NULL|       NULL|\n",
      "+---+--------+------------------+--------------+-----+------+--------------------+--------------------+---------------------------+-----------+--------------------+--------------------+---------------------+--------------------+-----------------------+-------------------------+---------------------+---------------------+------------------+--------------------+---------+------------------+--------------------+------------------+---------------+-----------+\n",
      "only showing top 5 rows\n",
      "\n"
     ]
    }
   ],
   "source": [
    "df_gold.show(5)"
   ]
  },
  {
   "cell_type": "markdown",
   "id": "eea96968",
   "metadata": {},
   "source": [
    "### Criando colunas novas"
   ]
  },
  {
   "cell_type": "code",
   "execution_count": 14,
   "id": "9724e9e0",
   "metadata": {},
   "outputs": [],
   "source": [
    "# Dicionários que serão utilizados para NOVAS COLUNAS\n",
    "\n",
    "dict_regiao = {\n",
    "    1: 'Norte',\n",
    "    2: 'Nordeste',\n",
    "    3: 'Sudeste',\n",
    "    4: 'Sul',\n",
    "    5: 'Centro-Oeste'\n",
    "}\n",
    "\n",
    "dict_faixa_populacional = {\n",
    "    1: '5000 ou menos',\n",
    "    2: '5000 - 10000',\n",
    "    3: '10000 - 20000',\n",
    "    4: '20000 - 50000',\n",
    "    5: '50000 - 100000',\n",
    "    6: '100000 - 500000'\n",
    "}"
   ]
  },
  {
   "cell_type": "code",
   "execution_count": 15,
   "id": "5591473d",
   "metadata": {},
   "outputs": [],
   "source": [
    "df_gold = df_gold.withColumn(\n",
    "    'regiao',\n",
    "    F.when(F.col('uf') < 21, dict_regiao[1])\\\n",
    "    .when(F.col('uf') < 31, dict_regiao[2])\\\n",
    "    .when(F.col('uf') < 41, dict_regiao[3])\\\n",
    "    .when(F.col('uf') < 50, dict_regiao[4])\\\n",
    "    .otherwise(dict_regiao[5])\n",
    "    )"
   ]
  },
  {
   "cell_type": "code",
   "execution_count": 16,
   "id": "7b7b1c22",
   "metadata": {},
   "outputs": [
    {
     "name": "stdout",
     "output_type": "stream",
     "text": [
      "+---+--------+------------------+--------------+-----+-----+--------------------+--------------------+---------------------------+-----------+--------------------+--------------------+---------------------+--------------------+-----------------------+-------------------------+---------------------+---------------------+------------------+--------------------+---------+------------------+--------------------+------------------+---------------+-----------+------------+------------------+\n",
      "|mes|      uf|situacao_domicilio|proj_populacao|idade|  cor|        aulas_online|        escolaridade|foi_a_estabelecimento_saude|plano_saude|teste_resultado_swab|teste_resultado_furo|teste_resultado_braco|diagnostico_diabetes|diagnostico_hipertensao|diagnostico_respiratorias|diagnostico_cardiacas|diagnostico_depressao|diagnostico_cancer|    contato_reduzido|trabalhou|afastamento_motivo|     trabalho_funcao|rendimento_regular|rendimento_real|home_office|      regiao|faixa_populacional|\n",
      "+---+--------+------------------+--------------+-----+-----+--------------------+--------------------+---------------------------+-----------+--------------------+--------------------+---------------------+--------------------+-----------------------+-------------------------+---------------------+---------------------+------------------+--------------------+---------+------------------+--------------------+------------------+---------------+-----------+------------+------------------+\n",
      "| 10|Rondônia|            Urbana|        152790|   36|Parda|                NULL|      Médio completo|                       NULL|       true|                NULL|                NULL|                 NULL|               false|                  false|                    false|                false|                false|             false|Reduziu mas conti...|     true|              NULL|Secretária, recep...|       801 - 1.600|    801 - 1.600|       NULL|Centro-Oeste|   100000 - 500000|\n",
      "| 10|Rondônia|            Urbana|        150739|   30|Parda|                NULL|   Superior completo|                       NULL|      false|                NULL|                NULL|                 NULL|               false|                  false|                    false|                false|                false|             false|Reduziu mas conti...|     true|              NULL|Balconista, vende...|       801 - 1.600|    801 - 1.600|       NULL|Centro-Oeste|   100000 - 500000|\n",
      "| 10|Rondônia|            Urbana|        144993|   13|Parda|Sim, e realizou p...|Fundamental incom...|                       NULL|       true|                NULL|                NULL|                 NULL|               false|                  false|                    false|                false|                false|             false|Ficou rigorosamen...|     NULL|              NULL|                NULL|              NULL|           NULL|       NULL|Centro-Oeste|   100000 - 500000|\n",
      "+---+--------+------------------+--------------+-----+-----+--------------------+--------------------+---------------------------+-----------+--------------------+--------------------+---------------------+--------------------+-----------------------+-------------------------+---------------------+---------------------+------------------+--------------------+---------+------------------+--------------------+------------------+---------------+-----------+------------+------------------+\n",
      "only showing top 3 rows\n",
      "\n"
     ]
    }
   ],
   "source": [
    "df_gold = df_gold.withColumn(\n",
    "    'faixa_populacional',\n",
    "    F.when(F.col('proj_populacao') < 5_000, dict_faixa_populacional[1])\\\n",
    "    .when(F.col('proj_populacao') < 10_000, dict_faixa_populacional[2])\\\n",
    "    .when(F.col('proj_populacao') < 20_000, dict_faixa_populacional[3])\\\n",
    "    .when(F.col('proj_populacao') < 50_000, dict_faixa_populacional[4])\\\n",
    "    .when(F.col('proj_populacao') < 100_000, dict_faixa_populacional[5])\\\n",
    "    .when(F.col('proj_populacao') < 500_000, dict_faixa_populacional[6])\\\n",
    "    .otherwise('mais de 500000')\n",
    "    )\n",
    "\n",
    "df_gold.show(3)"
   ]
  },
  {
   "cell_type": "code",
   "execution_count": 17,
   "id": "caa66dcd",
   "metadata": {},
   "outputs": [
    {
     "name": "stdout",
     "output_type": "stream",
     "text": [
      "+---+--------+------------------+--------------+-----+-----+--------------------+--------------------+---------------------------+-----------+--------------------+--------------------+---------------------+--------------------+-----------------------+-------------------------+---------------------+---------------------+------------------+--------------------+---------+------------------+--------------------+------------------+---------------+-----------+------------+------------------+-------------+\n",
      "|mes|      uf|situacao_domicilio|proj_populacao|idade|  cor|        aulas_online|        escolaridade|foi_a_estabelecimento_saude|plano_saude|teste_resultado_swab|teste_resultado_furo|teste_resultado_braco|diagnostico_diabetes|diagnostico_hipertensao|diagnostico_respiratorias|diagnostico_cardiacas|diagnostico_depressao|diagnostico_cancer|    contato_reduzido|trabalhou|afastamento_motivo|     trabalho_funcao|rendimento_regular|rendimento_real|home_office|      regiao|faixa_populacional|teve_sintomas|\n",
      "+---+--------+------------------+--------------+-----+-----+--------------------+--------------------+---------------------------+-----------+--------------------+--------------------+---------------------+--------------------+-----------------------+-------------------------+---------------------+---------------------+------------------+--------------------+---------+------------------+--------------------+------------------+---------------+-----------+------------+------------------+-------------+\n",
      "| 10|Rondônia|            Urbana|        152790|   36|Parda|                NULL|      Médio completo|                       NULL|       true|                NULL|                NULL|                 NULL|               false|                  false|                    false|                false|                false|             false|Reduziu mas conti...|     true|              NULL|Secretária, recep...|       801 - 1.600|    801 - 1.600|       NULL|Centro-Oeste|   100000 - 500000|        false|\n",
      "| 10|Rondônia|            Urbana|        150739|   30|Parda|                NULL|   Superior completo|                       NULL|      false|                NULL|                NULL|                 NULL|               false|                  false|                    false|                false|                false|             false|Reduziu mas conti...|     true|              NULL|Balconista, vende...|       801 - 1.600|    801 - 1.600|       NULL|Centro-Oeste|   100000 - 500000|        false|\n",
      "| 10|Rondônia|            Urbana|        144993|   13|Parda|Sim, e realizou p...|Fundamental incom...|                       NULL|       true|                NULL|                NULL|                 NULL|               false|                  false|                    false|                false|                false|             false|Ficou rigorosamen...|     NULL|              NULL|                NULL|              NULL|           NULL|       NULL|Centro-Oeste|   100000 - 500000|        false|\n",
      "+---+--------+------------------+--------------+-----+-----+--------------------+--------------------+---------------------------+-----------+--------------------+--------------------+---------------------+--------------------+-----------------------+-------------------------+---------------------+---------------------+------------------+--------------------+---------+------------------+--------------------+------------------+---------------+-----------+------------+------------------+-------------+\n",
      "only showing top 3 rows\n",
      "\n"
     ]
    }
   ],
   "source": [
    "df_gold = df_gold.withColumn(\n",
    "    'teve_sintomas',\n",
    "    F.when(F.col('foi_a_estabelecimento_saude') == True, True)\\\n",
    "    .when(F.col('foi_a_estabelecimento_saude') == False, True)\\\n",
    "    .otherwise(False)\n",
    ")\n",
    "\n",
    "df_gold.show(3)"
   ]
  },
  {
   "cell_type": "code",
   "execution_count": 18,
   "id": "94701fb6",
   "metadata": {},
   "outputs": [
    {
     "name": "stdout",
     "output_type": "stream",
     "text": [
      "+---------------------------+-------------+\n",
      "|foi_a_estabelecimento_saude|teve_sintomas|\n",
      "+---------------------------+-------------+\n",
      "|                       true|         true|\n",
      "|                       true|         true|\n",
      "|                       true|         true|\n",
      "|                      false|         true|\n",
      "|                      false|         true|\n",
      "+---------------------------+-------------+\n",
      "\n"
     ]
    }
   ],
   "source": [
    "df_gold.createOrReplaceTempView('gold')\n",
    "\n",
    "spark.sql('''\n",
    "          SELECT foi_a_estabelecimento_saude, teve_sintomas from gold\n",
    "          WHERE foi_a_estabelecimento_saude IS true OR foi_a_estabelecimento_saude IS false\n",
    "          LIMIT 5\n",
    "          ''').show()"
   ]
  },
  {
   "cell_type": "code",
   "execution_count": 19,
   "id": "6a928e9f",
   "metadata": {},
   "outputs": [
    {
     "name": "stdout",
     "output_type": "stream",
     "text": [
      "+---+--------+------------------+--------------+-----+-----+--------------------+--------------------+---------------------------+-----------+--------------------+--------------------+---------------------+--------------------+-----------------------+-------------------------+---------------------+---------------------+------------------+--------------------+---------+------------------+--------------------+------------------+---------------+-----------+------------+------------------+-------------+-----------+\n",
      "|mes|      uf|situacao_domicilio|proj_populacao|idade|  cor|        aulas_online|        escolaridade|foi_a_estabelecimento_saude|plano_saude|teste_resultado_swab|teste_resultado_furo|teste_resultado_braco|diagnostico_diabetes|diagnostico_hipertensao|diagnostico_respiratorias|diagnostico_cardiacas|diagnostico_depressao|diagnostico_cancer|    contato_reduzido|trabalhou|afastamento_motivo|     trabalho_funcao|rendimento_regular|rendimento_real|home_office|      regiao|faixa_populacional|teve_sintomas|teste_feito|\n",
      "+---+--------+------------------+--------------+-----+-----+--------------------+--------------------+---------------------------+-----------+--------------------+--------------------+---------------------+--------------------+-----------------------+-------------------------+---------------------+---------------------+------------------+--------------------+---------+------------------+--------------------+------------------+---------------+-----------+------------+------------------+-------------+-----------+\n",
      "| 10|Rondônia|            Urbana|        152790|   36|Parda|                NULL|      Médio completo|                       NULL|       true|                NULL|                NULL|                 NULL|               false|                  false|                    false|                false|                false|             false|Reduziu mas conti...|     true|              NULL|Secretária, recep...|       801 - 1.600|    801 - 1.600|       NULL|Centro-Oeste|   100000 - 500000|        false|      false|\n",
      "| 10|Rondônia|            Urbana|        150739|   30|Parda|                NULL|   Superior completo|                       NULL|      false|                NULL|                NULL|                 NULL|               false|                  false|                    false|                false|                false|             false|Reduziu mas conti...|     true|              NULL|Balconista, vende...|       801 - 1.600|    801 - 1.600|       NULL|Centro-Oeste|   100000 - 500000|        false|      false|\n",
      "| 10|Rondônia|            Urbana|        144993|   13|Parda|Sim, e realizou p...|Fundamental incom...|                       NULL|       true|                NULL|                NULL|                 NULL|               false|                  false|                    false|                false|                false|             false|Ficou rigorosamen...|     NULL|              NULL|                NULL|              NULL|           NULL|       NULL|Centro-Oeste|   100000 - 500000|        false|      false|\n",
      "+---+--------+------------------+--------------+-----+-----+--------------------+--------------------+---------------------------+-----------+--------------------+--------------------+---------------------+--------------------+-----------------------+-------------------------+---------------------+---------------------+------------------+--------------------+---------+------------------+--------------------+------------------+---------------+-----------+------------+------------------+-------------+-----------+\n",
      "only showing top 3 rows\n",
      "\n"
     ]
    }
   ],
   "source": [
    "df_gold = df_gold.withColumn(\n",
    "    'teste_feito',\n",
    "    F.when(F.col('teste_resultado_swab').isNull(), False)\\\n",
    "    .when(F.col('teste_resultado_furo').isNull(), False)\\\n",
    "    .when(F.col('teste_resultado_braco').isNull(), False)\\\n",
    "    .otherwise(True)\n",
    ")\n",
    "\n",
    "df_gold.show(3)"
   ]
  },
  {
   "cell_type": "code",
   "execution_count": 20,
   "id": "abf305dc",
   "metadata": {},
   "outputs": [
    {
     "name": "stdout",
     "output_type": "stream",
     "text": [
      "+--------------------+--------------------+---------------------+-----------+\n",
      "|teste_resultado_swab|teste_resultado_furo|teste_resultado_braco|teste_feito|\n",
      "+--------------------+--------------------+---------------------+-----------+\n",
      "|            Positivo|            Negativo|             Positivo|       true|\n",
      "|            Positivo|            Positivo|             Positivo|       true|\n",
      "|            Negativo|            Negativo|             Negativo|       true|\n",
      "+--------------------+--------------------+---------------------+-----------+\n",
      "only showing top 3 rows\n",
      "\n"
     ]
    }
   ],
   "source": [
    "df_gold.createOrReplaceTempView('gold')\n",
    "\n",
    "spark.sql('''\n",
    "          SELECT teste_resultado_swab, teste_resultado_furo, teste_resultado_braco, teste_feito FROM gold\n",
    "          WHERE teste_feito = True\n",
    "          LIMIT 10\n",
    "          ''').show(3)"
   ]
  },
  {
   "cell_type": "code",
   "execution_count": 21,
   "id": "3720b38d",
   "metadata": {},
   "outputs": [
    {
     "name": "stdout",
     "output_type": "stream",
     "text": [
      "+---+--------+------------------+--------------+-----+-----+--------------------+--------------------+---------------------------+-----------+--------------------+--------------------+---------------------+--------------------+-----------------------+-------------------------+---------------------+---------------------+------------------+--------------------+---------+------------------+--------------------+------------------+---------------+-----------+------------+------------------+-------------+-----------+--------------+\n",
      "|mes|      uf|situacao_domicilio|proj_populacao|idade|  cor|        aulas_online|        escolaridade|foi_a_estabelecimento_saude|plano_saude|teste_resultado_swab|teste_resultado_furo|teste_resultado_braco|diagnostico_diabetes|diagnostico_hipertensao|diagnostico_respiratorias|diagnostico_cardiacas|diagnostico_depressao|diagnostico_cancer|    contato_reduzido|trabalhou|afastamento_motivo|     trabalho_funcao|rendimento_regular|rendimento_real|home_office|      regiao|faixa_populacional|teve_sintomas|teste_feito|teste_positivo|\n",
      "+---+--------+------------------+--------------+-----+-----+--------------------+--------------------+---------------------------+-----------+--------------------+--------------------+---------------------+--------------------+-----------------------+-------------------------+---------------------+---------------------+------------------+--------------------+---------+------------------+--------------------+------------------+---------------+-----------+------------+------------------+-------------+-----------+--------------+\n",
      "| 10|Rondônia|            Urbana|        152790|   36|Parda|                NULL|      Médio completo|                       NULL|       true|                NULL|                NULL|                 NULL|               false|                  false|                    false|                false|                false|             false|Reduziu mas conti...|     true|              NULL|Secretária, recep...|       801 - 1.600|    801 - 1.600|       NULL|Centro-Oeste|   100000 - 500000|        false|      false|         false|\n",
      "| 10|Rondônia|            Urbana|        150739|   30|Parda|                NULL|   Superior completo|                       NULL|      false|                NULL|                NULL|                 NULL|               false|                  false|                    false|                false|                false|             false|Reduziu mas conti...|     true|              NULL|Balconista, vende...|       801 - 1.600|    801 - 1.600|       NULL|Centro-Oeste|   100000 - 500000|        false|      false|         false|\n",
      "| 10|Rondônia|            Urbana|        144993|   13|Parda|Sim, e realizou p...|Fundamental incom...|                       NULL|       true|                NULL|                NULL|                 NULL|               false|                  false|                    false|                false|                false|             false|Ficou rigorosamen...|     NULL|              NULL|                NULL|              NULL|           NULL|       NULL|Centro-Oeste|   100000 - 500000|        false|      false|         false|\n",
      "+---+--------+------------------+--------------+-----+-----+--------------------+--------------------+---------------------------+-----------+--------------------+--------------------+---------------------+--------------------+-----------------------+-------------------------+---------------------+---------------------+------------------+--------------------+---------+------------------+--------------------+------------------+---------------+-----------+------------+------------------+-------------+-----------+--------------+\n",
      "only showing top 3 rows\n",
      "\n"
     ]
    }
   ],
   "source": [
    "df_gold = df_gold.withColumn(\n",
    "    'teste_positivo',\n",
    "    F.when(F.col('teste_resultado_swab') == 'Positivo', True)\\\n",
    "    .when(F.col('teste_resultado_furo') == 'Positivo', True)\\\n",
    "    .when(F.col('teste_resultado_braco') == 'Positivo',True)\\\n",
    "    .otherwise(False)\n",
    "    )\n",
    "\n",
    "df_gold.show(3)"
   ]
  },
  {
   "cell_type": "code",
   "execution_count": 22,
   "id": "909678a5",
   "metadata": {},
   "outputs": [
    {
     "name": "stdout",
     "output_type": "stream",
     "text": [
      "+--------------+-----------+\n",
      "|teste_positivo|teste_feito|\n",
      "+--------------+-----------+\n",
      "|          true|       true|\n",
      "|          true|      false|\n",
      "|          true|      false|\n",
      "|          true|      false|\n",
      "|          true|      false|\n",
      "|          true|      false|\n",
      "|          true|       true|\n",
      "|          true|      false|\n",
      "|          true|      false|\n",
      "|          true|      false|\n",
      "+--------------+-----------+\n",
      "\n"
     ]
    }
   ],
   "source": [
    "df_gold.createOrReplaceTempView('gold')\n",
    "\n",
    "spark.sql('''\n",
    "          SELECT teste_positivo, teste_feito FROM gold\n",
    "          WHERE teste_resultado_swab = 'Positivo' OR teste_resultado_furo = 'Positivo' OR teste_resultado_braco = 'Positivo'\n",
    "          LIMIT 10\n",
    "          ''').show()"
   ]
  },
  {
   "cell_type": "code",
   "execution_count": 23,
   "id": "416a041a",
   "metadata": {},
   "outputs": [
    {
     "name": "stdout",
     "output_type": "stream",
     "text": [
      "+---+--------+------------------+--------------+-----+-----+--------------------+--------------------+---------------------------+-----------+--------------------+-----------------------+-------------------------+---------------------+---------------------+------------------+--------------------+---------+------------------+--------------------+------------------+---------------+-----------+------------+------------------+-------------+-----------+--------------+\n",
      "|mes|      uf|situacao_domicilio|proj_populacao|idade|  cor|        aulas_online|        escolaridade|foi_a_estabelecimento_saude|plano_saude|diagnostico_diabetes|diagnostico_hipertensao|diagnostico_respiratorias|diagnostico_cardiacas|diagnostico_depressao|diagnostico_cancer|    contato_reduzido|trabalhou|afastamento_motivo|     trabalho_funcao|rendimento_regular|rendimento_real|home_office|      regiao|faixa_populacional|teve_sintomas|teste_feito|teste_positivo|\n",
      "+---+--------+------------------+--------------+-----+-----+--------------------+--------------------+---------------------------+-----------+--------------------+-----------------------+-------------------------+---------------------+---------------------+------------------+--------------------+---------+------------------+--------------------+------------------+---------------+-----------+------------+------------------+-------------+-----------+--------------+\n",
      "| 10|Rondônia|            Urbana|        152790|   36|Parda|                NULL|      Médio completo|                       NULL|       true|               false|                  false|                    false|                false|                false|             false|Reduziu mas conti...|     true|              NULL|Secretária, recep...|       801 - 1.600|    801 - 1.600|       NULL|Centro-Oeste|   100000 - 500000|        false|      false|         false|\n",
      "| 10|Rondônia|            Urbana|        150739|   30|Parda|                NULL|   Superior completo|                       NULL|      false|               false|                  false|                    false|                false|                false|             false|Reduziu mas conti...|     true|              NULL|Balconista, vende...|       801 - 1.600|    801 - 1.600|       NULL|Centro-Oeste|   100000 - 500000|        false|      false|         false|\n",
      "| 10|Rondônia|            Urbana|        144993|   13|Parda|Sim, e realizou p...|Fundamental incom...|                       NULL|       true|               false|                  false|                    false|                false|                false|             false|Ficou rigorosamen...|     NULL|              NULL|                NULL|              NULL|           NULL|       NULL|Centro-Oeste|   100000 - 500000|        false|      false|         false|\n",
      "+---+--------+------------------+--------------+-----+-----+--------------------+--------------------+---------------------------+-----------+--------------------+-----------------------+-------------------------+---------------------+---------------------+------------------+--------------------+---------+------------------+--------------------+------------------+---------------+-----------+------------+------------------+-------------+-----------+--------------+\n",
      "only showing top 3 rows\n",
      "\n"
     ]
    }
   ],
   "source": [
    "df_gold = df_gold.drop(\n",
    "    *['teste_resultado_swab', 'teste_resultado_furo', 'teste_resultado_braco']\n",
    ")\n",
    "\n",
    "df_gold.show(3)"
   ]
  },
  {
   "cell_type": "code",
   "execution_count": 24,
   "id": "80e74cb7",
   "metadata": {},
   "outputs": [
    {
     "name": "stdout",
     "output_type": "stream",
     "text": [
      "+---+--------+------------------+--------------+-----+-----+--------------------+--------------------+---------------------------+-----------+--------------------+-----------------------+-------------------------+---------------------+---------------------+------------------+--------------------+---------+------------------+--------------------+------------------+---------------+-----------+------------+------------------+-------------+-----------+--------------+--------------------+\n",
      "|mes|      uf|situacao_domicilio|proj_populacao|idade|  cor|        aulas_online|        escolaridade|foi_a_estabelecimento_saude|plano_saude|diagnostico_diabetes|diagnostico_hipertensao|diagnostico_respiratorias|diagnostico_cardiacas|diagnostico_depressao|diagnostico_cancer|    contato_reduzido|trabalhou|afastamento_motivo|     trabalho_funcao|rendimento_regular|rendimento_real|home_office|      regiao|faixa_populacional|teve_sintomas|teste_feito|teste_positivo|afastamento_trabalho|\n",
      "+---+--------+------------------+--------------+-----+-----+--------------------+--------------------+---------------------------+-----------+--------------------+-----------------------+-------------------------+---------------------+---------------------+------------------+--------------------+---------+------------------+--------------------+------------------+---------------+-----------+------------+------------------+-------------+-----------+--------------+--------------------+\n",
      "| 10|Rondônia|            Urbana|        152790|   36|Parda|                NULL|      Médio completo|                       NULL|       true|               false|                  false|                    false|                false|                false|             false|Reduziu mas conti...|     true|              NULL|Secretária, recep...|       801 - 1.600|    801 - 1.600|       NULL|Centro-Oeste|   100000 - 500000|        false|      false|         false|               false|\n",
      "| 10|Rondônia|            Urbana|        150739|   30|Parda|                NULL|   Superior completo|                       NULL|      false|               false|                  false|                    false|                false|                false|             false|Reduziu mas conti...|     true|              NULL|Balconista, vende...|       801 - 1.600|    801 - 1.600|       NULL|Centro-Oeste|   100000 - 500000|        false|      false|         false|               false|\n",
      "| 10|Rondônia|            Urbana|        144993|   13|Parda|Sim, e realizou p...|Fundamental incom...|                       NULL|       true|               false|                  false|                    false|                false|                false|             false|Ficou rigorosamen...|     NULL|              NULL|                NULL|              NULL|           NULL|       NULL|Centro-Oeste|   100000 - 500000|        false|      false|         false|               false|\n",
      "+---+--------+------------------+--------------+-----+-----+--------------------+--------------------+---------------------------+-----------+--------------------+-----------------------+-------------------------+---------------------+---------------------+------------------+--------------------+---------+------------------+--------------------+------------------+---------------+-----------+------------+------------------+-------------+-----------+--------------+--------------------+\n",
      "only showing top 3 rows\n",
      "\n"
     ]
    }
   ],
   "source": [
    "df_gold = df_gold.withColumn(\n",
    "    'afastamento_trabalho',\n",
    "    F.when(F.col('afastamento_motivo').isNull(), False).otherwise(True)\n",
    ")\n",
    "\n",
    "df_gold.show(3)"
   ]
  },
  {
   "cell_type": "code",
   "execution_count": 25,
   "id": "5c2f0896",
   "metadata": {},
   "outputs": [
    {
     "name": "stdout",
     "output_type": "stream",
     "text": [
      "+---+--------+------------------+--------------+-----+------+--------------------+--------------------+---------------------------+-----------+--------------------+-----------------------+-------------------------+---------------------+---------------------+------------------+--------------------+---------+------------------+--------------------+------------------+---------------+-----------+------------+------------------+-------------+-----------+--------------+--------------------+--------+\n",
      "|mes|      uf|situacao_domicilio|proj_populacao|idade|   cor|        aulas_online|        escolaridade|foi_a_estabelecimento_saude|plano_saude|diagnostico_diabetes|diagnostico_hipertensao|diagnostico_respiratorias|diagnostico_cardiacas|diagnostico_depressao|diagnostico_cancer|    contato_reduzido|trabalhou|afastamento_motivo|     trabalho_funcao|rendimento_regular|rendimento_real|home_office|      regiao|faixa_populacional|teve_sintomas|teste_feito|teste_positivo|afastamento_trabalho|acima_14|\n",
      "+---+--------+------------------+--------------+-----+------+--------------------+--------------------+---------------------------+-----------+--------------------+-----------------------+-------------------------+---------------------+---------------------+------------------+--------------------+---------+------------------+--------------------+------------------+---------------+-----------+------------+------------------+-------------+-----------+--------------+--------------------+--------+\n",
      "| 10|Rondônia|            Urbana|        152790|   36| Parda|                NULL|      Médio completo|                       NULL|       true|               false|                  false|                    false|                false|                false|             false|Reduziu mas conti...|     true|              NULL|Secretária, recep...|       801 - 1.600|    801 - 1.600|       NULL|Centro-Oeste|   100000 - 500000|        false|      false|         false|               false|    true|\n",
      "| 10|Rondônia|            Urbana|        150739|   30| Parda|                NULL|   Superior completo|                       NULL|      false|               false|                  false|                    false|                false|                false|             false|Reduziu mas conti...|     true|              NULL|Balconista, vende...|       801 - 1.600|    801 - 1.600|       NULL|Centro-Oeste|   100000 - 500000|        false|      false|         false|               false|    true|\n",
      "| 10|Rondônia|            Urbana|        144993|   13| Parda|Sim, e realizou p...|Fundamental incom...|                       NULL|       true|               false|                  false|                    false|                false|                false|             false|Ficou rigorosamen...|     NULL|              NULL|                NULL|              NULL|           NULL|       NULL|Centro-Oeste|   100000 - 500000|        false|      false|         false|               false|   false|\n",
      "| 10|Rondônia|            Urbana|        144993|   11| Parda|Sim, e realizou p...|Fundamental incom...|                       NULL|       true|               false|                  false|                    false|                false|                false|             false|Ficou rigorosamen...|     NULL|              NULL|                NULL|              NULL|           NULL|       NULL|Centro-Oeste|   100000 - 500000|        false|      false|         false|               false|   false|\n",
      "| 10|Rondônia|            Urbana|         92130|   57|Branca|                NULL|Fundamental incom...|                       NULL|      false|               false|                  false|                    false|                false|                false|             false|Só saiu em caso d...|    false|              NULL|                NULL|              NULL|           NULL|       NULL|Centro-Oeste|    50000 - 100000|        false|      false|         false|               false|    true|\n",
      "+---+--------+------------------+--------------+-----+------+--------------------+--------------------+---------------------------+-----------+--------------------+-----------------------+-------------------------+---------------------+---------------------+------------------+--------------------+---------+------------------+--------------------+------------------+---------------+-----------+------------+------------------+-------------+-----------+--------------+--------------------+--------+\n",
      "only showing top 5 rows\n",
      "\n"
     ]
    }
   ],
   "source": [
    "df_gold = df_gold.withColumn(\n",
    "    'acima_14',\n",
    "    F.when(F.col('idade') >= 14, True).otherwise(False)\n",
    ")\n",
    "\n",
    "df_gold.show(5)"
   ]
  },
  {
   "cell_type": "code",
   "execution_count": 26,
   "id": "5cb22855",
   "metadata": {},
   "outputs": [
    {
     "name": "stdout",
     "output_type": "stream",
     "text": [
      "+---+--------+------------------+--------------+-----+-------+--------------------+--------------------+---------------------------+-----------+--------------------+-----------------------+-------------------------+---------------------+---------------------+------------------+--------------------+---------+------------------+--------------------+------------------+---------------+-----------+------------+------------------+-------------+-----------+--------------+--------------------+--------+----------------+\n",
      "|mes|      uf|situacao_domicilio|proj_populacao|idade|    cor|        aulas_online|        escolaridade|foi_a_estabelecimento_saude|plano_saude|diagnostico_diabetes|diagnostico_hipertensao|diagnostico_respiratorias|diagnostico_cardiacas|diagnostico_depressao|diagnostico_cancer|    contato_reduzido|trabalhou|afastamento_motivo|     trabalho_funcao|rendimento_regular|rendimento_real|home_office|      regiao|faixa_populacional|teve_sintomas|teste_feito|teste_positivo|afastamento_trabalho|acima_14|rendimento_mudou|\n",
      "+---+--------+------------------+--------------+-----+-------+--------------------+--------------------+---------------------------+-----------+--------------------+-----------------------+-------------------------+---------------------+---------------------+------------------+--------------------+---------+------------------+--------------------+------------------+---------------+-----------+------------+------------------+-------------+-----------+--------------+--------------------+--------+----------------+\n",
      "| 10|Rondônia|            Urbana|        152790|   36|  Parda|                NULL|      Médio completo|                       NULL|       true|               false|                  false|                    false|                false|                false|             false|Reduziu mas conti...|     true|              NULL|Secretária, recep...|       801 - 1.600|    801 - 1.600|       NULL|Centro-Oeste|   100000 - 500000|        false|      false|         false|               false|    true|           false|\n",
      "| 10|Rondônia|            Urbana|        150739|   30|  Parda|                NULL|   Superior completo|                       NULL|      false|               false|                  false|                    false|                false|                false|             false|Reduziu mas conti...|     true|              NULL|Balconista, vende...|       801 - 1.600|    801 - 1.600|       NULL|Centro-Oeste|   100000 - 500000|        false|      false|         false|               false|    true|           false|\n",
      "| 10|Rondônia|            Urbana|        144993|   13|  Parda|Sim, e realizou p...|Fundamental incom...|                       NULL|       true|               false|                  false|                    false|                false|                false|             false|Ficou rigorosamen...|     NULL|              NULL|                NULL|              NULL|           NULL|       NULL|Centro-Oeste|   100000 - 500000|        false|      false|         false|               false|   false|           false|\n",
      "| 10|Rondônia|            Urbana|        144993|   11|  Parda|Sim, e realizou p...|Fundamental incom...|                       NULL|       true|               false|                  false|                    false|                false|                false|             false|Ficou rigorosamen...|     NULL|              NULL|                NULL|              NULL|           NULL|       NULL|Centro-Oeste|   100000 - 500000|        false|      false|         false|               false|   false|           false|\n",
      "| 10|Rondônia|            Urbana|         92130|   57| Branca|                NULL|Fundamental incom...|                       NULL|      false|               false|                  false|                    false|                false|                false|             false|Só saiu em caso d...|    false|              NULL|                NULL|              NULL|           NULL|       NULL|Centro-Oeste|    50000 - 100000|        false|      false|         false|               false|    true|           false|\n",
      "| 10|Rondônia|            Urbana|         92130|   58|  Preta|                NULL|       Sem instrução|                       NULL|      false|                true|                   true|                    false|                false|                false|             false|Só saiu em caso d...|     true|              NULL|Balconista, vende...|         101 - 300|        0 - 100|       NULL|Centro-Oeste|    50000 - 100000|        false|      false|         false|               false|    true|            true|\n",
      "| 10|Rondônia|            Urbana|        123486|   47|  Parda|                NULL|Fundamental incom...|                       NULL|      false|               false|                  false|                    false|                false|                false|             false|Reduziu mas conti...|     true|              NULL|Balconista, vende...|       801 - 1.600|      301 - 600|       NULL|Centro-Oeste|   100000 - 500000|        false|      false|         false|               false|    true|            true|\n",
      "| 10|Rondônia|            Urbana|        138815|   18|  Parda|                NULL|Fundamental incom...|                       NULL|      false|               false|                  false|                    false|                false|                false|             false|Só saiu em caso d...|    false|              NULL|                NULL|              NULL|           NULL|       NULL|Centro-Oeste|   100000 - 500000|        false|      false|         false|               false|    true|           false|\n",
      "| 10|Rondônia|            Urbana|        144993|   11|  Parda|        Não (férias)|Fundamental incom...|                       NULL|      false|               false|                  false|                    false|                false|                false|             false|Ficou rigorosamen...|     NULL|              NULL|                NULL|              NULL|           NULL|       NULL|Centro-Oeste|   100000 - 500000|        false|      false|         false|               false|   false|           false|\n",
      "| 10|Rondônia|            Urbana|        134141|    9|  Parda|        Não (férias)|Fundamental incom...|                       NULL|      false|               false|                  false|                    false|                false|                false|             false|Ficou rigorosamen...|     NULL|              NULL|                NULL|              NULL|           NULL|       NULL|Centro-Oeste|   100000 - 500000|        false|      false|         false|               false|   false|           false|\n",
      "| 10|Rondônia|            Urbana|        144993|   10|  Parda|        Não (férias)|Fundamental incom...|                       NULL|      false|               false|                  false|                    false|                false|                false|             false|Ficou rigorosamen...|     NULL|              NULL|                NULL|              NULL|           NULL|       NULL|Centro-Oeste|   100000 - 500000|        false|      false|         false|               false|   false|           false|\n",
      "| 10|Rondônia|            Urbana|        157583|   26|  Parda|                NULL|      Médio completo|                       NULL|      false|               false|                  false|                    false|                false|                false|             false|Reduziu mas conti...|     true|              NULL|Balconista, vende...|       801 - 1.600|      301 - 600|       NULL|Centro-Oeste|   100000 - 500000|        false|      false|         false|               false|    true|            true|\n",
      "| 10|Rondônia|            Urbana|        144993|   14|Amarela|        Não (férias)|Fundamental incom...|                       NULL|      false|               false|                  false|                    false|                false|                false|             false|Ficou rigorosamen...|    false|              NULL|                NULL|              NULL|           NULL|       NULL|Centro-Oeste|   100000 - 500000|        false|      false|         false|               false|    true|           false|\n",
      "| 10|Rondônia|            Urbana|        138815|   15|  Parda|        Não (férias)|Fundamental incom...|                       NULL|      false|               false|                  false|                    false|                false|                false|             false|Ficou rigorosamen...|    false|              NULL|                NULL|              NULL|           NULL|       NULL|Centro-Oeste|   100000 - 500000|        false|      false|         false|               false|    true|           false|\n",
      "| 10|Rondônia|            Urbana|        150739|   33|  Parda|                NULL|Fundamental incom...|                       NULL|      false|               false|                  false|                    false|                false|                false|             false|Só saiu em caso d...|    false|              NULL|                NULL|              NULL|           NULL|       NULL|Centro-Oeste|   100000 - 500000|        false|      false|         false|               false|    true|           false|\n",
      "| 10|Rondônia|            Urbana|         56746|   62|  Parda|                NULL|       Sem instrução|                       NULL|      false|               false|                  false|                    false|                false|                false|             false|Reduziu mas conti...|     true|              NULL|Balconista, vende...|       801 - 1.600|    801 - 1.600|       NULL|Centro-Oeste|    50000 - 100000|        false|      false|         false|               false|    true|           false|\n",
      "| 10|Rondônia|            Urbana|         55581|   62|  Parda|                NULL|Fundamental incom...|                       NULL|      false|               false|                  false|                    false|                false|                false|             false|Reduziu mas conti...|    false|              NULL|                NULL|              NULL|           NULL|       NULL|Centro-Oeste|    50000 - 100000|        false|      false|         false|               false|    true|           false|\n",
      "| 10|Rondônia|            Urbana|        152790|   34|  Parda|                NULL|      Médio completo|                       NULL|      false|               false|                  false|                    false|                false|                false|             false|Reduziu mas conti...|     true|              NULL|Secretária, recep...|       801 - 1.600|    801 - 1.600|       NULL|Centro-Oeste|   100000 - 500000|        false|      false|         false|               false|    true|           false|\n",
      "| 10|Rondônia|            Urbana|        154378|   26|  Parda|                NULL| Superior incompleto|                       NULL|      false|               false|                  false|                    false|                false|                false|             false|Reduziu mas conti...|     true|              NULL|Secretária, recep...|       801 - 1.600|    801 - 1.600|       NULL|Centro-Oeste|   100000 - 500000|        false|      false|         false|               false|    true|           false|\n",
      "| 10|Rondônia|            Urbana|        123486|   44|  Parda|                NULL|   Superior completo|                       NULL|      false|               false|                  false|                    false|                false|                false|             false|Reduziu mas conti...|     true|              NULL|Operador de Telem...|    3.001 - 10.000| 3.001 - 10.000|       NULL|Centro-Oeste|   100000 - 500000|        false|      false|         false|               false|    true|           false|\n",
      "+---+--------+------------------+--------------+-----+-------+--------------------+--------------------+---------------------------+-----------+--------------------+-----------------------+-------------------------+---------------------+---------------------+------------------+--------------------+---------+------------------+--------------------+------------------+---------------+-----------+------------+------------------+-------------+-----------+--------------+--------------------+--------+----------------+\n",
      "only showing top 20 rows\n",
      "\n"
     ]
    }
   ],
   "source": [
    "df_gold = df_gold.withColumn(\n",
    "    'rendimento_mudou',\n",
    "    F.when(F.col('rendimento_regular') == F.col('rendimento_real'), False)\\\n",
    "    .when(F.col('rendimento_regular').isNull(), False)\\\n",
    "    .when(F.col('rendimento_real').isNull(), False).otherwise(True)\n",
    ")\n",
    "\n",
    "df_gold.show()"
   ]
  },
  {
   "cell_type": "code",
   "execution_count": 27,
   "id": "50eea684",
   "metadata": {},
   "outputs": [
    {
     "name": "stdout",
     "output_type": "stream",
     "text": [
      "+-----+--------------+------------------+\n",
      "|   uf|proj_populacao|faixa_populacional|\n",
      "+-----+--------------+------------------+\n",
      "|Goiás|        587542|    mais de 500000|\n",
      "|Goiás|        599475|    mais de 500000|\n",
      "|Goiás|        239508|   100000 - 500000|\n",
      "|Goiás|        528915|    mais de 500000|\n",
      "|Goiás|        517112|    mais de 500000|\n",
      "|Goiás|        507076|    mais de 500000|\n",
      "|Goiás|        528915|    mais de 500000|\n",
      "|Goiás|        202436|   100000 - 500000|\n",
      "|Goiás|        202436|   100000 - 500000|\n",
      "|Goiás|        384624|   100000 - 500000|\n",
      "|Goiás|        579484|    mais de 500000|\n",
      "|Goiás|        587542|    mais de 500000|\n",
      "|Goiás|        411955|   100000 - 500000|\n",
      "|Goiás|        587542|    mais de 500000|\n",
      "|Goiás|        528915|    mais de 500000|\n",
      "|Goiás|        579484|    mais de 500000|\n",
      "|Goiás|        587542|    mais de 500000|\n",
      "|Goiás|        517112|    mais de 500000|\n",
      "|Goiás|        528898|    mais de 500000|\n",
      "|Goiás|        602264|    mais de 500000|\n",
      "+-----+--------------+------------------+\n",
      "only showing top 20 rows\n",
      "\n"
     ]
    }
   ],
   "source": [
    "spark.sql('''\n",
    "    SELECT uf, proj_populacao, faixa_populacional FROM gold\n",
    "    WHERE uf = 'Goiás'\n",
    "''').show()"
   ]
  },
  {
   "cell_type": "code",
   "execution_count": 28,
   "id": "e4fb1c02",
   "metadata": {},
   "outputs": [
    {
     "name": "stdout",
     "output_type": "stream",
     "text": [
      "root\n",
      " |-- mes: integer (nullable = true)\n",
      " |-- uf: string (nullable = true)\n",
      " |-- situacao_domicilio: string (nullable = true)\n",
      " |-- proj_populacao: integer (nullable = true)\n",
      " |-- idade: integer (nullable = true)\n",
      " |-- cor: string (nullable = true)\n",
      " |-- aulas_online: string (nullable = true)\n",
      " |-- escolaridade: string (nullable = true)\n",
      " |-- foi_a_estabelecimento_saude: boolean (nullable = true)\n",
      " |-- plano_saude: boolean (nullable = true)\n",
      " |-- diagnostico_diabetes: boolean (nullable = true)\n",
      " |-- diagnostico_hipertensao: boolean (nullable = true)\n",
      " |-- diagnostico_respiratorias: boolean (nullable = true)\n",
      " |-- diagnostico_cardiacas: boolean (nullable = true)\n",
      " |-- diagnostico_depressao: boolean (nullable = true)\n",
      " |-- diagnostico_cancer: boolean (nullable = true)\n",
      " |-- contato_reduzido: string (nullable = true)\n",
      " |-- trabalhou: boolean (nullable = true)\n",
      " |-- afastamento_motivo: string (nullable = true)\n",
      " |-- trabalho_funcao: string (nullable = true)\n",
      " |-- rendimento_regular: string (nullable = true)\n",
      " |-- rendimento_real: string (nullable = true)\n",
      " |-- home_office: boolean (nullable = true)\n",
      " |-- regiao: string (nullable = false)\n",
      " |-- faixa_populacional: string (nullable = false)\n",
      " |-- teve_sintomas: boolean (nullable = false)\n",
      " |-- teste_feito: boolean (nullable = false)\n",
      " |-- teste_positivo: boolean (nullable = false)\n",
      " |-- afastamento_trabalho: boolean (nullable = false)\n",
      " |-- acima_14: boolean (nullable = false)\n",
      " |-- rendimento_mudou: boolean (nullable = false)\n",
      "\n"
     ]
    }
   ],
   "source": [
    "df_gold.printSchema()"
   ]
  },
  {
   "cell_type": "code",
   "execution_count": 16,
   "id": "21a05e7b",
   "metadata": {},
   "outputs": [
    {
     "name": "stdout",
     "output_type": "stream",
     "text": [
      "1149197\n",
      "+------------+------------------+--------------+-----+------+------------+--------------------+---------------------------+-----------+--------------------+-----------------------+-------------------------+---------------------+---------------------+------------------+--------------------+---------+------------------+--------------------+------------------+---------------+-----------+------------+------------------+-------------+-----------+--------------+--------------------+--------+----------------+---+\n",
      "|          uf|situacao_domicilio|proj_populacao|idade|   cor|aulas_online|        escolaridade|foi_a_estabelecimento_saude|plano_saude|diagnostico_diabetes|diagnostico_hipertensao|diagnostico_respiratorias|diagnostico_cardiacas|diagnostico_depressao|diagnostico_cancer|    contato_reduzido|trabalhou|afastamento_motivo|     trabalho_funcao|rendimento_regular|rendimento_real|home_office|      regiao|faixa_populacional|teve_sintomas|teste_feito|teste_positivo|afastamento_trabalho|acima_14|rendimento_mudou|mes|\n",
      "+------------+------------------+--------------+-----+------+------------+--------------------+---------------------------+-----------+--------------------+-----------------------+-------------------------+---------------------+---------------------+------------------+--------------------+---------+------------------+--------------------+------------------+---------------+-----------+------------+------------------+-------------+-----------+--------------+--------------------+--------+----------------+---+\n",
      "|    Rondônia|            Urbana|        152677|   36| Parda|        NULL|      Médio completo|                       NULL|       true|               false|                  false|                    false|                false|                false|             false|Reduziu mas conti...|     true|              NULL|Secretária, recep...|       801 - 1.600|    801 - 1.600|       NULL|Centro-Oeste|   100000 - 500000|        false|      false|         false|               false|    true|           false|  9|\n",
      "|Minas Gerais|            Urbana|       1703265|   39|Branca|        NULL|Pós-graduação, me...|                      false|       true|               false|                  false|                    false|                false|                false|              true|Reduziu mas conti...|    false|              NULL|                NULL|              NULL|           NULL|       NULL|Centro-Oeste|    mais de 500000|         true|      false|         false|               false|    true|           false|  9|\n",
      "|    Rondônia|            Urbana|        150642|   30| Parda|        NULL|   Superior completo|                       NULL|      false|               false|                  false|                    false|                false|                false|             false|Reduziu mas conti...|     true|              NULL|Balconista, vende...|       801 - 1.600|    801 - 1.600|       NULL|Centro-Oeste|   100000 - 500000|        false|      false|         false|               false|    true|           false|  9|\n",
      "+------------+------------------+--------------+-----+------+------------+--------------------+---------------------------+-----------+--------------------+-----------------------+-------------------------+---------------------+---------------------+------------------+--------------------+---------+------------------+--------------------+------------------+---------------+-----------+------------+------------------+-------------+-----------+--------------+--------------------+--------+----------------+---+\n",
      "only showing top 3 rows\n",
      "\n"
     ]
    }
   ],
   "source": [
    "df_gold = spark.read.parquet(LOCAL_GOLD)\n",
    "\n",
    "print(df_gold.count())\n",
    "df_gold.show(3)"
   ]
  },
  {
   "cell_type": "markdown",
   "id": "47061860",
   "metadata": {},
   "source": [
    "## Exportando nossa camada Gold e a jogando na nuvem"
   ]
  },
  {
   "cell_type": "code",
   "execution_count": 29,
   "id": "f1ef1bc9",
   "metadata": {},
   "outputs": [],
   "source": [
    "df_gold.write.partitionBy('mes').parquet('local/gold/gold.parquet')"
   ]
  },
  {
   "cell_type": "code",
   "execution_count": null,
   "id": "6ff14402",
   "metadata": {},
   "outputs": [],
   "source": [
    "for root, folders, files in os.walk(f'{LOCAL_GOLD}'):\n",
    "    for file in files:\n",
    "        if file.endswith('.parquet'):\n",
    "            file_path = os.path.join(root, file)\n",
    "            print(f'Attempting to upload {file_path}')\n",
    "            try:\n",
    "                upload_to_s3(\n",
    "                    file_path,\n",
    "                    BUCKET,\n",
    "                    f'{GOLD}/{file}')\n",
    "            except Exception as e:\n",
    "                print(f'Failed to upload | {e}')"
   ]
  },
  {
   "cell_type": "markdown",
   "id": "4dadfb75",
   "metadata": {},
   "source": [
    "## Conectando com o PostgreSQL"
   ]
  },
  {
   "cell_type": "code",
   "execution_count": 11,
   "id": "7a434d0a",
   "metadata": {},
   "outputs": [],
   "source": [
    "usuario = 'postgres'\n",
    "senha = ''\n",
    "with open('./ignore/postgresql-pw') as f:\n",
    "    senha = f.read()\n",
    "host = 'bd-relacional.circagi8eu0o.us-east-1.rds.amazonaws.com'\n",
    "porta = 5432\n",
    "banco = 'postgres'\n",
    "\n",
    "engine = create_engine(f\"postgresql+psycopg2://{usuario}:{senha}@{host}:{porta}/{banco}\")\n"
   ]
  },
  {
   "cell_type": "code",
   "execution_count": 12,
   "id": "b85c65df",
   "metadata": {},
   "outputs": [],
   "source": [
    "def test_connection(engine):\n",
    "    try:\n",
    "        with engine.connect() as connection:\n",
    "            # Testa a versão do PostgreSQL\n",
    "            result = connection.execute(text(\"SELECT version();\"))\n",
    "            versao = result.fetchone()\n",
    "            print(\"✅ Conectado com sucesso:\", versao[0])\n",
    "\n",
    "            # Lista as tabelas no schema público\n",
    "            result = connection.execute(text(\"\"\"\n",
    "                SELECT table_name\n",
    "                FROM information_schema.tables\n",
    "                WHERE table_schema = 'public';\n",
    "            \"\"\"))\n",
    "            tabelas = result.fetchall()\n",
    "            print(\"📄 Tabelas no banco:\")\n",
    "            for tabela in tabelas:\n",
    "                print(\"  -\", tabela[0])\n",
    "\n",
    "    except Exception as e:\n",
    "        print(\"❌ Erro ao executar comandos:\", e)\n"
   ]
  },
  {
   "cell_type": "code",
   "execution_count": 13,
   "id": "221766bc",
   "metadata": {},
   "outputs": [
    {
     "name": "stdout",
     "output_type": "stream",
     "text": [
      "✅ Conectado com sucesso: PostgreSQL 17.4 on x86_64-pc-linux-gnu, compiled by gcc (GCC) 12.4.0, 64-bit\n",
      "📄 Tabelas no banco:\n",
      "  - pnad\n"
     ]
    }
   ],
   "source": [
    "test_connection(engine)"
   ]
  },
  {
   "cell_type": "markdown",
   "id": "664b3459",
   "metadata": {},
   "source": [
    "### Inserindo nossos dados"
   ]
  },
  {
   "cell_type": "code",
   "execution_count": 19,
   "id": "ae87f176",
   "metadata": {},
   "outputs": [
    {
     "data": {
      "text/plain": [
       "(1149197, 31)"
      ]
     },
     "execution_count": 19,
     "metadata": {},
     "output_type": "execute_result"
    }
   ],
   "source": [
    "df = pd.read_parquet(LOCAL_GOLD)\n",
    "\n",
    "df.shape"
   ]
  },
  {
   "cell_type": "code",
   "execution_count": null,
   "id": "b97120b6",
   "metadata": {},
   "outputs": [
    {
     "ename": "PendingRollbackError",
     "evalue": "Can't reconnect until invalid transaction is rolled back.  Please rollback() fully before proceeding (Background on this error at: https://sqlalche.me/e/20/8s2b)",
     "output_type": "error",
     "traceback": [
      "\u001b[31m---------------------------------------------------------------------------\u001b[39m",
      "\u001b[31mPendingRollbackError\u001b[39m                      Traceback (most recent call last)",
      "\u001b[36mCell\u001b[39m\u001b[36m \u001b[39m\u001b[32mIn[20]\u001b[39m\u001b[32m, line 1\u001b[39m\n\u001b[32m----> \u001b[39m\u001b[32m1\u001b[39m \u001b[43mdf\u001b[49m\u001b[43m.\u001b[49m\u001b[43mto_sql\u001b[49m\u001b[43m(\u001b[49m\n\u001b[32m      2\u001b[39m \u001b[43m    \u001b[49m\u001b[43mname\u001b[49m\u001b[43m \u001b[49m\u001b[43m=\u001b[49m\u001b[43m \u001b[49m\u001b[33;43m'\u001b[39;49m\u001b[33;43mpnad\u001b[39;49m\u001b[33;43m'\u001b[39;49m\u001b[43m,\u001b[49m\n\u001b[32m      3\u001b[39m \u001b[43m    \u001b[49m\u001b[43mcon\u001b[49m\u001b[43m \u001b[49m\u001b[43m=\u001b[49m\u001b[43m \u001b[49m\u001b[43mengine\u001b[49m\u001b[43m,\u001b[49m\n\u001b[32m      4\u001b[39m \u001b[43m    \u001b[49m\u001b[43mif_exists\u001b[49m\u001b[43m \u001b[49m\u001b[43m=\u001b[49m\u001b[43m \u001b[49m\u001b[33;43m'\u001b[39;49m\u001b[33;43mappend\u001b[39;49m\u001b[33;43m'\u001b[39;49m\u001b[43m,\u001b[49m\n\u001b[32m      5\u001b[39m \u001b[43m    \u001b[49m\u001b[43mindex\u001b[49m\u001b[43m \u001b[49m\u001b[43m=\u001b[49m\u001b[43m \u001b[49m\u001b[38;5;28;43;01mFalse\u001b[39;49;00m\n\u001b[32m      6\u001b[39m \u001b[43m)\u001b[49m\n",
      "\u001b[36mFile \u001b[39m\u001b[32mc:\\Users\\Victoria\\anaconda3\\envs\\venv\\Lib\\site-packages\\pandas\\util\\_decorators.py:333\u001b[39m, in \u001b[36mdeprecate_nonkeyword_arguments.<locals>.decorate.<locals>.wrapper\u001b[39m\u001b[34m(*args, **kwargs)\u001b[39m\n\u001b[32m    327\u001b[39m \u001b[38;5;28;01mif\u001b[39;00m \u001b[38;5;28mlen\u001b[39m(args) > num_allow_args:\n\u001b[32m    328\u001b[39m     warnings.warn(\n\u001b[32m    329\u001b[39m         msg.format(arguments=_format_argument_list(allow_args)),\n\u001b[32m    330\u001b[39m         \u001b[38;5;167;01mFutureWarning\u001b[39;00m,\n\u001b[32m    331\u001b[39m         stacklevel=find_stack_level(),\n\u001b[32m    332\u001b[39m     )\n\u001b[32m--> \u001b[39m\u001b[32m333\u001b[39m \u001b[38;5;28;01mreturn\u001b[39;00m \u001b[43mfunc\u001b[49m\u001b[43m(\u001b[49m\u001b[43m*\u001b[49m\u001b[43margs\u001b[49m\u001b[43m,\u001b[49m\u001b[43m \u001b[49m\u001b[43m*\u001b[49m\u001b[43m*\u001b[49m\u001b[43mkwargs\u001b[49m\u001b[43m)\u001b[49m\n",
      "\u001b[36mFile \u001b[39m\u001b[32mc:\\Users\\Victoria\\anaconda3\\envs\\venv\\Lib\\site-packages\\pandas\\core\\generic.py:3106\u001b[39m, in \u001b[36mNDFrame.to_sql\u001b[39m\u001b[34m(self, name, con, schema, if_exists, index, index_label, chunksize, dtype, method)\u001b[39m\n\u001b[32m   2908\u001b[39m \u001b[38;5;250m\u001b[39m\u001b[33;03m\"\"\"\u001b[39;00m\n\u001b[32m   2909\u001b[39m \u001b[33;03mWrite records stored in a DataFrame to a SQL database.\u001b[39;00m\n\u001b[32m   2910\u001b[39m \n\u001b[32m   (...)\u001b[39m\u001b[32m   3102\u001b[39m \u001b[33;03m[(1,), (None,), (2,)]\u001b[39;00m\n\u001b[32m   3103\u001b[39m \u001b[33;03m\"\"\"\u001b[39;00m  \u001b[38;5;66;03m# noqa: E501\u001b[39;00m\n\u001b[32m   3104\u001b[39m \u001b[38;5;28;01mfrom\u001b[39;00m\u001b[38;5;250m \u001b[39m\u001b[34;01mpandas\u001b[39;00m\u001b[34;01m.\u001b[39;00m\u001b[34;01mio\u001b[39;00m\u001b[38;5;250m \u001b[39m\u001b[38;5;28;01mimport\u001b[39;00m sql\n\u001b[32m-> \u001b[39m\u001b[32m3106\u001b[39m \u001b[38;5;28;01mreturn\u001b[39;00m \u001b[43msql\u001b[49m\u001b[43m.\u001b[49m\u001b[43mto_sql\u001b[49m\u001b[43m(\u001b[49m\n\u001b[32m   3107\u001b[39m \u001b[43m    \u001b[49m\u001b[38;5;28;43mself\u001b[39;49m\u001b[43m,\u001b[49m\n\u001b[32m   3108\u001b[39m \u001b[43m    \u001b[49m\u001b[43mname\u001b[49m\u001b[43m,\u001b[49m\n\u001b[32m   3109\u001b[39m \u001b[43m    \u001b[49m\u001b[43mcon\u001b[49m\u001b[43m,\u001b[49m\n\u001b[32m   3110\u001b[39m \u001b[43m    \u001b[49m\u001b[43mschema\u001b[49m\u001b[43m=\u001b[49m\u001b[43mschema\u001b[49m\u001b[43m,\u001b[49m\n\u001b[32m   3111\u001b[39m \u001b[43m    \u001b[49m\u001b[43mif_exists\u001b[49m\u001b[43m=\u001b[49m\u001b[43mif_exists\u001b[49m\u001b[43m,\u001b[49m\n\u001b[32m   3112\u001b[39m \u001b[43m    \u001b[49m\u001b[43mindex\u001b[49m\u001b[43m=\u001b[49m\u001b[43mindex\u001b[49m\u001b[43m,\u001b[49m\n\u001b[32m   3113\u001b[39m \u001b[43m    \u001b[49m\u001b[43mindex_label\u001b[49m\u001b[43m=\u001b[49m\u001b[43mindex_label\u001b[49m\u001b[43m,\u001b[49m\n\u001b[32m   3114\u001b[39m \u001b[43m    \u001b[49m\u001b[43mchunksize\u001b[49m\u001b[43m=\u001b[49m\u001b[43mchunksize\u001b[49m\u001b[43m,\u001b[49m\n\u001b[32m   3115\u001b[39m \u001b[43m    \u001b[49m\u001b[43mdtype\u001b[49m\u001b[43m=\u001b[49m\u001b[43mdtype\u001b[49m\u001b[43m,\u001b[49m\n\u001b[32m   3116\u001b[39m \u001b[43m    \u001b[49m\u001b[43mmethod\u001b[49m\u001b[43m=\u001b[49m\u001b[43mmethod\u001b[49m\u001b[43m,\u001b[49m\n\u001b[32m   3117\u001b[39m \u001b[43m\u001b[49m\u001b[43m)\u001b[49m\n",
      "\u001b[36mFile \u001b[39m\u001b[32mc:\\Users\\Victoria\\anaconda3\\envs\\venv\\Lib\\site-packages\\pandas\\io\\sql.py:843\u001b[39m, in \u001b[36mto_sql\u001b[39m\u001b[34m(frame, name, con, schema, if_exists, index, index_label, chunksize, dtype, method, engine, **engine_kwargs)\u001b[39m\n\u001b[32m    838\u001b[39m \u001b[38;5;28;01melif\u001b[39;00m \u001b[38;5;129;01mnot\u001b[39;00m \u001b[38;5;28misinstance\u001b[39m(frame, DataFrame):\n\u001b[32m    839\u001b[39m     \u001b[38;5;28;01mraise\u001b[39;00m \u001b[38;5;167;01mNotImplementedError\u001b[39;00m(\n\u001b[32m    840\u001b[39m         \u001b[33m\"\u001b[39m\u001b[33m'\u001b[39m\u001b[33mframe\u001b[39m\u001b[33m'\u001b[39m\u001b[33m argument should be either a Series or a DataFrame\u001b[39m\u001b[33m\"\u001b[39m\n\u001b[32m    841\u001b[39m     )\n\u001b[32m--> \u001b[39m\u001b[32m843\u001b[39m \u001b[43m\u001b[49m\u001b[38;5;28;43;01mwith\u001b[39;49;00m\u001b[43m \u001b[49m\u001b[43mpandasSQL_builder\u001b[49m\u001b[43m(\u001b[49m\u001b[43mcon\u001b[49m\u001b[43m,\u001b[49m\u001b[43m \u001b[49m\u001b[43mschema\u001b[49m\u001b[43m=\u001b[49m\u001b[43mschema\u001b[49m\u001b[43m,\u001b[49m\u001b[43m \u001b[49m\u001b[43mneed_transaction\u001b[49m\u001b[43m=\u001b[49m\u001b[38;5;28;43;01mTrue\u001b[39;49;00m\u001b[43m)\u001b[49m\u001b[43m \u001b[49m\u001b[38;5;28;43;01mas\u001b[39;49;00m\u001b[43m \u001b[49m\u001b[43mpandas_sql\u001b[49m\u001b[43m:\u001b[49m\n\u001b[32m    844\u001b[39m \u001b[43m    \u001b[49m\u001b[38;5;28;43;01mreturn\u001b[39;49;00m\u001b[43m \u001b[49m\u001b[43mpandas_sql\u001b[49m\u001b[43m.\u001b[49m\u001b[43mto_sql\u001b[49m\u001b[43m(\u001b[49m\n\u001b[32m    845\u001b[39m \u001b[43m        \u001b[49m\u001b[43mframe\u001b[49m\u001b[43m,\u001b[49m\n\u001b[32m    846\u001b[39m \u001b[43m        \u001b[49m\u001b[43mname\u001b[49m\u001b[43m,\u001b[49m\n\u001b[32m   (...)\u001b[39m\u001b[32m    855\u001b[39m \u001b[43m        \u001b[49m\u001b[43m*\u001b[49m\u001b[43m*\u001b[49m\u001b[43mengine_kwargs\u001b[49m\u001b[43m,\u001b[49m\n\u001b[32m    856\u001b[39m \u001b[43m    \u001b[49m\u001b[43m)\u001b[49m\n",
      "\u001b[36mFile \u001b[39m\u001b[32mc:\\Users\\Victoria\\anaconda3\\envs\\venv\\Lib\\site-packages\\pandas\\io\\sql.py:1657\u001b[39m, in \u001b[36mSQLDatabase.__exit__\u001b[39m\u001b[34m(self, *args)\u001b[39m\n\u001b[32m   1655\u001b[39m \u001b[38;5;28;01mdef\u001b[39;00m\u001b[38;5;250m \u001b[39m\u001b[34m__exit__\u001b[39m(\u001b[38;5;28mself\u001b[39m, *args) -> \u001b[38;5;28;01mNone\u001b[39;00m:\n\u001b[32m   1656\u001b[39m     \u001b[38;5;28;01mif\u001b[39;00m \u001b[38;5;129;01mnot\u001b[39;00m \u001b[38;5;28mself\u001b[39m.returns_generator:\n\u001b[32m-> \u001b[39m\u001b[32m1657\u001b[39m         \u001b[38;5;28;43mself\u001b[39;49m\u001b[43m.\u001b[49m\u001b[43mexit_stack\u001b[49m\u001b[43m.\u001b[49m\u001b[43mclose\u001b[49m\u001b[43m(\u001b[49m\u001b[43m)\u001b[49m\n",
      "\u001b[36mFile \u001b[39m\u001b[32mc:\\Users\\Victoria\\anaconda3\\envs\\venv\\Lib\\contextlib.py:609\u001b[39m, in \u001b[36mExitStack.close\u001b[39m\u001b[34m(self)\u001b[39m\n\u001b[32m    607\u001b[39m \u001b[38;5;28;01mdef\u001b[39;00m\u001b[38;5;250m \u001b[39m\u001b[34mclose\u001b[39m(\u001b[38;5;28mself\u001b[39m):\n\u001b[32m    608\u001b[39m \u001b[38;5;250m    \u001b[39m\u001b[33;03m\"\"\"Immediately unwind the context stack.\"\"\"\u001b[39;00m\n\u001b[32m--> \u001b[39m\u001b[32m609\u001b[39m     \u001b[38;5;28;43mself\u001b[39;49m\u001b[43m.\u001b[49m\u001b[34;43m__exit__\u001b[39;49m\u001b[43m(\u001b[49m\u001b[38;5;28;43;01mNone\u001b[39;49;00m\u001b[43m,\u001b[49m\u001b[43m \u001b[49m\u001b[38;5;28;43;01mNone\u001b[39;49;00m\u001b[43m,\u001b[49m\u001b[43m \u001b[49m\u001b[38;5;28;43;01mNone\u001b[39;49;00m\u001b[43m)\u001b[49m\n",
      "\u001b[36mFile \u001b[39m\u001b[32mc:\\Users\\Victoria\\anaconda3\\envs\\venv\\Lib\\contextlib.py:601\u001b[39m, in \u001b[36mExitStack.__exit__\u001b[39m\u001b[34m(self, *exc_details)\u001b[39m\n\u001b[32m    597\u001b[39m \u001b[38;5;28;01mtry\u001b[39;00m:\n\u001b[32m    598\u001b[39m     \u001b[38;5;66;03m# bare \"raise exc_details[1]\" replaces our carefully\u001b[39;00m\n\u001b[32m    599\u001b[39m     \u001b[38;5;66;03m# set-up context\u001b[39;00m\n\u001b[32m    600\u001b[39m     fixed_ctx = exc_details[\u001b[32m1\u001b[39m].__context__\n\u001b[32m--> \u001b[39m\u001b[32m601\u001b[39m     \u001b[38;5;28;01mraise\u001b[39;00m exc_details[\u001b[32m1\u001b[39m]\n\u001b[32m    602\u001b[39m \u001b[38;5;28;01mexcept\u001b[39;00m \u001b[38;5;167;01mBaseException\u001b[39;00m:\n\u001b[32m    603\u001b[39m     exc_details[\u001b[32m1\u001b[39m].__context__ = fixed_ctx\n",
      "\u001b[36mFile \u001b[39m\u001b[32mc:\\Users\\Victoria\\anaconda3\\envs\\venv\\Lib\\contextlib.py:586\u001b[39m, in \u001b[36mExitStack.__exit__\u001b[39m\u001b[34m(self, *exc_details)\u001b[39m\n\u001b[32m    584\u001b[39m \u001b[38;5;28;01massert\u001b[39;00m is_sync\n\u001b[32m    585\u001b[39m \u001b[38;5;28;01mtry\u001b[39;00m:\n\u001b[32m--> \u001b[39m\u001b[32m586\u001b[39m     \u001b[38;5;28;01mif\u001b[39;00m \u001b[43mcb\u001b[49m\u001b[43m(\u001b[49m\u001b[43m*\u001b[49m\u001b[43mexc_details\u001b[49m\u001b[43m)\u001b[49m:\n\u001b[32m    587\u001b[39m         suppressed_exc = \u001b[38;5;28;01mTrue\u001b[39;00m\n\u001b[32m    588\u001b[39m         pending_raise = \u001b[38;5;28;01mFalse\u001b[39;00m\n",
      "\u001b[36mFile \u001b[39m\u001b[32mc:\\Users\\Victoria\\anaconda3\\envs\\venv\\Lib\\site-packages\\sqlalchemy\\engine\\util.py:147\u001b[39m, in \u001b[36mTransactionalContext.__exit__\u001b[39m\u001b[34m(self, type_, value, traceback)\u001b[39m\n\u001b[32m    145\u001b[39m     \u001b[38;5;28mself\u001b[39m.commit()\n\u001b[32m    146\u001b[39m \u001b[38;5;28;01mexcept\u001b[39;00m:\n\u001b[32m--> \u001b[39m\u001b[32m147\u001b[39m \u001b[43m    \u001b[49m\u001b[38;5;28;43;01mwith\u001b[39;49;00m\u001b[43m \u001b[49m\u001b[43mutil\u001b[49m\u001b[43m.\u001b[49m\u001b[43msafe_reraise\u001b[49m\u001b[43m(\u001b[49m\u001b[43m)\u001b[49m\u001b[43m:\u001b[49m\n\u001b[32m    148\u001b[39m \u001b[43m        \u001b[49m\u001b[38;5;28;43;01mif\u001b[39;49;00m\u001b[43m \u001b[49m\u001b[38;5;28;43mself\u001b[39;49m\u001b[43m.\u001b[49m\u001b[43m_rollback_can_be_called\u001b[49m\u001b[43m(\u001b[49m\u001b[43m)\u001b[49m\u001b[43m:\u001b[49m\n\u001b[32m    149\u001b[39m \u001b[43m            \u001b[49m\u001b[38;5;28;43mself\u001b[39;49m\u001b[43m.\u001b[49m\u001b[43mrollback\u001b[49m\u001b[43m(\u001b[49m\u001b[43m)\u001b[49m\n",
      "\u001b[36mFile \u001b[39m\u001b[32mc:\\Users\\Victoria\\anaconda3\\envs\\venv\\Lib\\site-packages\\sqlalchemy\\util\\langhelpers.py:224\u001b[39m, in \u001b[36msafe_reraise.__exit__\u001b[39m\u001b[34m(self, type_, value, traceback)\u001b[39m\n\u001b[32m    222\u001b[39m     \u001b[38;5;28;01massert\u001b[39;00m exc_value \u001b[38;5;129;01mis\u001b[39;00m \u001b[38;5;129;01mnot\u001b[39;00m \u001b[38;5;28;01mNone\u001b[39;00m\n\u001b[32m    223\u001b[39m     \u001b[38;5;28mself\u001b[39m._exc_info = \u001b[38;5;28;01mNone\u001b[39;00m  \u001b[38;5;66;03m# remove potential circular references\u001b[39;00m\n\u001b[32m--> \u001b[39m\u001b[32m224\u001b[39m     \u001b[38;5;28;01mraise\u001b[39;00m exc_value.with_traceback(exc_tb)\n\u001b[32m    225\u001b[39m \u001b[38;5;28;01melse\u001b[39;00m:\n\u001b[32m    226\u001b[39m     \u001b[38;5;28mself\u001b[39m._exc_info = \u001b[38;5;28;01mNone\u001b[39;00m  \u001b[38;5;66;03m# remove potential circular references\u001b[39;00m\n",
      "\u001b[36mFile \u001b[39m\u001b[32mc:\\Users\\Victoria\\anaconda3\\envs\\venv\\Lib\\site-packages\\sqlalchemy\\engine\\util.py:145\u001b[39m, in \u001b[36mTransactionalContext.__exit__\u001b[39m\u001b[34m(self, type_, value, traceback)\u001b[39m\n\u001b[32m    143\u001b[39m \u001b[38;5;28;01mif\u001b[39;00m type_ \u001b[38;5;129;01mis\u001b[39;00m \u001b[38;5;28;01mNone\u001b[39;00m \u001b[38;5;129;01mand\u001b[39;00m \u001b[38;5;28mself\u001b[39m._transaction_is_active():\n\u001b[32m    144\u001b[39m     \u001b[38;5;28;01mtry\u001b[39;00m:\n\u001b[32m--> \u001b[39m\u001b[32m145\u001b[39m         \u001b[38;5;28;43mself\u001b[39;49m\u001b[43m.\u001b[49m\u001b[43mcommit\u001b[49m\u001b[43m(\u001b[49m\u001b[43m)\u001b[49m\n\u001b[32m    146\u001b[39m     \u001b[38;5;28;01mexcept\u001b[39;00m:\n\u001b[32m    147\u001b[39m         \u001b[38;5;28;01mwith\u001b[39;00m util.safe_reraise():\n",
      "\u001b[36mFile \u001b[39m\u001b[32mc:\\Users\\Victoria\\anaconda3\\envs\\venv\\Lib\\site-packages\\sqlalchemy\\engine\\base.py:2632\u001b[39m, in \u001b[36mTransaction.commit\u001b[39m\u001b[34m(self)\u001b[39m\n\u001b[32m   2616\u001b[39m \u001b[38;5;250m\u001b[39m\u001b[33;03m\"\"\"Commit this :class:`.Transaction`.\u001b[39;00m\n\u001b[32m   2617\u001b[39m \n\u001b[32m   2618\u001b[39m \u001b[33;03mThe implementation of this may vary based on the type of transaction in\u001b[39;00m\n\u001b[32m   (...)\u001b[39m\u001b[32m   2629\u001b[39m \n\u001b[32m   2630\u001b[39m \u001b[33;03m\"\"\"\u001b[39;00m\n\u001b[32m   2631\u001b[39m \u001b[38;5;28;01mtry\u001b[39;00m:\n\u001b[32m-> \u001b[39m\u001b[32m2632\u001b[39m     \u001b[38;5;28;43mself\u001b[39;49m\u001b[43m.\u001b[49m\u001b[43m_do_commit\u001b[49m\u001b[43m(\u001b[49m\u001b[43m)\u001b[49m\n\u001b[32m   2633\u001b[39m \u001b[38;5;28;01mfinally\u001b[39;00m:\n\u001b[32m   2634\u001b[39m     \u001b[38;5;28;01massert\u001b[39;00m \u001b[38;5;129;01mnot\u001b[39;00m \u001b[38;5;28mself\u001b[39m.is_active\n",
      "\u001b[36mFile \u001b[39m\u001b[32mc:\\Users\\Victoria\\anaconda3\\envs\\venv\\Lib\\site-packages\\sqlalchemy\\engine\\base.py:2737\u001b[39m, in \u001b[36mRootTransaction._do_commit\u001b[39m\u001b[34m(self)\u001b[39m\n\u001b[32m   2734\u001b[39m \u001b[38;5;28;01massert\u001b[39;00m \u001b[38;5;28mself\u001b[39m.connection._transaction \u001b[38;5;129;01mis\u001b[39;00m \u001b[38;5;28mself\u001b[39m\n\u001b[32m   2736\u001b[39m \u001b[38;5;28;01mtry\u001b[39;00m:\n\u001b[32m-> \u001b[39m\u001b[32m2737\u001b[39m     \u001b[38;5;28;43mself\u001b[39;49m\u001b[43m.\u001b[49m\u001b[43m_connection_commit_impl\u001b[49m\u001b[43m(\u001b[49m\u001b[43m)\u001b[49m\n\u001b[32m   2738\u001b[39m \u001b[38;5;28;01mfinally\u001b[39;00m:\n\u001b[32m   2739\u001b[39m     \u001b[38;5;66;03m# whether or not commit succeeds, cancel any\u001b[39;00m\n\u001b[32m   2740\u001b[39m     \u001b[38;5;66;03m# nested transactions, make this transaction \"inactive\"\u001b[39;00m\n\u001b[32m   2741\u001b[39m     \u001b[38;5;66;03m# and remove it as a reset agent\u001b[39;00m\n\u001b[32m   2742\u001b[39m     \u001b[38;5;28;01mif\u001b[39;00m \u001b[38;5;28mself\u001b[39m.connection._nested_transaction:\n",
      "\u001b[36mFile \u001b[39m\u001b[32mc:\\Users\\Victoria\\anaconda3\\envs\\venv\\Lib\\site-packages\\sqlalchemy\\engine\\base.py:2708\u001b[39m, in \u001b[36mRootTransaction._connection_commit_impl\u001b[39m\u001b[34m(self)\u001b[39m\n\u001b[32m   2707\u001b[39m \u001b[38;5;28;01mdef\u001b[39;00m\u001b[38;5;250m \u001b[39m\u001b[34m_connection_commit_impl\u001b[39m(\u001b[38;5;28mself\u001b[39m) -> \u001b[38;5;28;01mNone\u001b[39;00m:\n\u001b[32m-> \u001b[39m\u001b[32m2708\u001b[39m     \u001b[38;5;28;43mself\u001b[39;49m\u001b[43m.\u001b[49m\u001b[43mconnection\u001b[49m\u001b[43m.\u001b[49m\u001b[43m_commit_impl\u001b[49m\u001b[43m(\u001b[49m\u001b[43m)\u001b[49m\n",
      "\u001b[36mFile \u001b[39m\u001b[32mc:\\Users\\Victoria\\anaconda3\\envs\\venv\\Lib\\site-packages\\sqlalchemy\\engine\\base.py:1147\u001b[39m, in \u001b[36mConnection._commit_impl\u001b[39m\u001b[34m(self)\u001b[39m\n\u001b[32m   1145\u001b[39m     \u001b[38;5;28mself\u001b[39m.engine.dialect.do_commit(\u001b[38;5;28mself\u001b[39m.connection)\n\u001b[32m   1146\u001b[39m \u001b[38;5;28;01mexcept\u001b[39;00m \u001b[38;5;167;01mBaseException\u001b[39;00m \u001b[38;5;28;01mas\u001b[39;00m e:\n\u001b[32m-> \u001b[39m\u001b[32m1147\u001b[39m     \u001b[38;5;28;43mself\u001b[39;49m\u001b[43m.\u001b[49m\u001b[43m_handle_dbapi_exception\u001b[49m\u001b[43m(\u001b[49m\u001b[43me\u001b[49m\u001b[43m,\u001b[49m\u001b[43m \u001b[49m\u001b[38;5;28;43;01mNone\u001b[39;49;00m\u001b[43m,\u001b[49m\u001b[43m \u001b[49m\u001b[38;5;28;43;01mNone\u001b[39;49;00m\u001b[43m,\u001b[49m\u001b[43m \u001b[49m\u001b[38;5;28;43;01mNone\u001b[39;49;00m\u001b[43m,\u001b[49m\u001b[43m \u001b[49m\u001b[38;5;28;43;01mNone\u001b[39;49;00m\u001b[43m)\u001b[49m\n",
      "\u001b[36mFile \u001b[39m\u001b[32mc:\\Users\\Victoria\\anaconda3\\envs\\venv\\Lib\\site-packages\\sqlalchemy\\engine\\base.py:2358\u001b[39m, in \u001b[36mConnection._handle_dbapi_exception\u001b[39m\u001b[34m(self, e, statement, parameters, cursor, context, is_sub_exec)\u001b[39m\n\u001b[32m   2356\u001b[39m     \u001b[38;5;28;01melse\u001b[39;00m:\n\u001b[32m   2357\u001b[39m         \u001b[38;5;28;01massert\u001b[39;00m exc_info[\u001b[32m1\u001b[39m] \u001b[38;5;129;01mis\u001b[39;00m \u001b[38;5;129;01mnot\u001b[39;00m \u001b[38;5;28;01mNone\u001b[39;00m\n\u001b[32m-> \u001b[39m\u001b[32m2358\u001b[39m         \u001b[38;5;28;01mraise\u001b[39;00m exc_info[\u001b[32m1\u001b[39m].with_traceback(exc_info[\u001b[32m2\u001b[39m])\n\u001b[32m   2359\u001b[39m \u001b[38;5;28;01mfinally\u001b[39;00m:\n\u001b[32m   2360\u001b[39m     \u001b[38;5;28;01mdel\u001b[39;00m \u001b[38;5;28mself\u001b[39m._reentrant_error\n",
      "\u001b[36mFile \u001b[39m\u001b[32mc:\\Users\\Victoria\\anaconda3\\envs\\venv\\Lib\\site-packages\\sqlalchemy\\engine\\base.py:1145\u001b[39m, in \u001b[36mConnection._commit_impl\u001b[39m\u001b[34m(self)\u001b[39m\n\u001b[32m   1143\u001b[39m         \u001b[38;5;28mself\u001b[39m._log_info(\u001b[33m\"\u001b[39m\u001b[33mCOMMIT\u001b[39m\u001b[33m\"\u001b[39m)\n\u001b[32m   1144\u001b[39m \u001b[38;5;28;01mtry\u001b[39;00m:\n\u001b[32m-> \u001b[39m\u001b[32m1145\u001b[39m     \u001b[38;5;28mself\u001b[39m.engine.dialect.do_commit(\u001b[38;5;28;43mself\u001b[39;49m\u001b[43m.\u001b[49m\u001b[43mconnection\u001b[49m)\n\u001b[32m   1146\u001b[39m \u001b[38;5;28;01mexcept\u001b[39;00m \u001b[38;5;167;01mBaseException\u001b[39;00m \u001b[38;5;28;01mas\u001b[39;00m e:\n\u001b[32m   1147\u001b[39m     \u001b[38;5;28mself\u001b[39m._handle_dbapi_exception(e, \u001b[38;5;28;01mNone\u001b[39;00m, \u001b[38;5;28;01mNone\u001b[39;00m, \u001b[38;5;28;01mNone\u001b[39;00m, \u001b[38;5;28;01mNone\u001b[39;00m)\n",
      "\u001b[36mFile \u001b[39m\u001b[32mc:\\Users\\Victoria\\anaconda3\\envs\\venv\\Lib\\site-packages\\sqlalchemy\\engine\\base.py:581\u001b[39m, in \u001b[36mConnection.connection\u001b[39m\u001b[34m(self)\u001b[39m\n\u001b[32m    579\u001b[39m \u001b[38;5;28;01mif\u001b[39;00m \u001b[38;5;28mself\u001b[39m._dbapi_connection \u001b[38;5;129;01mis\u001b[39;00m \u001b[38;5;28;01mNone\u001b[39;00m:\n\u001b[32m    580\u001b[39m     \u001b[38;5;28;01mtry\u001b[39;00m:\n\u001b[32m--> \u001b[39m\u001b[32m581\u001b[39m         \u001b[38;5;28;01mreturn\u001b[39;00m \u001b[38;5;28;43mself\u001b[39;49m\u001b[43m.\u001b[49m\u001b[43m_revalidate_connection\u001b[49m\u001b[43m(\u001b[49m\u001b[43m)\u001b[49m\n\u001b[32m    582\u001b[39m     \u001b[38;5;28;01mexcept\u001b[39;00m (exc.PendingRollbackError, exc.ResourceClosedError):\n\u001b[32m    583\u001b[39m         \u001b[38;5;28;01mraise\u001b[39;00m\n",
      "\u001b[36mFile \u001b[39m\u001b[32mc:\\Users\\Victoria\\anaconda3\\envs\\venv\\Lib\\site-packages\\sqlalchemy\\engine\\base.py:673\u001b[39m, in \u001b[36mConnection._revalidate_connection\u001b[39m\u001b[34m(self)\u001b[39m\n\u001b[32m    671\u001b[39m \u001b[38;5;28;01mif\u001b[39;00m \u001b[38;5;28mself\u001b[39m.__can_reconnect \u001b[38;5;129;01mand\u001b[39;00m \u001b[38;5;28mself\u001b[39m.invalidated:\n\u001b[32m    672\u001b[39m     \u001b[38;5;28;01mif\u001b[39;00m \u001b[38;5;28mself\u001b[39m._transaction \u001b[38;5;129;01mis\u001b[39;00m \u001b[38;5;129;01mnot\u001b[39;00m \u001b[38;5;28;01mNone\u001b[39;00m:\n\u001b[32m--> \u001b[39m\u001b[32m673\u001b[39m         \u001b[38;5;28;43mself\u001b[39;49m\u001b[43m.\u001b[49m\u001b[43m_invalid_transaction\u001b[49m\u001b[43m(\u001b[49m\u001b[43m)\u001b[49m\n\u001b[32m    674\u001b[39m     \u001b[38;5;28mself\u001b[39m._dbapi_connection = \u001b[38;5;28mself\u001b[39m.engine.raw_connection()\n\u001b[32m    675\u001b[39m     \u001b[38;5;28;01mreturn\u001b[39;00m \u001b[38;5;28mself\u001b[39m._dbapi_connection\n",
      "\u001b[36mFile \u001b[39m\u001b[32mc:\\Users\\Victoria\\anaconda3\\envs\\venv\\Lib\\site-packages\\sqlalchemy\\engine\\base.py:663\u001b[39m, in \u001b[36mConnection._invalid_transaction\u001b[39m\u001b[34m(self)\u001b[39m\n\u001b[32m    662\u001b[39m \u001b[38;5;28;01mdef\u001b[39;00m\u001b[38;5;250m \u001b[39m\u001b[34m_invalid_transaction\u001b[39m(\u001b[38;5;28mself\u001b[39m) -> NoReturn:\n\u001b[32m--> \u001b[39m\u001b[32m663\u001b[39m     \u001b[38;5;28;01mraise\u001b[39;00m exc.PendingRollbackError(\n\u001b[32m    664\u001b[39m         \u001b[33m\"\u001b[39m\u001b[33mCan\u001b[39m\u001b[33m'\u001b[39m\u001b[33mt reconnect until invalid \u001b[39m\u001b[38;5;132;01m%s\u001b[39;00m\u001b[33mtransaction is rolled \u001b[39m\u001b[33m\"\u001b[39m\n\u001b[32m    665\u001b[39m         \u001b[33m\"\u001b[39m\u001b[33mback.  Please rollback() fully before proceeding\u001b[39m\u001b[33m\"\u001b[39m\n\u001b[32m    666\u001b[39m         % (\u001b[33m\"\u001b[39m\u001b[33msavepoint \u001b[39m\u001b[33m\"\u001b[39m \u001b[38;5;28;01mif\u001b[39;00m \u001b[38;5;28mself\u001b[39m._nested_transaction \u001b[38;5;129;01mis\u001b[39;00m \u001b[38;5;129;01mnot\u001b[39;00m \u001b[38;5;28;01mNone\u001b[39;00m \u001b[38;5;28;01melse\u001b[39;00m \u001b[33m\"\u001b[39m\u001b[33m\"\u001b[39m),\n\u001b[32m    667\u001b[39m         code=\u001b[33m\"\u001b[39m\u001b[33m8s2b\u001b[39m\u001b[33m\"\u001b[39m,\n\u001b[32m    668\u001b[39m     )\n",
      "\u001b[31mPendingRollbackError\u001b[39m: Can't reconnect until invalid transaction is rolled back.  Please rollback() fully before proceeding (Background on this error at: https://sqlalche.me/e/20/8s2b)"
     ]
    }
   ],
   "source": [
    "df.to_sql(\n",
    "    name = 'pnad',\n",
    "    con = engine,\n",
    "    if_exists = 'append',\n",
    "    index = False,\n",
    "    method = 'multi',\n",
    "    chunksize = 100_000\n",
    ")"
   ]
  }
 ],
 "metadata": {
  "kernelspec": {
   "display_name": "venv",
   "language": "python",
   "name": "python3"
  },
  "language_info": {
   "codemirror_mode": {
    "name": "ipython",
    "version": 3
   },
   "file_extension": ".py",
   "mimetype": "text/x-python",
   "name": "python",
   "nbconvert_exporter": "python",
   "pygments_lexer": "ipython3",
   "version": "3.11.13"
  }
 },
 "nbformat": 4,
 "nbformat_minor": 5
}
